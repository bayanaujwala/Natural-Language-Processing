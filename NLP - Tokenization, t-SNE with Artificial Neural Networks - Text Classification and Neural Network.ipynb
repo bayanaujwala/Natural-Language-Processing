{
 "cells": [
  {
   "cell_type": "markdown",
   "metadata": {
    "id": "ni4T_dwEHFVa"
   },
   "source": [
    "## CS 6120: Natural Language Processing - Prof. Ahmad Uzair\n",
    "\n",
    "### Assignment 2: Text Classification and Neural Network\n",
    "### Total Points: 100 points"
   ]
  },
  {
   "cell_type": "markdown",
   "metadata": {
    "id": "loQ22M-bCubq"
   },
   "source": [
    "In Assignment 2, you will be dealing with text classification using Multinomial Naive Bayes and Neural Networks. You will also be dealing with vector visualization. In the previous assingment you implemented Bag of Words as the feature selection method. However, in this assignment you will be using TF-IDF Vectorization instead of Bag of Words. We recommend starting with this assignment a little early as the datasets are quite large and several parts of the assignment might take long duration to execute. "
   ]
  },
  {
   "cell_type": "markdown",
   "metadata": {
    "id": "Q3brglC1C0mZ"
   },
   "source": [
    "## Question 1 Text Classification"
   ]
  },
  {
   "cell_type": "markdown",
   "metadata": {
    "id": "IZ1y75IoC3rE"
   },
   "source": [
    "In the first question you will be dealing with Consumer Complaint Dataset. You are required to implement TF-IDF vectorization from scratch and perform Multinomial Naive Bayes Classification on dataset.\n",
    "You may use appropriate packages or modules for fitting the Multinomial Naive Bayes Model, however, the implementation of the TF-IDF Vectorization should be from the scratch."
   ]
  },
  {
   "cell_type": "code",
   "execution_count": 1,
   "metadata": {
    "id": "CmFf2INNDJRb"
   },
   "outputs": [],
   "source": [
    "#importing the libraries\n",
    "\n",
    "import numpy as np\n",
    "import sklearn\n",
    "from sklearn.feature_extraction.text import TfidfVectorizer\n",
    "from sklearn.datasets import fetch_20newsgroups\n",
    "from pprint import pprint\n",
    "from sklearn.feature_extraction.text import CountVectorizer\n",
    "from sklearn import preprocessing\n",
    "import pandas as pd\n",
    "import re\n",
    "import numpy as np\n",
    "from nltk.tokenize import  word_tokenize \n",
    "import nltk\n",
    "from sklearn.naive_bayes import MultinomialNB\n",
    "from sklearn import metrics\n",
    "import warnings\n",
    "warnings.filterwarnings('ignore')\n"
   ]
  },
  {
   "cell_type": "markdown",
   "metadata": {
    "id": "55uKXLxgV8hm"
   },
   "source": [
    "The consumer complaint dataset comprises around 5000 complaints on six products."
   ]
  },
  {
   "cell_type": "code",
   "execution_count": 2,
   "metadata": {
    "id": "AEp1SHe5DKCB"
   },
   "outputs": [],
   "source": [
    "# Read the csv file consumer_complaints.csv\n",
    "mydata_train = pd.read_csv(\"C:\\\\Datasets\\\\consumer_complaints.csv\")"
   ]
  },
  {
   "cell_type": "code",
   "execution_count": 3,
   "metadata": {
    "id": "OscOmcE0DMHa"
   },
   "outputs": [
    {
     "name": "stdout",
     "output_type": "stream",
     "text": [
      "['Credit card or prepaid card', 'Mortgage', 'Debt collection', 'Debt collection', 'Credit card or prepaid card', 'Vehicle loan or lease', 'Debt collection', 'Debt collection', 'Mortgage', 'Vehicle loan or lease', 'Mortgage', 'Credit card or prepaid card', 'Checking or savings account', 'Credit card or prepaid card', 'Debt collection', 'Mortgage', 'Credit card or prepaid card', 'Mortgage', 'Mortgage', 'Student loan', 'Mortgage', 'Mortgage', 'Debt collection', 'Debt collection', 'Credit card or prepaid card', 'Credit card or prepaid card', 'Mortgage', 'Mortgage', 'Credit card or prepaid card', 'Debt collection', 'Debt collection', 'Credit card or prepaid card', 'Checking or savings account', 'Debt collection', 'Debt collection', 'Vehicle loan or lease', 'Student loan', 'Vehicle loan or lease', 'Debt collection', 'Checking or savings account', 'Debt collection', 'Debt collection', 'Student loan', 'Student loan', 'Mortgage', 'Checking or savings account', 'Student loan', 'Vehicle loan or lease', 'Debt collection', 'Checking or savings account', 'Credit card or prepaid card', 'Credit card or prepaid card', 'Debt collection', 'Mortgage', 'Vehicle loan or lease', 'Credit card or prepaid card', 'Checking or savings account', 'Mortgage', 'Credit card or prepaid card', 'Debt collection', 'Checking or savings account', 'Checking or savings account', 'Debt collection', 'Mortgage', 'Checking or savings account', 'Vehicle loan or lease', 'Debt collection', 'Debt collection', 'Credit card or prepaid card', 'Debt collection', 'Debt collection', 'Mortgage', 'Mortgage', 'Debt collection', 'Credit card or prepaid card', 'Mortgage', 'Debt collection', 'Debt collection', 'Credit card or prepaid card', 'Checking or savings account', 'Credit card or prepaid card', 'Debt collection', 'Credit card or prepaid card', 'Student loan', 'Credit card or prepaid card', 'Checking or savings account', 'Debt collection', 'Debt collection', 'Debt collection', 'Debt collection', 'Credit card or prepaid card', 'Debt collection', 'Debt collection', 'Credit card or prepaid card', 'Vehicle loan or lease', 'Credit card or prepaid card', 'Debt collection', 'Checking or savings account', 'Credit card or prepaid card', 'Debt collection', 'Mortgage', 'Student loan', 'Debt collection', 'Mortgage', 'Checking or savings account', 'Mortgage', 'Credit card or prepaid card', 'Credit card or prepaid card', 'Debt collection', 'Debt collection', 'Checking or savings account', 'Credit card or prepaid card', 'Debt collection', 'Vehicle loan or lease', 'Credit card or prepaid card', 'Student loan', 'Credit card or prepaid card', 'Debt collection', 'Credit card or prepaid card', 'Credit card or prepaid card', 'Student loan', 'Debt collection', 'Debt collection', 'Checking or savings account', 'Debt collection', 'Credit card or prepaid card', 'Debt collection', 'Checking or savings account', 'Checking or savings account', 'Credit card or prepaid card', 'Debt collection', 'Checking or savings account', 'Debt collection', 'Debt collection', 'Student loan', 'Checking or savings account', 'Credit card or prepaid card', 'Debt collection', 'Debt collection', 'Mortgage', 'Student loan', 'Mortgage', 'Debt collection', 'Checking or savings account', 'Credit card or prepaid card', 'Debt collection', 'Debt collection', 'Mortgage', 'Credit card or prepaid card', 'Checking or savings account', 'Credit card or prepaid card', 'Mortgage', 'Debt collection', 'Debt collection', 'Mortgage', 'Debt collection', 'Mortgage', 'Checking or savings account', 'Mortgage', 'Debt collection', 'Mortgage', 'Mortgage', 'Debt collection', 'Checking or savings account', 'Checking or savings account', 'Mortgage', 'Debt collection', 'Debt collection', 'Debt collection', 'Debt collection', 'Debt collection', 'Student loan', 'Mortgage', 'Credit card or prepaid card', 'Credit card or prepaid card', 'Mortgage', 'Credit card or prepaid card', 'Credit card or prepaid card', 'Debt collection', 'Debt collection', 'Debt collection', 'Debt collection', 'Debt collection', 'Credit card or prepaid card', 'Checking or savings account', 'Checking or savings account', 'Credit card or prepaid card', 'Credit card or prepaid card', 'Checking or savings account', 'Debt collection', 'Vehicle loan or lease', 'Debt collection', 'Checking or savings account', 'Student loan', 'Debt collection', 'Debt collection', 'Checking or savings account', 'Debt collection', 'Credit card or prepaid card', 'Credit card or prepaid card', 'Debt collection', 'Debt collection', 'Checking or savings account', 'Debt collection', 'Debt collection', 'Debt collection', 'Debt collection', 'Debt collection', 'Mortgage', 'Credit card or prepaid card', 'Vehicle loan or lease', 'Vehicle loan or lease', 'Debt collection', 'Debt collection', 'Mortgage', 'Checking or savings account', 'Debt collection', 'Credit card or prepaid card', 'Debt collection', 'Mortgage', 'Debt collection', 'Mortgage', 'Debt collection', 'Credit card or prepaid card', 'Mortgage', 'Credit card or prepaid card', 'Credit card or prepaid card', 'Mortgage', 'Debt collection', 'Debt collection', 'Mortgage', 'Mortgage', 'Debt collection', 'Debt collection', 'Debt collection', 'Student loan', 'Credit card or prepaid card', 'Debt collection', 'Debt collection', 'Debt collection', 'Mortgage', 'Mortgage', 'Student loan', 'Debt collection', 'Mortgage', 'Debt collection', 'Student loan', 'Mortgage', 'Debt collection', 'Debt collection', 'Debt collection', 'Checking or savings account', 'Debt collection', 'Debt collection', 'Credit card or prepaid card', 'Checking or savings account', 'Debt collection', 'Debt collection', 'Credit card or prepaid card', 'Mortgage', 'Debt collection', 'Credit card or prepaid card', 'Debt collection', 'Checking or savings account', 'Debt collection', 'Credit card or prepaid card', 'Checking or savings account', 'Credit card or prepaid card', 'Checking or savings account', 'Checking or savings account', 'Debt collection', 'Credit card or prepaid card', 'Debt collection', 'Checking or savings account', 'Debt collection', 'Debt collection', 'Debt collection', 'Vehicle loan or lease', 'Vehicle loan or lease', 'Student loan', 'Mortgage', 'Debt collection', 'Debt collection', 'Checking or savings account', 'Vehicle loan or lease', 'Debt collection', 'Debt collection', 'Credit card or prepaid card', 'Checking or savings account', 'Mortgage', 'Debt collection', 'Student loan', 'Credit card or prepaid card', 'Credit card or prepaid card', 'Checking or savings account', 'Checking or savings account', 'Vehicle loan or lease', 'Checking or savings account', 'Checking or savings account', 'Mortgage', 'Debt collection', 'Credit card or prepaid card', 'Vehicle loan or lease', 'Credit card or prepaid card', 'Mortgage', 'Mortgage', 'Credit card or prepaid card', 'Student loan', 'Debt collection', 'Mortgage', 'Credit card or prepaid card', 'Credit card or prepaid card', 'Mortgage', 'Mortgage', 'Debt collection', 'Debt collection', 'Debt collection', 'Debt collection', 'Debt collection', 'Credit card or prepaid card', 'Credit card or prepaid card', 'Credit card or prepaid card', 'Debt collection', 'Checking or savings account', 'Debt collection', 'Credit card or prepaid card', 'Debt collection', 'Debt collection', 'Checking or savings account', 'Credit card or prepaid card', 'Checking or savings account', 'Debt collection', 'Credit card or prepaid card', 'Mortgage', 'Debt collection', 'Credit card or prepaid card', 'Debt collection', 'Debt collection', 'Mortgage', 'Debt collection', 'Checking or savings account', 'Debt collection', 'Mortgage', 'Checking or savings account', 'Vehicle loan or lease', 'Debt collection', 'Mortgage', 'Mortgage', 'Credit card or prepaid card', 'Credit card or prepaid card', 'Credit card or prepaid card', 'Debt collection', 'Credit card or prepaid card', 'Mortgage', 'Checking or savings account', 'Debt collection', 'Credit card or prepaid card', 'Debt collection', 'Debt collection', 'Credit card or prepaid card', 'Checking or savings account', 'Credit card or prepaid card', 'Credit card or prepaid card', 'Credit card or prepaid card', 'Debt collection', 'Checking or savings account', 'Credit card or prepaid card', 'Debt collection', 'Mortgage', 'Debt collection', 'Checking or savings account', 'Mortgage', 'Credit card or prepaid card', 'Credit card or prepaid card', 'Debt collection', 'Vehicle loan or lease', 'Debt collection', 'Credit card or prepaid card', 'Debt collection', 'Debt collection', 'Credit card or prepaid card', 'Mortgage', 'Mortgage', 'Mortgage', 'Debt collection', 'Mortgage', 'Debt collection', 'Mortgage', 'Debt collection', 'Debt collection', 'Mortgage', 'Mortgage', 'Mortgage', 'Debt collection', 'Mortgage', 'Checking or savings account', 'Checking or savings account', 'Credit card or prepaid card', 'Credit card or prepaid card', 'Vehicle loan or lease', 'Debt collection', 'Mortgage', 'Credit card or prepaid card', 'Credit card or prepaid card', 'Debt collection', 'Checking or savings account', 'Student loan', 'Checking or savings account', 'Mortgage', 'Debt collection', 'Debt collection', 'Debt collection', 'Checking or savings account', 'Mortgage', 'Mortgage', 'Debt collection', 'Mortgage', 'Debt collection', 'Credit card or prepaid card', 'Mortgage', 'Debt collection', 'Debt collection', 'Debt collection', 'Credit card or prepaid card', 'Mortgage', 'Debt collection', 'Debt collection', 'Debt collection', 'Student loan', 'Vehicle loan or lease', 'Credit card or prepaid card', 'Checking or savings account', 'Credit card or prepaid card', 'Credit card or prepaid card', 'Checking or savings account', 'Credit card or prepaid card', 'Debt collection', 'Student loan', 'Debt collection', 'Checking or savings account', 'Debt collection', 'Credit card or prepaid card', 'Debt collection', 'Credit card or prepaid card', 'Credit card or prepaid card', 'Credit card or prepaid card', 'Credit card or prepaid card', 'Debt collection', 'Credit card or prepaid card', 'Debt collection', 'Debt collection', 'Mortgage', 'Debt collection', 'Credit card or prepaid card', 'Credit card or prepaid card', 'Checking or savings account', 'Student loan', 'Debt collection', 'Credit card or prepaid card', 'Debt collection', 'Debt collection', 'Mortgage', 'Debt collection', 'Debt collection', 'Checking or savings account', 'Debt collection', 'Vehicle loan or lease', 'Debt collection', 'Credit card or prepaid card', 'Student loan', 'Credit card or prepaid card', 'Debt collection', 'Credit card or prepaid card', 'Credit card or prepaid card', 'Vehicle loan or lease', 'Debt collection', 'Student loan', 'Checking or savings account', 'Mortgage', 'Debt collection', 'Debt collection', 'Credit card or prepaid card', 'Checking or savings account', 'Debt collection', 'Mortgage', 'Checking or savings account', 'Mortgage', 'Checking or savings account', 'Debt collection', 'Credit card or prepaid card', 'Vehicle loan or lease', 'Credit card or prepaid card', 'Mortgage', 'Debt collection', 'Debt collection', 'Credit card or prepaid card', 'Debt collection', 'Credit card or prepaid card', 'Debt collection', 'Debt collection', 'Mortgage', 'Credit card or prepaid card', 'Vehicle loan or lease', 'Checking or savings account', 'Credit card or prepaid card', 'Credit card or prepaid card', 'Debt collection', 'Mortgage', 'Mortgage', 'Debt collection', 'Debt collection', 'Credit card or prepaid card', 'Checking or savings account', 'Debt collection', 'Debt collection', 'Debt collection', 'Debt collection', 'Debt collection', 'Debt collection', 'Debt collection', 'Debt collection', 'Debt collection', 'Debt collection', 'Debt collection', 'Debt collection', 'Credit card or prepaid card', 'Debt collection', 'Credit card or prepaid card', 'Credit card or prepaid card', 'Credit card or prepaid card', 'Debt collection', 'Debt collection', 'Credit card or prepaid card', 'Debt collection', 'Debt collection', 'Student loan', 'Debt collection', 'Debt collection', 'Debt collection', 'Debt collection', 'Student loan', 'Mortgage', 'Debt collection', 'Debt collection', 'Credit card or prepaid card', 'Mortgage', 'Debt collection', 'Debt collection', 'Vehicle loan or lease', 'Checking or savings account', 'Debt collection', 'Checking or savings account', 'Vehicle loan or lease', 'Debt collection', 'Debt collection', 'Mortgage', 'Credit card or prepaid card', 'Mortgage', 'Debt collection', 'Checking or savings account', 'Checking or savings account', 'Mortgage', 'Mortgage', 'Credit card or prepaid card', 'Debt collection', 'Mortgage', 'Debt collection', 'Debt collection', 'Checking or savings account', 'Credit card or prepaid card', 'Debt collection', 'Credit card or prepaid card', 'Debt collection', 'Vehicle loan or lease', 'Student loan', 'Mortgage', 'Credit card or prepaid card', 'Mortgage', 'Mortgage', 'Debt collection', 'Mortgage', 'Checking or savings account', 'Mortgage', 'Debt collection', 'Mortgage', 'Debt collection', 'Mortgage', 'Mortgage', 'Credit card or prepaid card', 'Debt collection', 'Checking or savings account', 'Checking or savings account', 'Debt collection', 'Credit card or prepaid card', 'Credit card or prepaid card', 'Student loan', 'Credit card or prepaid card', 'Credit card or prepaid card', 'Mortgage', 'Mortgage', 'Credit card or prepaid card', 'Credit card or prepaid card', 'Debt collection', 'Checking or savings account', 'Debt collection', 'Mortgage', 'Checking or savings account', 'Credit card or prepaid card', 'Debt collection', 'Credit card or prepaid card', 'Mortgage', 'Debt collection', 'Debt collection', 'Checking or savings account', 'Debt collection', 'Student loan', 'Checking or savings account', 'Vehicle loan or lease', 'Debt collection', 'Credit card or prepaid card', 'Credit card or prepaid card', 'Credit card or prepaid card', 'Mortgage', 'Credit card or prepaid card', 'Checking or savings account', 'Checking or savings account', 'Credit card or prepaid card', 'Debt collection', 'Mortgage', 'Credit card or prepaid card', 'Checking or savings account', 'Debt collection', 'Credit card or prepaid card', 'Debt collection', 'Debt collection', 'Credit card or prepaid card', 'Checking or savings account', 'Credit card or prepaid card', 'Mortgage', 'Checking or savings account', 'Debt collection', 'Debt collection', 'Credit card or prepaid card', 'Mortgage', 'Credit card or prepaid card', 'Credit card or prepaid card', 'Mortgage', 'Checking or savings account', 'Credit card or prepaid card', 'Debt collection', 'Debt collection', 'Checking or savings account', 'Debt collection', 'Credit card or prepaid card', 'Checking or savings account', 'Debt collection', 'Checking or savings account', 'Debt collection', 'Debt collection', 'Vehicle loan or lease', 'Credit card or prepaid card', 'Debt collection', 'Checking or savings account', 'Mortgage', 'Checking or savings account', 'Credit card or prepaid card', 'Credit card or prepaid card', 'Checking or savings account', 'Credit card or prepaid card', 'Mortgage', 'Credit card or prepaid card', 'Mortgage', 'Vehicle loan or lease', 'Debt collection', 'Debt collection', 'Debt collection', 'Debt collection', 'Debt collection', 'Mortgage', 'Mortgage', 'Vehicle loan or lease', 'Debt collection', 'Checking or savings account', 'Mortgage', 'Mortgage', 'Credit card or prepaid card', 'Debt collection', 'Credit card or prepaid card', 'Debt collection', 'Checking or savings account', 'Debt collection', 'Credit card or prepaid card', 'Debt collection', 'Student loan', 'Mortgage', 'Debt collection', 'Debt collection', 'Credit card or prepaid card', 'Debt collection', 'Checking or savings account', 'Debt collection', 'Debt collection', 'Credit card or prepaid card', 'Credit card or prepaid card', 'Credit card or prepaid card', 'Checking or savings account', 'Credit card or prepaid card', 'Debt collection', 'Debt collection', 'Debt collection', 'Debt collection', 'Debt collection', 'Debt collection', 'Debt collection', 'Mortgage', 'Debt collection', 'Debt collection', 'Credit card or prepaid card', 'Debt collection', 'Debt collection', 'Credit card or prepaid card', 'Debt collection', 'Debt collection', 'Debt collection', 'Vehicle loan or lease', 'Credit card or prepaid card', 'Credit card or prepaid card', 'Credit card or prepaid card', 'Debt collection', 'Debt collection', 'Credit card or prepaid card', 'Mortgage', 'Credit card or prepaid card', 'Debt collection', 'Debt collection', 'Debt collection', 'Credit card or prepaid card', 'Debt collection', 'Credit card or prepaid card', 'Checking or savings account', 'Credit card or prepaid card', 'Vehicle loan or lease', 'Vehicle loan or lease', 'Credit card or prepaid card', 'Mortgage', 'Vehicle loan or lease', 'Credit card or prepaid card', 'Credit card or prepaid card', 'Credit card or prepaid card', 'Debt collection', 'Debt collection', 'Checking or savings account', 'Credit card or prepaid card', 'Debt collection', 'Student loan', 'Credit card or prepaid card', 'Vehicle loan or lease', 'Credit card or prepaid card', 'Debt collection', 'Credit card or prepaid card', 'Credit card or prepaid card', 'Debt collection', 'Debt collection', 'Checking or savings account', 'Mortgage', 'Debt collection', 'Mortgage', 'Credit card or prepaid card', 'Checking or savings account', 'Credit card or prepaid card', 'Mortgage', 'Debt collection', 'Debt collection', 'Mortgage', 'Mortgage', 'Debt collection', 'Student loan', 'Checking or savings account', 'Debt collection', 'Student loan', 'Credit card or prepaid card', 'Debt collection', 'Mortgage', 'Checking or savings account', 'Student loan', 'Mortgage', 'Debt collection', 'Checking or savings account', 'Checking or savings account', 'Debt collection', 'Debt collection', 'Checking or savings account', 'Debt collection', 'Debt collection', 'Debt collection', 'Credit card or prepaid card', 'Vehicle loan or lease', 'Credit card or prepaid card', 'Debt collection', 'Checking or savings account', 'Checking or savings account', 'Student loan', 'Student loan', 'Checking or savings account', 'Debt collection', 'Mortgage', 'Checking or savings account', 'Debt collection', 'Credit card or prepaid card', 'Mortgage', 'Debt collection', 'Credit card or prepaid card', 'Checking or savings account', 'Student loan', 'Debt collection', 'Checking or savings account', 'Debt collection', 'Debt collection', 'Debt collection', 'Vehicle loan or lease', 'Debt collection', 'Debt collection', 'Debt collection', 'Debt collection', 'Credit card or prepaid card', 'Mortgage', 'Credit card or prepaid card', 'Credit card or prepaid card', 'Debt collection', 'Student loan', 'Mortgage', 'Credit card or prepaid card', 'Mortgage', 'Debt collection', 'Debt collection', 'Debt collection', 'Vehicle loan or lease', 'Credit card or prepaid card', 'Checking or savings account', 'Mortgage', 'Debt collection', 'Student loan', 'Credit card or prepaid card', 'Mortgage', 'Credit card or prepaid card', 'Mortgage', 'Debt collection', 'Debt collection', 'Mortgage', 'Checking or savings account', 'Credit card or prepaid card', 'Checking or savings account', 'Mortgage', 'Mortgage', 'Debt collection', 'Mortgage', 'Debt collection', 'Debt collection', 'Debt collection', 'Credit card or prepaid card', 'Debt collection', 'Checking or savings account', 'Mortgage', 'Credit card or prepaid card', 'Debt collection', 'Debt collection', 'Mortgage', 'Debt collection', 'Credit card or prepaid card', 'Debt collection', 'Debt collection', 'Debt collection', 'Debt collection', 'Debt collection', 'Credit card or prepaid card', 'Debt collection', 'Mortgage', 'Checking or savings account', 'Student loan', 'Mortgage', 'Credit card or prepaid card', 'Checking or savings account', 'Debt collection', 'Vehicle loan or lease', 'Mortgage', 'Credit card or prepaid card', 'Checking or savings account', 'Mortgage', 'Credit card or prepaid card', 'Mortgage', 'Credit card or prepaid card', 'Mortgage', 'Checking or savings account', 'Mortgage', 'Credit card or prepaid card', 'Credit card or prepaid card', 'Credit card or prepaid card', 'Checking or savings account', 'Checking or savings account', 'Debt collection', 'Credit card or prepaid card', 'Credit card or prepaid card', 'Debt collection', 'Mortgage', 'Checking or savings account', 'Debt collection', 'Vehicle loan or lease', 'Mortgage', 'Debt collection', 'Debt collection', 'Mortgage', 'Credit card or prepaid card', 'Debt collection', 'Credit card or prepaid card', 'Credit card or prepaid card', 'Mortgage', 'Debt collection', 'Mortgage', 'Debt collection', 'Debt collection', 'Debt collection', 'Debt collection', 'Credit card or prepaid card', 'Mortgage', 'Vehicle loan or lease', 'Credit card or prepaid card', 'Credit card or prepaid card', 'Student loan', 'Credit card or prepaid card', 'Debt collection', 'Credit card or prepaid card', 'Credit card or prepaid card', 'Debt collection', 'Mortgage', 'Debt collection', 'Debt collection', 'Student loan', 'Mortgage', 'Mortgage', 'Credit card or prepaid card', 'Credit card or prepaid card', 'Student loan', 'Credit card or prepaid card', 'Mortgage', 'Debt collection', 'Debt collection', 'Checking or savings account', 'Vehicle loan or lease', 'Mortgage', 'Debt collection', 'Debt collection', 'Credit card or prepaid card', 'Debt collection', 'Mortgage', 'Debt collection', 'Credit card or prepaid card', 'Credit card or prepaid card', 'Checking or savings account', 'Debt collection', 'Mortgage', 'Debt collection', 'Debt collection', 'Mortgage', 'Vehicle loan or lease', 'Debt collection', 'Debt collection', 'Mortgage', 'Credit card or prepaid card', 'Debt collection', 'Checking or savings account', 'Mortgage', 'Debt collection', 'Debt collection', 'Credit card or prepaid card', 'Checking or savings account', 'Credit card or prepaid card', 'Credit card or prepaid card', 'Debt collection', 'Checking or savings account', 'Student loan', 'Mortgage', 'Vehicle loan or lease', 'Credit card or prepaid card', 'Credit card or prepaid card', 'Credit card or prepaid card', 'Credit card or prepaid card', 'Student loan', 'Debt collection', 'Debt collection', 'Mortgage', 'Debt collection', 'Student loan', 'Credit card or prepaid card', 'Vehicle loan or lease', 'Debt collection', 'Credit card or prepaid card', 'Debt collection', 'Mortgage', 'Checking or savings account', 'Credit card or prepaid card', 'Credit card or prepaid card', 'Student loan', 'Debt collection', 'Debt collection', 'Mortgage', 'Credit card or prepaid card', 'Student loan', 'Credit card or prepaid card', 'Checking or savings account', 'Credit card or prepaid card', 'Debt collection', 'Mortgage', 'Debt collection', 'Debt collection', 'Checking or savings account', 'Credit card or prepaid card', 'Mortgage', 'Vehicle loan or lease', 'Student loan', 'Mortgage', 'Credit card or prepaid card', 'Checking or savings account', 'Debt collection', 'Debt collection', 'Mortgage', 'Debt collection', 'Checking or savings account', 'Mortgage', 'Mortgage', 'Mortgage', 'Credit card or prepaid card', 'Mortgage', 'Debt collection', 'Debt collection', 'Mortgage', 'Checking or savings account', 'Vehicle loan or lease', 'Credit card or prepaid card', 'Credit card or prepaid card', 'Debt collection', 'Credit card or prepaid card', 'Credit card or prepaid card', 'Debt collection', 'Debt collection', 'Debt collection', 'Mortgage', 'Checking or savings account', 'Student loan', 'Credit card or prepaid card', 'Debt collection', 'Credit card or prepaid card', 'Debt collection', 'Vehicle loan or lease', 'Checking or savings account', 'Credit card or prepaid card', 'Credit card or prepaid card', 'Checking or savings account', 'Debt collection', 'Credit card or prepaid card', 'Debt collection', 'Student loan', 'Checking or savings account', 'Credit card or prepaid card', 'Mortgage', 'Checking or savings account', 'Mortgage', 'Debt collection', 'Debt collection', 'Debt collection', 'Debt collection', 'Checking or savings account', 'Vehicle loan or lease', 'Debt collection', 'Mortgage', 'Debt collection', 'Checking or savings account', 'Credit card or prepaid card', 'Credit card or prepaid card', 'Credit card or prepaid card', 'Debt collection', 'Checking or savings account', 'Mortgage', 'Debt collection', 'Mortgage', 'Credit card or prepaid card', 'Mortgage', 'Debt collection', 'Mortgage', 'Mortgage', 'Mortgage', 'Debt collection', 'Debt collection', 'Debt collection', 'Credit card or prepaid card', 'Debt collection', 'Student loan', 'Vehicle loan or lease', 'Credit card or prepaid card', 'Credit card or prepaid card', 'Debt collection', 'Debt collection', 'Credit card or prepaid card', 'Vehicle loan or lease', 'Mortgage', 'Checking or savings account', 'Mortgage', 'Checking or savings account', 'Credit card or prepaid card', 'Credit card or prepaid card', 'Credit card or prepaid card', 'Mortgage', 'Debt collection', 'Debt collection', 'Debt collection', 'Debt collection', 'Mortgage', 'Debt collection', 'Checking or savings account', 'Debt collection', 'Credit card or prepaid card', 'Debt collection', 'Debt collection', 'Debt collection', 'Checking or savings account', 'Debt collection', 'Debt collection', 'Checking or savings account', 'Debt collection', 'Debt collection', 'Debt collection', 'Credit card or prepaid card', 'Debt collection', 'Debt collection', 'Mortgage', 'Checking or savings account', 'Mortgage', 'Debt collection', 'Credit card or prepaid card', 'Credit card or prepaid card', 'Debt collection', 'Debt collection', 'Student loan', 'Vehicle loan or lease', 'Student loan', 'Student loan', 'Debt collection', 'Checking or savings account', 'Mortgage', 'Debt collection', 'Credit card or prepaid card', 'Mortgage', 'Debt collection', 'Credit card or prepaid card', 'Checking or savings account', 'Mortgage', 'Checking or savings account', 'Debt collection', 'Debt collection', 'Mortgage', 'Mortgage', 'Mortgage', 'Debt collection', 'Debt collection', 'Checking or savings account', 'Credit card or prepaid card', 'Mortgage', 'Mortgage', 'Credit card or prepaid card', 'Credit card or prepaid card', 'Debt collection', 'Mortgage', 'Vehicle loan or lease', 'Debt collection', 'Credit card or prepaid card', 'Credit card or prepaid card', 'Credit card or prepaid card', 'Credit card or prepaid card', 'Debt collection', 'Credit card or prepaid card', 'Credit card or prepaid card', 'Credit card or prepaid card', 'Student loan', 'Vehicle loan or lease', 'Checking or savings account', 'Credit card or prepaid card', 'Debt collection', 'Debt collection', 'Debt collection', 'Checking or savings account', 'Mortgage', 'Debt collection', 'Checking or savings account', 'Debt collection', 'Checking or savings account', 'Checking or savings account', 'Checking or savings account', 'Mortgage', 'Checking or savings account', 'Credit card or prepaid card', 'Debt collection', 'Credit card or prepaid card', 'Debt collection', 'Debt collection', 'Debt collection', 'Checking or savings account', 'Checking or savings account', 'Checking or savings account', 'Debt collection', 'Credit card or prepaid card', 'Credit card or prepaid card', 'Debt collection', 'Debt collection', 'Debt collection', 'Debt collection', 'Debt collection', 'Mortgage', 'Credit card or prepaid card', 'Student loan', 'Checking or savings account', 'Credit card or prepaid card', 'Debt collection', 'Credit card or prepaid card', 'Credit card or prepaid card', 'Vehicle loan or lease', 'Credit card or prepaid card', 'Checking or savings account', 'Credit card or prepaid card', 'Debt collection', 'Checking or savings account', 'Debt collection', 'Debt collection', 'Debt collection', 'Vehicle loan or lease', 'Student loan', 'Mortgage', 'Debt collection', 'Checking or savings account', 'Debt collection', 'Mortgage', 'Checking or savings account', 'Mortgage', 'Debt collection', 'Credit card or prepaid card', 'Mortgage', 'Debt collection', 'Debt collection', 'Credit card or prepaid card', 'Debt collection', 'Debt collection', 'Credit card or prepaid card', 'Debt collection', 'Credit card or prepaid card', 'Mortgage', 'Debt collection', 'Mortgage', 'Debt collection', 'Student loan', 'Debt collection', 'Debt collection', 'Credit card or prepaid card', 'Credit card or prepaid card', 'Mortgage', 'Student loan', 'Checking or savings account', 'Credit card or prepaid card', 'Mortgage', 'Checking or savings account', 'Credit card or prepaid card', 'Debt collection', 'Credit card or prepaid card', 'Debt collection', 'Mortgage', 'Credit card or prepaid card', 'Mortgage', 'Mortgage', 'Debt collection', 'Vehicle loan or lease', 'Vehicle loan or lease', 'Credit card or prepaid card', 'Mortgage', 'Mortgage', 'Debt collection', 'Checking or savings account', 'Credit card or prepaid card', 'Debt collection', 'Credit card or prepaid card', 'Student loan', 'Checking or savings account', 'Credit card or prepaid card', 'Credit card or prepaid card', 'Credit card or prepaid card', 'Credit card or prepaid card', 'Credit card or prepaid card', 'Mortgage', 'Debt collection', 'Credit card or prepaid card', 'Credit card or prepaid card', 'Debt collection', 'Debt collection', 'Checking or savings account', 'Debt collection', 'Credit card or prepaid card', 'Checking or savings account', 'Debt collection', 'Mortgage', 'Mortgage', 'Mortgage', 'Checking or savings account', 'Debt collection', 'Student loan', 'Vehicle loan or lease', 'Debt collection', 'Credit card or prepaid card', 'Debt collection', 'Checking or savings account', 'Mortgage', 'Mortgage', 'Debt collection', 'Debt collection', 'Debt collection', 'Debt collection', 'Mortgage', 'Debt collection', 'Debt collection', 'Debt collection', 'Debt collection', 'Mortgage', 'Credit card or prepaid card', 'Student loan', 'Credit card or prepaid card', 'Mortgage', 'Mortgage', 'Credit card or prepaid card', 'Credit card or prepaid card', 'Mortgage', 'Debt collection', 'Credit card or prepaid card', 'Debt collection', 'Vehicle loan or lease', 'Checking or savings account', 'Debt collection', 'Debt collection', 'Credit card or prepaid card', 'Debt collection', 'Credit card or prepaid card', 'Credit card or prepaid card', 'Debt collection', 'Vehicle loan or lease', 'Debt collection', 'Debt collection', 'Debt collection', 'Credit card or prepaid card', 'Mortgage', 'Credit card or prepaid card', 'Credit card or prepaid card', 'Mortgage', 'Debt collection', 'Checking or savings account', 'Credit card or prepaid card', 'Vehicle loan or lease', 'Checking or savings account', 'Credit card or prepaid card', 'Student loan', 'Debt collection', 'Credit card or prepaid card', 'Mortgage', 'Credit card or prepaid card', 'Credit card or prepaid card', 'Mortgage', 'Checking or savings account', 'Student loan', 'Mortgage', 'Debt collection', 'Debt collection', 'Debt collection', 'Debt collection', 'Debt collection', 'Credit card or prepaid card', 'Credit card or prepaid card', 'Student loan', 'Mortgage', 'Credit card or prepaid card', 'Mortgage', 'Debt collection', 'Checking or savings account', 'Credit card or prepaid card', 'Mortgage', 'Credit card or prepaid card', 'Credit card or prepaid card', 'Debt collection', 'Debt collection', 'Debt collection', 'Debt collection', 'Vehicle loan or lease', 'Mortgage', 'Debt collection', 'Credit card or prepaid card', 'Credit card or prepaid card', 'Credit card or prepaid card', 'Debt collection', 'Mortgage', 'Credit card or prepaid card', 'Checking or savings account', 'Mortgage', 'Student loan', 'Student loan', 'Debt collection', 'Debt collection', 'Mortgage', 'Credit card or prepaid card', 'Checking or savings account', 'Checking or savings account', 'Debt collection', 'Student loan', 'Vehicle loan or lease', 'Vehicle loan or lease', 'Credit card or prepaid card', 'Debt collection', 'Debt collection', 'Credit card or prepaid card', 'Checking or savings account', 'Mortgage', 'Checking or savings account', 'Vehicle loan or lease', 'Debt collection', 'Mortgage', 'Credit card or prepaid card', 'Credit card or prepaid card', 'Debt collection', 'Checking or savings account', 'Student loan', 'Debt collection', 'Credit card or prepaid card', 'Credit card or prepaid card', 'Debt collection', 'Checking or savings account', 'Debt collection', 'Debt collection', 'Mortgage', 'Student loan', 'Debt collection', 'Credit card or prepaid card', 'Debt collection', 'Credit card or prepaid card', 'Mortgage', 'Debt collection', 'Credit card or prepaid card', 'Debt collection', 'Debt collection', 'Checking or savings account', 'Debt collection', 'Debt collection', 'Student loan', 'Debt collection', 'Checking or savings account', 'Debt collection', 'Vehicle loan or lease', 'Debt collection', 'Credit card or prepaid card', 'Checking or savings account', 'Checking or savings account', 'Mortgage', 'Student loan', 'Mortgage', 'Credit card or prepaid card', 'Credit card or prepaid card', 'Credit card or prepaid card', 'Debt collection', 'Student loan', 'Mortgage', 'Mortgage', 'Credit card or prepaid card', 'Mortgage', 'Mortgage', 'Debt collection', 'Credit card or prepaid card', 'Vehicle loan or lease', 'Credit card or prepaid card', 'Vehicle loan or lease', 'Credit card or prepaid card', 'Credit card or prepaid card', 'Mortgage', 'Mortgage', 'Credit card or prepaid card', 'Student loan', 'Mortgage', 'Credit card or prepaid card', 'Student loan', 'Debt collection', 'Debt collection', 'Checking or savings account', 'Credit card or prepaid card', 'Checking or savings account', 'Debt collection', 'Debt collection', 'Checking or savings account', 'Debt collection', 'Debt collection', 'Vehicle loan or lease', 'Vehicle loan or lease', 'Mortgage', 'Debt collection', 'Vehicle loan or lease', 'Debt collection', 'Debt collection', 'Student loan', 'Debt collection', 'Debt collection', 'Debt collection', 'Debt collection', 'Debt collection', 'Credit card or prepaid card', 'Debt collection', 'Debt collection', 'Debt collection', 'Debt collection', 'Debt collection', 'Checking or savings account', 'Debt collection', 'Mortgage', 'Debt collection', 'Vehicle loan or lease', 'Vehicle loan or lease', 'Credit card or prepaid card', 'Mortgage', 'Checking or savings account', 'Mortgage', 'Credit card or prepaid card', 'Mortgage', 'Debt collection', 'Debt collection', 'Credit card or prepaid card', 'Credit card or prepaid card', 'Mortgage', 'Debt collection', 'Checking or savings account', 'Debt collection', 'Debt collection', 'Vehicle loan or lease', 'Debt collection', 'Checking or savings account', 'Mortgage', 'Checking or savings account', 'Debt collection', 'Credit card or prepaid card', 'Mortgage', 'Credit card or prepaid card', 'Credit card or prepaid card', 'Debt collection', 'Checking or savings account', 'Debt collection', 'Vehicle loan or lease', 'Credit card or prepaid card', 'Credit card or prepaid card', 'Debt collection', 'Student loan', 'Debt collection', 'Credit card or prepaid card', 'Debt collection', 'Debt collection', 'Debt collection', 'Credit card or prepaid card', 'Debt collection', 'Mortgage', 'Debt collection', 'Debt collection', 'Mortgage', 'Credit card or prepaid card', 'Debt collection', 'Debt collection', 'Mortgage', 'Student loan', 'Debt collection', 'Debt collection', 'Credit card or prepaid card', 'Debt collection', 'Mortgage', 'Checking or savings account', 'Credit card or prepaid card', 'Vehicle loan or lease', 'Vehicle loan or lease', 'Debt collection', 'Credit card or prepaid card', 'Mortgage', 'Mortgage', 'Mortgage', 'Debt collection', 'Debt collection', 'Mortgage', 'Debt collection', 'Credit card or prepaid card', 'Credit card or prepaid card', 'Mortgage', 'Debt collection', 'Debt collection', 'Credit card or prepaid card', 'Debt collection', 'Credit card or prepaid card', 'Checking or savings account', 'Debt collection', 'Credit card or prepaid card', 'Credit card or prepaid card', 'Debt collection', 'Checking or savings account', 'Credit card or prepaid card', 'Credit card or prepaid card', 'Mortgage', 'Debt collection', 'Credit card or prepaid card', 'Mortgage', 'Debt collection', 'Debt collection', 'Checking or savings account', 'Debt collection', 'Checking or savings account', 'Credit card or prepaid card', 'Checking or savings account', 'Credit card or prepaid card', 'Student loan', 'Checking or savings account', 'Debt collection', 'Checking or savings account', 'Debt collection', 'Credit card or prepaid card', 'Debt collection', 'Checking or savings account', 'Mortgage', 'Student loan', 'Student loan', 'Debt collection', 'Credit card or prepaid card', 'Debt collection', 'Mortgage', 'Credit card or prepaid card', 'Debt collection', 'Debt collection', 'Debt collection', 'Credit card or prepaid card', 'Mortgage', 'Debt collection', 'Debt collection', 'Checking or savings account', 'Debt collection', 'Checking or savings account', 'Debt collection', 'Checking or savings account', 'Credit card or prepaid card', 'Credit card or prepaid card', 'Student loan', 'Vehicle loan or lease', 'Debt collection', 'Student loan', 'Mortgage', 'Credit card or prepaid card', 'Debt collection', 'Debt collection', 'Debt collection', 'Credit card or prepaid card', 'Credit card or prepaid card', 'Mortgage', 'Debt collection', 'Checking or savings account', 'Debt collection', 'Debt collection', 'Debt collection', 'Credit card or prepaid card', 'Student loan', 'Vehicle loan or lease', 'Credit card or prepaid card', 'Mortgage', 'Checking or savings account', 'Mortgage', 'Credit card or prepaid card', 'Debt collection', 'Credit card or prepaid card', 'Checking or savings account', 'Mortgage', 'Credit card or prepaid card', 'Credit card or prepaid card', 'Checking or savings account', 'Vehicle loan or lease', 'Vehicle loan or lease', 'Mortgage', 'Credit card or prepaid card', 'Credit card or prepaid card', 'Credit card or prepaid card', 'Credit card or prepaid card', 'Debt collection', 'Debt collection', 'Debt collection', 'Mortgage', 'Checking or savings account', 'Mortgage', 'Credit card or prepaid card', 'Credit card or prepaid card', 'Checking or savings account', 'Mortgage', 'Debt collection', 'Credit card or prepaid card', 'Debt collection', 'Debt collection', 'Debt collection', 'Mortgage', 'Vehicle loan or lease', 'Checking or savings account', 'Checking or savings account', 'Credit card or prepaid card', 'Debt collection', 'Debt collection', 'Debt collection', 'Credit card or prepaid card', 'Credit card or prepaid card', 'Debt collection', 'Mortgage', 'Credit card or prepaid card', 'Credit card or prepaid card', 'Credit card or prepaid card', 'Checking or savings account', 'Checking or savings account', 'Checking or savings account', 'Debt collection', 'Debt collection', 'Mortgage', 'Debt collection', 'Checking or savings account', 'Mortgage', 'Debt collection', 'Credit card or prepaid card', 'Debt collection', 'Debt collection', 'Debt collection', 'Debt collection', 'Debt collection', 'Mortgage', 'Mortgage', 'Checking or savings account', 'Checking or savings account', 'Credit card or prepaid card', 'Vehicle loan or lease', 'Credit card or prepaid card', 'Credit card or prepaid card', 'Checking or savings account', 'Credit card or prepaid card', 'Mortgage', 'Student loan', 'Credit card or prepaid card', 'Mortgage', 'Debt collection', 'Mortgage', 'Checking or savings account', 'Debt collection', 'Debt collection', 'Checking or savings account', 'Vehicle loan or lease', 'Credit card or prepaid card', 'Checking or savings account', 'Credit card or prepaid card', 'Mortgage', 'Debt collection', 'Debt collection', 'Mortgage', 'Mortgage', 'Student loan', 'Debt collection', 'Debt collection', 'Mortgage', 'Mortgage', 'Mortgage', 'Debt collection', 'Vehicle loan or lease', 'Credit card or prepaid card', 'Credit card or prepaid card', 'Debt collection', 'Checking or savings account', 'Debt collection', 'Debt collection', 'Mortgage', 'Debt collection', 'Mortgage', 'Credit card or prepaid card', 'Debt collection', 'Checking or savings account', 'Student loan', 'Credit card or prepaid card', 'Debt collection', 'Mortgage', 'Checking or savings account', 'Mortgage', 'Credit card or prepaid card', 'Checking or savings account', 'Mortgage', 'Credit card or prepaid card', 'Mortgage', 'Debt collection', 'Debt collection', 'Debt collection', 'Credit card or prepaid card', 'Student loan', 'Student loan', 'Credit card or prepaid card', 'Credit card or prepaid card', 'Credit card or prepaid card', 'Mortgage', 'Credit card or prepaid card', 'Vehicle loan or lease', 'Debt collection', 'Debt collection', 'Credit card or prepaid card', 'Debt collection', 'Credit card or prepaid card', 'Credit card or prepaid card', 'Debt collection', 'Debt collection', 'Checking or savings account', 'Debt collection', 'Mortgage', 'Credit card or prepaid card', 'Debt collection', 'Student loan', 'Mortgage', 'Credit card or prepaid card', 'Checking or savings account', 'Checking or savings account', 'Debt collection', 'Credit card or prepaid card', 'Checking or savings account', 'Credit card or prepaid card', 'Mortgage', 'Mortgage', 'Mortgage', 'Debt collection', 'Debt collection', 'Debt collection', 'Debt collection', 'Checking or savings account', 'Debt collection', 'Student loan', 'Debt collection', 'Debt collection', 'Debt collection', 'Mortgage', 'Debt collection', 'Mortgage', 'Mortgage', 'Mortgage', 'Credit card or prepaid card', 'Checking or savings account', 'Credit card or prepaid card', 'Debt collection', 'Debt collection', 'Student loan', 'Debt collection', 'Checking or savings account', 'Mortgage', 'Mortgage', 'Mortgage', 'Debt collection', 'Mortgage', 'Credit card or prepaid card', 'Credit card or prepaid card', 'Student loan', 'Credit card or prepaid card', 'Debt collection', 'Debt collection', 'Credit card or prepaid card', 'Debt collection', 'Student loan', 'Student loan', 'Debt collection', 'Debt collection', 'Checking or savings account', 'Vehicle loan or lease', 'Checking or savings account', 'Checking or savings account', 'Debt collection', 'Checking or savings account', 'Vehicle loan or lease', 'Credit card or prepaid card', 'Credit card or prepaid card', 'Debt collection', 'Checking or savings account', 'Debt collection', 'Mortgage', 'Debt collection', 'Debt collection', 'Mortgage', 'Debt collection', 'Mortgage', 'Debt collection', 'Debt collection', 'Checking or savings account', 'Debt collection', 'Debt collection', 'Credit card or prepaid card', 'Debt collection', 'Debt collection', 'Debt collection', 'Credit card or prepaid card', 'Mortgage', 'Mortgage', 'Student loan', 'Checking or savings account', 'Credit card or prepaid card', 'Credit card or prepaid card', 'Mortgage', 'Debt collection', 'Vehicle loan or lease', 'Mortgage', 'Debt collection', 'Debt collection', 'Student loan', 'Credit card or prepaid card', 'Debt collection', 'Vehicle loan or lease', 'Mortgage', 'Debt collection', 'Debt collection', 'Debt collection', 'Credit card or prepaid card', 'Mortgage', 'Debt collection', 'Credit card or prepaid card', 'Credit card or prepaid card', 'Credit card or prepaid card', 'Mortgage', 'Debt collection', 'Vehicle loan or lease', 'Checking or savings account', 'Mortgage', 'Student loan', 'Debt collection', 'Student loan', 'Mortgage', 'Debt collection', 'Debt collection', 'Student loan', 'Vehicle loan or lease', 'Mortgage', 'Checking or savings account', 'Debt collection', 'Mortgage', 'Debt collection', 'Debt collection', 'Debt collection', 'Credit card or prepaid card', 'Debt collection', 'Debt collection', 'Mortgage', 'Student loan', 'Credit card or prepaid card', 'Mortgage', 'Mortgage', 'Mortgage', 'Mortgage', 'Mortgage', 'Vehicle loan or lease', 'Credit card or prepaid card', 'Mortgage', 'Credit card or prepaid card', 'Student loan', 'Debt collection', 'Debt collection', 'Student loan', 'Credit card or prepaid card', 'Debt collection', 'Mortgage', 'Mortgage', 'Checking or savings account', 'Credit card or prepaid card', 'Mortgage', 'Mortgage', 'Checking or savings account', 'Debt collection', 'Debt collection', 'Credit card or prepaid card', 'Mortgage', 'Credit card or prepaid card', 'Mortgage', 'Checking or savings account', 'Credit card or prepaid card', 'Debt collection', 'Debt collection', 'Debt collection', 'Vehicle loan or lease', 'Credit card or prepaid card', 'Checking or savings account', 'Credit card or prepaid card', 'Checking or savings account', 'Mortgage', 'Debt collection', 'Debt collection', 'Debt collection', 'Mortgage', 'Mortgage', 'Debt collection', 'Checking or savings account', 'Debt collection', 'Checking or savings account', 'Debt collection', 'Debt collection', 'Credit card or prepaid card', 'Credit card or prepaid card', 'Debt collection', 'Mortgage', 'Debt collection', 'Debt collection', 'Credit card or prepaid card', 'Debt collection', 'Mortgage', 'Vehicle loan or lease', 'Mortgage', 'Debt collection', 'Credit card or prepaid card', 'Credit card or prepaid card', 'Credit card or prepaid card', 'Credit card or prepaid card', 'Checking or savings account', 'Student loan', 'Debt collection', 'Credit card or prepaid card', 'Debt collection', 'Debt collection', 'Credit card or prepaid card', 'Debt collection', 'Debt collection', 'Credit card or prepaid card', 'Vehicle loan or lease', 'Debt collection', 'Checking or savings account', 'Debt collection', 'Student loan', 'Vehicle loan or lease', 'Debt collection', 'Checking or savings account', 'Debt collection', 'Debt collection', 'Mortgage', 'Checking or savings account', 'Debt collection', 'Vehicle loan or lease', 'Debt collection', 'Debt collection', 'Vehicle loan or lease', 'Student loan', 'Mortgage', 'Debt collection', 'Student loan', 'Debt collection', 'Debt collection', 'Credit card or prepaid card', 'Checking or savings account', 'Vehicle loan or lease', 'Debt collection', 'Debt collection', 'Debt collection', 'Mortgage', 'Checking or savings account', 'Debt collection', 'Credit card or prepaid card', 'Credit card or prepaid card', 'Debt collection', 'Vehicle loan or lease', 'Vehicle loan or lease', 'Checking or savings account', 'Credit card or prepaid card', 'Checking or savings account', 'Credit card or prepaid card', 'Credit card or prepaid card', 'Credit card or prepaid card', 'Checking or savings account', 'Mortgage', 'Debt collection', 'Mortgage', 'Student loan', 'Credit card or prepaid card', 'Debt collection', 'Credit card or prepaid card', 'Debt collection', 'Debt collection', 'Debt collection', 'Credit card or prepaid card', 'Credit card or prepaid card', 'Student loan', 'Debt collection', 'Checking or savings account', 'Debt collection', 'Mortgage', 'Checking or savings account', 'Mortgage', 'Mortgage', 'Mortgage', 'Mortgage', 'Student loan', 'Mortgage', 'Debt collection', 'Mortgage', 'Mortgage', 'Credit card or prepaid card', 'Credit card or prepaid card', 'Credit card or prepaid card', 'Credit card or prepaid card', 'Credit card or prepaid card', 'Credit card or prepaid card', 'Debt collection', 'Mortgage', 'Debt collection', 'Debt collection', 'Student loan', 'Credit card or prepaid card', 'Mortgage', 'Debt collection', 'Debt collection', 'Mortgage', 'Debt collection', 'Credit card or prepaid card', 'Debt collection', 'Mortgage', 'Credit card or prepaid card', 'Checking or savings account', 'Debt collection', 'Credit card or prepaid card', 'Debt collection', 'Mortgage', 'Debt collection', 'Credit card or prepaid card', 'Checking or savings account', 'Debt collection', 'Debt collection', 'Debt collection', 'Checking or savings account', 'Debt collection', 'Mortgage', 'Mortgage', 'Student loan', 'Vehicle loan or lease', 'Debt collection', 'Debt collection', 'Credit card or prepaid card', 'Checking or savings account', 'Debt collection', 'Debt collection', 'Debt collection', 'Debt collection', 'Mortgage', 'Vehicle loan or lease', 'Credit card or prepaid card', 'Debt collection', 'Student loan', 'Checking or savings account', 'Student loan', 'Checking or savings account', 'Credit card or prepaid card', 'Debt collection', 'Mortgage', 'Mortgage', 'Debt collection', 'Mortgage', 'Credit card or prepaid card', 'Credit card or prepaid card', 'Debt collection', 'Mortgage', 'Debt collection', 'Credit card or prepaid card', 'Debt collection', 'Credit card or prepaid card', 'Checking or savings account', 'Credit card or prepaid card', 'Checking or savings account', 'Checking or savings account', 'Debt collection', 'Debt collection', 'Credit card or prepaid card', 'Debt collection', 'Student loan', 'Checking or savings account', 'Checking or savings account', 'Credit card or prepaid card', 'Debt collection', 'Debt collection', 'Mortgage', 'Credit card or prepaid card', 'Mortgage', 'Mortgage', 'Checking or savings account', 'Debt collection', 'Debt collection', 'Vehicle loan or lease', 'Checking or savings account', 'Checking or savings account', 'Debt collection', 'Credit card or prepaid card', 'Debt collection', 'Debt collection', 'Mortgage', 'Credit card or prepaid card', 'Debt collection', 'Debt collection', 'Credit card or prepaid card', 'Debt collection', 'Debt collection', 'Debt collection', 'Checking or savings account', 'Vehicle loan or lease', 'Mortgage', 'Debt collection', 'Mortgage', 'Checking or savings account', 'Checking or savings account', 'Credit card or prepaid card', 'Debt collection', 'Debt collection', 'Debt collection', 'Student loan', 'Credit card or prepaid card', 'Mortgage', 'Debt collection', 'Credit card or prepaid card', 'Credit card or prepaid card', 'Debt collection', 'Debt collection', 'Student loan', 'Credit card or prepaid card', 'Mortgage', 'Credit card or prepaid card', 'Checking or savings account', 'Debt collection', 'Debt collection', 'Student loan', 'Debt collection', 'Student loan', 'Debt collection', 'Credit card or prepaid card', 'Debt collection', 'Debt collection', 'Credit card or prepaid card', 'Mortgage', 'Vehicle loan or lease', 'Credit card or prepaid card', 'Debt collection', 'Checking or savings account', 'Mortgage', 'Credit card or prepaid card', 'Debt collection', 'Credit card or prepaid card', 'Debt collection', 'Credit card or prepaid card', 'Checking or savings account', 'Credit card or prepaid card', 'Checking or savings account', 'Checking or savings account', 'Debt collection', 'Debt collection', 'Credit card or prepaid card', 'Debt collection', 'Student loan', 'Checking or savings account', 'Credit card or prepaid card', 'Debt collection', 'Vehicle loan or lease', 'Checking or savings account', 'Credit card or prepaid card', 'Mortgage', 'Checking or savings account', 'Mortgage', 'Debt collection', 'Credit card or prepaid card', 'Checking or savings account', 'Mortgage', 'Debt collection', 'Debt collection', 'Mortgage', 'Mortgage', 'Credit card or prepaid card', 'Debt collection', 'Vehicle loan or lease', 'Credit card or prepaid card', 'Checking or savings account', 'Credit card or prepaid card', 'Debt collection', 'Credit card or prepaid card', 'Debt collection', 'Checking or savings account', 'Debt collection', 'Student loan', 'Debt collection', 'Debt collection', 'Debt collection', 'Mortgage', 'Debt collection', 'Credit card or prepaid card', 'Debt collection', 'Debt collection', 'Credit card or prepaid card', 'Debt collection', 'Debt collection', 'Debt collection', 'Debt collection', 'Checking or savings account', 'Mortgage', 'Mortgage', 'Checking or savings account', 'Credit card or prepaid card', 'Debt collection', 'Mortgage', 'Mortgage', 'Debt collection', 'Mortgage', 'Mortgage', 'Mortgage', 'Debt collection', 'Checking or savings account', 'Mortgage', 'Student loan', 'Credit card or prepaid card', 'Debt collection', 'Debt collection', 'Checking or savings account', 'Debt collection', 'Mortgage', 'Mortgage', 'Credit card or prepaid card', 'Credit card or prepaid card', 'Debt collection', 'Mortgage', 'Credit card or prepaid card', 'Debt collection', 'Credit card or prepaid card', 'Debt collection', 'Debt collection', 'Mortgage', 'Debt collection', 'Debt collection', 'Mortgage', 'Debt collection', 'Mortgage', 'Debt collection', 'Checking or savings account', 'Credit card or prepaid card', 'Debt collection', 'Mortgage', 'Debt collection', 'Debt collection', 'Vehicle loan or lease', 'Mortgage', 'Credit card or prepaid card', 'Mortgage', 'Debt collection', 'Mortgage', 'Mortgage', 'Mortgage', 'Credit card or prepaid card', 'Checking or savings account', 'Debt collection', 'Credit card or prepaid card', 'Debt collection', 'Mortgage', 'Debt collection', 'Student loan', 'Mortgage', 'Checking or savings account', 'Debt collection', 'Mortgage', 'Debt collection', 'Checking or savings account', 'Mortgage', 'Credit card or prepaid card', 'Credit card or prepaid card', 'Debt collection', 'Checking or savings account', 'Credit card or prepaid card', 'Mortgage', 'Credit card or prepaid card', 'Debt collection', 'Debt collection', 'Credit card or prepaid card', 'Debt collection', 'Debt collection', 'Credit card or prepaid card', 'Checking or savings account', 'Checking or savings account', 'Mortgage', 'Credit card or prepaid card', 'Mortgage', 'Checking or savings account', 'Credit card or prepaid card', 'Debt collection', 'Credit card or prepaid card', 'Credit card or prepaid card', 'Debt collection', 'Debt collection', 'Credit card or prepaid card', 'Credit card or prepaid card', 'Mortgage', 'Debt collection', 'Credit card or prepaid card', 'Vehicle loan or lease', 'Credit card or prepaid card', 'Checking or savings account', 'Debt collection', 'Credit card or prepaid card', 'Vehicle loan or lease', 'Mortgage', 'Debt collection', 'Debt collection', 'Debt collection', 'Debt collection', 'Debt collection', 'Debt collection', 'Mortgage', 'Mortgage', 'Mortgage', 'Checking or savings account', 'Debt collection', 'Mortgage', 'Debt collection', 'Debt collection', 'Debt collection', 'Credit card or prepaid card', 'Mortgage', 'Checking or savings account', 'Mortgage', 'Checking or savings account', 'Debt collection', 'Credit card or prepaid card', 'Mortgage', 'Mortgage', 'Debt collection', 'Mortgage', 'Debt collection', 'Debt collection', 'Mortgage', 'Debt collection', 'Credit card or prepaid card', 'Student loan', 'Checking or savings account', 'Debt collection', 'Debt collection', 'Mortgage', 'Debt collection', 'Checking or savings account', 'Credit card or prepaid card', 'Credit card or prepaid card', 'Debt collection', 'Mortgage', 'Checking or savings account', 'Mortgage', 'Mortgage', 'Mortgage', 'Mortgage', 'Debt collection', 'Debt collection', 'Debt collection', 'Mortgage', 'Checking or savings account', 'Credit card or prepaid card', 'Credit card or prepaid card', 'Vehicle loan or lease', 'Debt collection', 'Credit card or prepaid card', 'Debt collection', 'Debt collection', 'Mortgage', 'Credit card or prepaid card', 'Checking or savings account', 'Student loan', 'Debt collection', 'Credit card or prepaid card', 'Student loan', 'Student loan', 'Credit card or prepaid card', 'Vehicle loan or lease', 'Debt collection', 'Mortgage', 'Debt collection', 'Debt collection', 'Debt collection', 'Mortgage', 'Mortgage', 'Mortgage', 'Checking or savings account', 'Debt collection', 'Mortgage', 'Debt collection', 'Mortgage', 'Debt collection', 'Debt collection', 'Debt collection', 'Credit card or prepaid card', 'Debt collection', 'Mortgage', 'Credit card or prepaid card', 'Credit card or prepaid card', 'Credit card or prepaid card', 'Credit card or prepaid card', 'Credit card or prepaid card', 'Credit card or prepaid card', 'Mortgage', 'Debt collection', 'Debt collection', 'Credit card or prepaid card', 'Student loan', 'Mortgage', 'Credit card or prepaid card', 'Mortgage', 'Debt collection', 'Debt collection', 'Credit card or prepaid card', 'Checking or savings account', 'Checking or savings account', 'Mortgage', 'Mortgage', 'Credit card or prepaid card', 'Credit card or prepaid card', 'Debt collection', 'Credit card or prepaid card', 'Mortgage', 'Checking or savings account', 'Debt collection', 'Credit card or prepaid card', 'Debt collection', 'Debt collection', 'Debt collection', 'Student loan', 'Student loan', 'Credit card or prepaid card', 'Credit card or prepaid card', 'Credit card or prepaid card', 'Vehicle loan or lease', 'Debt collection', 'Vehicle loan or lease', 'Credit card or prepaid card', 'Credit card or prepaid card', 'Checking or savings account', 'Mortgage', 'Debt collection', 'Credit card or prepaid card', 'Debt collection', 'Student loan', 'Mortgage', 'Credit card or prepaid card', 'Mortgage', 'Debt collection', 'Debt collection', 'Credit card or prepaid card', 'Debt collection', 'Mortgage', 'Credit card or prepaid card', 'Vehicle loan or lease', 'Vehicle loan or lease', 'Checking or savings account', 'Debt collection', 'Debt collection', 'Debt collection', 'Debt collection', 'Credit card or prepaid card', 'Debt collection', 'Checking or savings account', 'Credit card or prepaid card', 'Mortgage', 'Debt collection', 'Credit card or prepaid card', 'Credit card or prepaid card', 'Mortgage', 'Credit card or prepaid card', 'Mortgage', 'Credit card or prepaid card', 'Debt collection', 'Mortgage', 'Debt collection', 'Credit card or prepaid card', 'Credit card or prepaid card', 'Debt collection', 'Debt collection', 'Debt collection', 'Debt collection', 'Credit card or prepaid card', 'Credit card or prepaid card', 'Mortgage', 'Mortgage', 'Credit card or prepaid card', 'Mortgage', 'Debt collection', 'Credit card or prepaid card', 'Credit card or prepaid card', 'Debt collection', 'Debt collection', 'Debt collection', 'Credit card or prepaid card', 'Debt collection', 'Checking or savings account', 'Credit card or prepaid card', 'Debt collection', 'Debt collection', 'Mortgage', 'Debt collection', 'Mortgage', 'Debt collection', 'Mortgage', 'Credit card or prepaid card', 'Credit card or prepaid card', 'Mortgage', 'Credit card or prepaid card', 'Debt collection', 'Debt collection', 'Credit card or prepaid card', 'Mortgage', 'Debt collection', 'Credit card or prepaid card', 'Debt collection', 'Vehicle loan or lease', 'Mortgage', 'Mortgage', 'Debt collection', 'Credit card or prepaid card', 'Debt collection', 'Debt collection', 'Debt collection', 'Debt collection', 'Mortgage', 'Credit card or prepaid card', 'Debt collection', 'Mortgage', 'Student loan', 'Debt collection', 'Credit card or prepaid card', 'Debt collection', 'Debt collection', 'Mortgage', 'Debt collection', 'Debt collection', 'Debt collection', 'Debt collection', 'Credit card or prepaid card', 'Debt collection', 'Checking or savings account', 'Student loan', 'Debt collection', 'Mortgage', 'Debt collection', 'Debt collection', 'Debt collection', 'Debt collection', 'Credit card or prepaid card', 'Checking or savings account', 'Credit card or prepaid card', 'Student loan', 'Credit card or prepaid card', 'Debt collection', 'Student loan', 'Credit card or prepaid card', 'Credit card or prepaid card', 'Mortgage', 'Checking or savings account', 'Vehicle loan or lease', 'Credit card or prepaid card', 'Vehicle loan or lease', 'Mortgage', 'Mortgage', 'Credit card or prepaid card', 'Mortgage', 'Mortgage', 'Checking or savings account', 'Debt collection', 'Vehicle loan or lease', 'Mortgage', 'Credit card or prepaid card', 'Mortgage', 'Credit card or prepaid card', 'Mortgage', 'Vehicle loan or lease', 'Debt collection', 'Debt collection', 'Credit card or prepaid card', 'Debt collection', 'Student loan', 'Debt collection', 'Debt collection', 'Checking or savings account', 'Checking or savings account', 'Debt collection', 'Mortgage', 'Debt collection', 'Debt collection', 'Credit card or prepaid card', 'Checking or savings account', 'Debt collection', 'Debt collection', 'Student loan', 'Debt collection', 'Debt collection', 'Mortgage', 'Credit card or prepaid card', 'Mortgage', 'Debt collection', 'Debt collection', 'Debt collection', 'Credit card or prepaid card', 'Debt collection', 'Mortgage', 'Debt collection', 'Checking or savings account', 'Student loan', 'Debt collection', 'Mortgage', 'Checking or savings account', 'Credit card or prepaid card', 'Debt collection', 'Credit card or prepaid card', 'Mortgage', 'Debt collection', 'Student loan', 'Credit card or prepaid card', 'Debt collection', 'Debt collection', 'Credit card or prepaid card', 'Mortgage', 'Debt collection', 'Debt collection', 'Credit card or prepaid card', 'Debt collection', 'Credit card or prepaid card', 'Vehicle loan or lease', 'Student loan', 'Debt collection', 'Vehicle loan or lease', 'Mortgage', 'Debt collection', 'Mortgage', 'Debt collection', 'Debt collection', 'Debt collection', 'Vehicle loan or lease', 'Credit card or prepaid card', 'Checking or savings account', 'Debt collection', 'Mortgage', 'Student loan', 'Debt collection', 'Credit card or prepaid card', 'Debt collection', 'Mortgage', 'Debt collection', 'Checking or savings account', 'Debt collection', 'Checking or savings account', 'Credit card or prepaid card', 'Checking or savings account', 'Credit card or prepaid card', 'Credit card or prepaid card', 'Credit card or prepaid card', 'Mortgage', 'Credit card or prepaid card', 'Debt collection', 'Debt collection', 'Debt collection', 'Debt collection', 'Debt collection', 'Debt collection', 'Debt collection', 'Credit card or prepaid card', 'Debt collection', 'Debt collection', 'Checking or savings account', 'Debt collection', 'Debt collection', 'Credit card or prepaid card', 'Credit card or prepaid card', 'Vehicle loan or lease', 'Mortgage', 'Credit card or prepaid card', 'Credit card or prepaid card', 'Debt collection', 'Checking or savings account', 'Mortgage', 'Debt collection', 'Debt collection', 'Debt collection', 'Debt collection', 'Checking or savings account', 'Debt collection', 'Debt collection', 'Debt collection', 'Debt collection', 'Debt collection', 'Vehicle loan or lease', 'Mortgage', 'Mortgage', 'Debt collection', 'Debt collection', 'Mortgage', 'Mortgage', 'Mortgage', 'Debt collection', 'Checking or savings account', 'Student loan', 'Credit card or prepaid card', 'Credit card or prepaid card', 'Checking or savings account', 'Credit card or prepaid card', 'Credit card or prepaid card', 'Debt collection', 'Debt collection', 'Credit card or prepaid card', 'Vehicle loan or lease', 'Checking or savings account', 'Mortgage', 'Vehicle loan or lease', 'Checking or savings account', 'Credit card or prepaid card', 'Checking or savings account', 'Mortgage', 'Checking or savings account', 'Debt collection', 'Credit card or prepaid card', 'Credit card or prepaid card', 'Mortgage', 'Debt collection', 'Debt collection', 'Debt collection', 'Vehicle loan or lease', 'Debt collection', 'Credit card or prepaid card', 'Debt collection', 'Debt collection', 'Mortgage', 'Credit card or prepaid card', 'Debt collection', 'Vehicle loan or lease', 'Debt collection', 'Mortgage', 'Credit card or prepaid card', 'Checking or savings account', 'Credit card or prepaid card', 'Debt collection', 'Mortgage', 'Debt collection', 'Student loan', 'Student loan', 'Credit card or prepaid card', 'Debt collection', 'Debt collection', 'Vehicle loan or lease', 'Student loan', 'Debt collection', 'Mortgage', 'Credit card or prepaid card', 'Mortgage', 'Debt collection', 'Debt collection', 'Debt collection', 'Mortgage', 'Mortgage', 'Mortgage', 'Mortgage', 'Credit card or prepaid card', 'Debt collection', 'Credit card or prepaid card', 'Checking or savings account', 'Vehicle loan or lease', 'Checking or savings account', 'Debt collection', 'Credit card or prepaid card', 'Debt collection', 'Mortgage', 'Credit card or prepaid card', 'Debt collection', 'Debt collection', 'Mortgage', 'Mortgage', 'Debt collection', 'Credit card or prepaid card', 'Credit card or prepaid card', 'Debt collection', 'Debt collection', 'Debt collection', 'Credit card or prepaid card', 'Credit card or prepaid card', 'Mortgage', 'Vehicle loan or lease', 'Checking or savings account', 'Debt collection', 'Debt collection', 'Mortgage', 'Checking or savings account', 'Debt collection', 'Debt collection', 'Debt collection', 'Credit card or prepaid card', 'Student loan', 'Debt collection', 'Credit card or prepaid card', 'Debt collection', 'Debt collection', 'Credit card or prepaid card', 'Mortgage', 'Mortgage', 'Mortgage', 'Checking or savings account', 'Debt collection', 'Checking or savings account', 'Debt collection', 'Mortgage', 'Mortgage', 'Debt collection', 'Checking or savings account', 'Debt collection', 'Vehicle loan or lease', 'Debt collection', 'Debt collection', 'Debt collection', 'Debt collection', 'Debt collection', 'Mortgage', 'Debt collection', 'Debt collection', 'Debt collection', 'Credit card or prepaid card', 'Checking or savings account', 'Mortgage', 'Debt collection', 'Debt collection', 'Debt collection', 'Debt collection', 'Credit card or prepaid card', 'Vehicle loan or lease', 'Debt collection', 'Debt collection', 'Mortgage', 'Debt collection', 'Student loan', 'Vehicle loan or lease', 'Debt collection', 'Debt collection', 'Mortgage', 'Debt collection', 'Debt collection', 'Debt collection', 'Debt collection', 'Debt collection', 'Mortgage', 'Mortgage', 'Student loan', 'Student loan', 'Credit card or prepaid card', 'Credit card or prepaid card', 'Debt collection', 'Checking or savings account', 'Debt collection', 'Checking or savings account', 'Vehicle loan or lease', 'Mortgage', 'Checking or savings account', 'Credit card or prepaid card', 'Mortgage', 'Debt collection', 'Credit card or prepaid card', 'Debt collection', 'Debt collection', 'Vehicle loan or lease', 'Debt collection', 'Debt collection', 'Debt collection', 'Debt collection', 'Debt collection', 'Mortgage', 'Debt collection', 'Checking or savings account', 'Mortgage', 'Debt collection', 'Mortgage', 'Checking or savings account', 'Checking or savings account', 'Credit card or prepaid card', 'Debt collection', 'Vehicle loan or lease', 'Credit card or prepaid card', 'Mortgage', 'Student loan', 'Vehicle loan or lease', 'Debt collection', 'Debt collection', 'Debt collection', 'Credit card or prepaid card', 'Checking or savings account', 'Debt collection', 'Credit card or prepaid card', 'Checking or savings account', 'Checking or savings account', 'Debt collection', 'Mortgage', 'Credit card or prepaid card', 'Credit card or prepaid card', 'Debt collection', 'Debt collection', 'Vehicle loan or lease', 'Debt collection', 'Credit card or prepaid card', 'Mortgage', 'Mortgage', 'Debt collection', 'Debt collection', 'Credit card or prepaid card', 'Checking or savings account', 'Mortgage', 'Mortgage', 'Mortgage', 'Debt collection', 'Debt collection', 'Debt collection', 'Checking or savings account', 'Mortgage', 'Mortgage', 'Checking or savings account', 'Debt collection', 'Vehicle loan or lease', 'Credit card or prepaid card', 'Debt collection', 'Debt collection', 'Debt collection', 'Mortgage', 'Student loan', 'Debt collection', 'Debt collection', 'Debt collection', 'Mortgage', 'Checking or savings account', 'Debt collection', 'Credit card or prepaid card', 'Checking or savings account', 'Debt collection', 'Debt collection', 'Student loan', 'Credit card or prepaid card', 'Credit card or prepaid card', 'Credit card or prepaid card', 'Credit card or prepaid card', 'Debt collection', 'Debt collection', 'Checking or savings account', 'Credit card or prepaid card', 'Mortgage', 'Debt collection', 'Mortgage', 'Checking or savings account', 'Debt collection', 'Credit card or prepaid card', 'Debt collection', 'Debt collection', 'Debt collection', 'Debt collection', 'Mortgage', 'Debt collection', 'Debt collection', 'Debt collection', 'Debt collection', 'Vehicle loan or lease', 'Debt collection', 'Debt collection', 'Debt collection', 'Debt collection', 'Credit card or prepaid card', 'Credit card or prepaid card', 'Student loan', 'Credit card or prepaid card', 'Mortgage', 'Debt collection', 'Credit card or prepaid card', 'Mortgage', 'Debt collection', 'Credit card or prepaid card', 'Mortgage', 'Debt collection', 'Mortgage', 'Credit card or prepaid card', 'Debt collection', 'Debt collection', 'Debt collection', 'Debt collection', 'Student loan', 'Mortgage', 'Debt collection', 'Debt collection', 'Checking or savings account', 'Debt collection', 'Checking or savings account', 'Mortgage', 'Vehicle loan or lease', 'Debt collection', 'Credit card or prepaid card', 'Credit card or prepaid card', 'Debt collection', 'Debt collection', 'Student loan', 'Mortgage', 'Mortgage', 'Debt collection', 'Credit card or prepaid card', 'Vehicle loan or lease', 'Credit card or prepaid card', 'Credit card or prepaid card', 'Mortgage', 'Debt collection', 'Debt collection', 'Debt collection', 'Credit card or prepaid card', 'Debt collection', 'Debt collection', 'Mortgage', 'Student loan', 'Debt collection', 'Debt collection', 'Mortgage', 'Debt collection', 'Credit card or prepaid card', 'Debt collection', 'Student loan', 'Credit card or prepaid card', 'Debt collection', 'Debt collection', 'Debt collection', 'Mortgage', 'Checking or savings account', 'Checking or savings account', 'Debt collection', 'Checking or savings account', 'Credit card or prepaid card', 'Credit card or prepaid card', 'Debt collection', 'Debt collection', 'Debt collection', 'Debt collection', 'Mortgage', 'Credit card or prepaid card', 'Credit card or prepaid card', 'Mortgage', 'Credit card or prepaid card', 'Mortgage', 'Student loan', 'Debt collection', 'Debt collection', 'Debt collection', 'Debt collection', 'Debt collection', 'Credit card or prepaid card', 'Vehicle loan or lease', 'Debt collection', 'Debt collection', 'Credit card or prepaid card', 'Debt collection', 'Student loan', 'Debt collection', 'Debt collection', 'Debt collection', 'Credit card or prepaid card', 'Checking or savings account', 'Credit card or prepaid card', 'Debt collection', 'Student loan', 'Credit card or prepaid card', 'Credit card or prepaid card', 'Vehicle loan or lease', 'Checking or savings account', 'Credit card or prepaid card', 'Credit card or prepaid card', 'Debt collection', 'Debt collection', 'Checking or savings account', 'Debt collection', 'Student loan', 'Mortgage', 'Debt collection', 'Debt collection', 'Credit card or prepaid card', 'Checking or savings account', 'Credit card or prepaid card', 'Mortgage', 'Mortgage', 'Debt collection', 'Credit card or prepaid card', 'Checking or savings account', 'Debt collection', 'Student loan', 'Debt collection', 'Credit card or prepaid card', 'Checking or savings account', 'Debt collection', 'Checking or savings account', 'Student loan', 'Mortgage', 'Credit card or prepaid card', 'Vehicle loan or lease', 'Mortgage', 'Debt collection', 'Credit card or prepaid card', 'Credit card or prepaid card', 'Credit card or prepaid card', 'Debt collection', 'Checking or savings account', 'Mortgage', 'Vehicle loan or lease', 'Debt collection', 'Debt collection', 'Credit card or prepaid card', 'Debt collection', 'Vehicle loan or lease', 'Debt collection', 'Credit card or prepaid card', 'Student loan', 'Credit card or prepaid card', 'Student loan', 'Mortgage', 'Checking or savings account', 'Mortgage', 'Credit card or prepaid card', 'Debt collection', 'Student loan', 'Credit card or prepaid card', 'Checking or savings account', 'Credit card or prepaid card', 'Debt collection', 'Debt collection', 'Credit card or prepaid card', 'Debt collection', 'Vehicle loan or lease', 'Mortgage', 'Debt collection', 'Debt collection', 'Mortgage', 'Student loan', 'Debt collection', 'Debt collection', 'Student loan', 'Credit card or prepaid card', 'Credit card or prepaid card', 'Debt collection', 'Debt collection', 'Checking or savings account', 'Debt collection', 'Credit card or prepaid card', 'Debt collection', 'Credit card or prepaid card', 'Debt collection', 'Debt collection', 'Checking or savings account', 'Debt collection', 'Credit card or prepaid card', 'Credit card or prepaid card', 'Vehicle loan or lease', 'Debt collection', 'Credit card or prepaid card', 'Debt collection', 'Vehicle loan or lease', 'Debt collection', 'Checking or savings account', 'Student loan', 'Debt collection', 'Mortgage', 'Debt collection', 'Checking or savings account', 'Debt collection', 'Debt collection', 'Debt collection', 'Debt collection', 'Mortgage', 'Credit card or prepaid card', 'Debt collection', 'Debt collection', 'Credit card or prepaid card', 'Debt collection', 'Mortgage', 'Credit card or prepaid card', 'Debt collection', 'Credit card or prepaid card', 'Mortgage', 'Debt collection', 'Student loan', 'Credit card or prepaid card', 'Mortgage', 'Debt collection', 'Debt collection', 'Vehicle loan or lease', 'Credit card or prepaid card', 'Debt collection', 'Checking or savings account', 'Checking or savings account', 'Debt collection', 'Credit card or prepaid card', 'Mortgage', 'Debt collection', 'Debt collection', 'Mortgage', 'Credit card or prepaid card', 'Debt collection', 'Debt collection', 'Debt collection', 'Student loan', 'Credit card or prepaid card', 'Mortgage', 'Debt collection', 'Debt collection', 'Mortgage', 'Credit card or prepaid card', 'Credit card or prepaid card', 'Credit card or prepaid card', 'Student loan', 'Debt collection', 'Checking or savings account', 'Student loan', 'Checking or savings account', 'Debt collection', 'Debt collection', 'Checking or savings account', 'Mortgage', 'Debt collection', 'Debt collection', 'Debt collection', 'Debt collection', 'Debt collection', 'Debt collection', 'Debt collection', 'Debt collection', 'Credit card or prepaid card', 'Credit card or prepaid card', 'Debt collection', 'Mortgage', 'Mortgage', 'Debt collection', 'Credit card or prepaid card', 'Checking or savings account', 'Mortgage', 'Debt collection', 'Credit card or prepaid card', 'Checking or savings account', 'Debt collection', 'Student loan', 'Debt collection', 'Debt collection', 'Vehicle loan or lease', 'Debt collection', 'Debt collection', 'Checking or savings account', 'Debt collection', 'Debt collection', 'Credit card or prepaid card', 'Mortgage', 'Mortgage', 'Checking or savings account', 'Vehicle loan or lease', 'Debt collection', 'Debt collection', 'Mortgage', 'Debt collection', 'Mortgage', 'Credit card or prepaid card', 'Debt collection', 'Checking or savings account', 'Credit card or prepaid card', 'Checking or savings account', 'Debt collection', 'Checking or savings account', 'Debt collection', 'Credit card or prepaid card', 'Mortgage', 'Credit card or prepaid card', 'Credit card or prepaid card', 'Checking or savings account', 'Debt collection', 'Checking or savings account', 'Mortgage', 'Credit card or prepaid card', 'Vehicle loan or lease', 'Debt collection', 'Mortgage', 'Debt collection', 'Debt collection', 'Debt collection', 'Credit card or prepaid card', 'Mortgage', 'Debt collection', 'Debt collection', 'Credit card or prepaid card', 'Debt collection', 'Mortgage', 'Mortgage', 'Debt collection', 'Checking or savings account', 'Mortgage', 'Student loan', 'Debt collection', 'Debt collection', 'Student loan', 'Debt collection', 'Mortgage', 'Debt collection', 'Debt collection', 'Checking or savings account', 'Debt collection', 'Debt collection', 'Debt collection', 'Debt collection', 'Checking or savings account', 'Vehicle loan or lease', 'Debt collection', 'Checking or savings account', 'Credit card or prepaid card', 'Credit card or prepaid card', 'Credit card or prepaid card', 'Student loan', 'Debt collection', 'Debt collection', 'Credit card or prepaid card', 'Student loan', 'Checking or savings account', 'Credit card or prepaid card', 'Debt collection', 'Vehicle loan or lease', 'Vehicle loan or lease', 'Student loan', 'Vehicle loan or lease', 'Debt collection', 'Debt collection', 'Credit card or prepaid card', 'Checking or savings account', 'Debt collection', 'Credit card or prepaid card', 'Debt collection', 'Debt collection', 'Checking or savings account', 'Debt collection', 'Debt collection', 'Debt collection', 'Credit card or prepaid card', 'Debt collection', 'Credit card or prepaid card', 'Mortgage', 'Debt collection', 'Mortgage', 'Credit card or prepaid card', 'Debt collection', 'Credit card or prepaid card', 'Student loan', 'Debt collection', 'Credit card or prepaid card', 'Debt collection', 'Mortgage', 'Checking or savings account', 'Student loan', 'Debt collection', 'Checking or savings account', 'Credit card or prepaid card', 'Credit card or prepaid card', 'Student loan', 'Checking or savings account', 'Debt collection', 'Checking or savings account', 'Debt collection', 'Vehicle loan or lease', 'Debt collection', 'Debt collection', 'Credit card or prepaid card', 'Debt collection', 'Debt collection', 'Debt collection', 'Debt collection', 'Credit card or prepaid card', 'Debt collection', 'Vehicle loan or lease', 'Credit card or prepaid card', 'Debt collection', 'Vehicle loan or lease', 'Checking or savings account', 'Debt collection', 'Debt collection', 'Debt collection', 'Vehicle loan or lease', 'Checking or savings account', 'Debt collection', 'Credit card or prepaid card', 'Credit card or prepaid card', 'Mortgage', 'Debt collection', 'Checking or savings account', 'Checking or savings account', 'Mortgage', 'Checking or savings account', 'Credit card or prepaid card', 'Credit card or prepaid card', 'Credit card or prepaid card', 'Vehicle loan or lease', 'Student loan', 'Vehicle loan or lease', 'Credit card or prepaid card', 'Debt collection', 'Mortgage', 'Credit card or prepaid card', 'Debt collection', 'Debt collection', 'Credit card or prepaid card', 'Mortgage', 'Mortgage', 'Credit card or prepaid card', 'Checking or savings account', 'Debt collection', 'Checking or savings account', 'Mortgage', 'Checking or savings account', 'Checking or savings account', 'Debt collection', 'Checking or savings account', 'Debt collection', 'Mortgage', 'Debt collection', 'Student loan', 'Vehicle loan or lease', 'Debt collection', 'Vehicle loan or lease', 'Credit card or prepaid card', 'Credit card or prepaid card', 'Credit card or prepaid card', 'Mortgage', 'Credit card or prepaid card', 'Debt collection', 'Debt collection', 'Credit card or prepaid card', 'Checking or savings account', 'Student loan', 'Debt collection', 'Debt collection', 'Student loan', 'Credit card or prepaid card', 'Credit card or prepaid card', 'Checking or savings account', 'Debt collection', 'Mortgage', 'Student loan', 'Credit card or prepaid card', 'Debt collection', 'Debt collection', 'Checking or savings account', 'Debt collection', 'Mortgage', 'Mortgage', 'Vehicle loan or lease', 'Debt collection', 'Checking or savings account', 'Checking or savings account', 'Credit card or prepaid card', 'Mortgage', 'Debt collection', 'Debt collection', 'Credit card or prepaid card', 'Credit card or prepaid card', 'Debt collection', 'Debt collection', 'Mortgage', 'Credit card or prepaid card', 'Debt collection', 'Credit card or prepaid card', 'Debt collection', 'Debt collection', 'Checking or savings account', 'Credit card or prepaid card', 'Debt collection', 'Debt collection', 'Vehicle loan or lease', 'Mortgage', 'Checking or savings account', 'Debt collection', 'Mortgage', 'Debt collection', 'Debt collection', 'Mortgage', 'Credit card or prepaid card', 'Credit card or prepaid card', 'Mortgage', 'Credit card or prepaid card', 'Debt collection', 'Debt collection', 'Credit card or prepaid card', 'Checking or savings account', 'Student loan', 'Debt collection', 'Mortgage', 'Credit card or prepaid card', 'Debt collection', 'Debt collection', 'Debt collection', 'Credit card or prepaid card', 'Debt collection', 'Vehicle loan or lease', 'Debt collection', 'Checking or savings account', 'Debt collection', 'Debt collection', 'Debt collection', 'Credit card or prepaid card', 'Vehicle loan or lease', 'Debt collection', 'Mortgage', 'Debt collection', 'Debt collection', 'Mortgage', 'Credit card or prepaid card', 'Student loan', 'Mortgage', 'Debt collection', 'Vehicle loan or lease', 'Debt collection', 'Debt collection', 'Checking or savings account', 'Debt collection', 'Checking or savings account', 'Mortgage', 'Credit card or prepaid card', 'Checking or savings account', 'Mortgage', 'Debt collection', 'Checking or savings account', 'Mortgage', 'Credit card or prepaid card', 'Debt collection', 'Checking or savings account', 'Debt collection', 'Credit card or prepaid card', 'Credit card or prepaid card', 'Credit card or prepaid card', 'Debt collection', 'Debt collection', 'Debt collection', 'Debt collection', 'Debt collection', 'Debt collection', 'Student loan', 'Credit card or prepaid card', 'Debt collection', 'Credit card or prepaid card', 'Credit card or prepaid card', 'Debt collection', 'Mortgage', 'Mortgage', 'Credit card or prepaid card', 'Mortgage', 'Mortgage', 'Mortgage', 'Mortgage', 'Debt collection', 'Vehicle loan or lease', 'Debt collection', 'Credit card or prepaid card', 'Debt collection', 'Debt collection', 'Checking or savings account', 'Credit card or prepaid card', 'Credit card or prepaid card', 'Credit card or prepaid card', 'Checking or savings account', 'Mortgage', 'Credit card or prepaid card', 'Credit card or prepaid card', 'Vehicle loan or lease', 'Checking or savings account', 'Credit card or prepaid card', 'Debt collection', 'Checking or savings account', 'Debt collection', 'Student loan', 'Debt collection', 'Credit card or prepaid card', 'Credit card or prepaid card', 'Debt collection', 'Checking or savings account', 'Credit card or prepaid card', 'Credit card or prepaid card', 'Debt collection', 'Credit card or prepaid card', 'Checking or savings account', 'Debt collection', 'Credit card or prepaid card', 'Mortgage', 'Credit card or prepaid card', 'Debt collection', 'Vehicle loan or lease', 'Credit card or prepaid card', 'Mortgage', 'Mortgage', 'Checking or savings account', 'Debt collection', 'Credit card or prepaid card', 'Credit card or prepaid card', 'Debt collection', 'Debt collection', 'Debt collection', 'Student loan', 'Debt collection', 'Debt collection', 'Debt collection', 'Credit card or prepaid card', 'Mortgage', 'Debt collection', 'Student loan', 'Debt collection', 'Credit card or prepaid card', 'Debt collection', 'Checking or savings account', 'Credit card or prepaid card', 'Debt collection', 'Debt collection', 'Credit card or prepaid card', 'Credit card or prepaid card', 'Debt collection', 'Mortgage', 'Debt collection', 'Checking or savings account', 'Checking or savings account', 'Debt collection', 'Checking or savings account', 'Student loan', 'Debt collection', 'Mortgage', 'Mortgage', 'Mortgage', 'Checking or savings account', 'Debt collection', 'Debt collection', 'Debt collection', 'Mortgage', 'Student loan', 'Credit card or prepaid card', 'Vehicle loan or lease', 'Debt collection', 'Credit card or prepaid card', 'Checking or savings account', 'Credit card or prepaid card', 'Credit card or prepaid card', 'Student loan', 'Credit card or prepaid card', 'Debt collection', 'Debt collection', 'Debt collection', 'Student loan', 'Credit card or prepaid card', 'Checking or savings account', 'Mortgage', 'Credit card or prepaid card', 'Debt collection', 'Mortgage', 'Credit card or prepaid card', 'Vehicle loan or lease', 'Credit card or prepaid card', 'Checking or savings account', 'Student loan', 'Debt collection', 'Debt collection', 'Debt collection', 'Debt collection', 'Vehicle loan or lease', 'Debt collection', 'Credit card or prepaid card', 'Credit card or prepaid card', 'Student loan', 'Vehicle loan or lease', 'Credit card or prepaid card', 'Debt collection', 'Credit card or prepaid card', 'Debt collection', 'Vehicle loan or lease', 'Debt collection', 'Debt collection', 'Checking or savings account', 'Debt collection', 'Mortgage', 'Debt collection', 'Checking or savings account', 'Mortgage', 'Checking or savings account', 'Checking or savings account', 'Debt collection', 'Mortgage', 'Checking or savings account', 'Debt collection', 'Checking or savings account', 'Credit card or prepaid card', 'Mortgage', 'Mortgage', 'Vehicle loan or lease', 'Debt collection', 'Student loan', 'Credit card or prepaid card', 'Credit card or prepaid card', 'Vehicle loan or lease', 'Credit card or prepaid card', 'Credit card or prepaid card', 'Debt collection', 'Checking or savings account', 'Mortgage', 'Checking or savings account', 'Mortgage', 'Credit card or prepaid card', 'Debt collection', 'Debt collection', 'Mortgage', 'Debt collection', 'Checking or savings account', 'Mortgage', 'Mortgage', 'Student loan', 'Debt collection', 'Debt collection', 'Debt collection', 'Vehicle loan or lease', 'Debt collection', 'Mortgage', 'Mortgage', 'Mortgage', 'Credit card or prepaid card', 'Debt collection', 'Debt collection', 'Debt collection', 'Debt collection', 'Vehicle loan or lease', 'Debt collection', 'Credit card or prepaid card', 'Checking or savings account', 'Debt collection', 'Vehicle loan or lease', 'Mortgage', 'Debt collection', 'Mortgage', 'Checking or savings account', 'Checking or savings account', 'Credit card or prepaid card', 'Student loan', 'Debt collection', 'Debt collection', 'Checking or savings account', 'Mortgage', 'Credit card or prepaid card', 'Credit card or prepaid card', 'Mortgage', 'Debt collection', 'Mortgage', 'Debt collection', 'Debt collection', 'Debt collection', 'Student loan', 'Mortgage', 'Debt collection', 'Credit card or prepaid card', 'Debt collection', 'Debt collection', 'Student loan', 'Credit card or prepaid card', 'Debt collection', 'Checking or savings account', 'Checking or savings account', 'Debt collection', 'Vehicle loan or lease', 'Debt collection', 'Mortgage', 'Debt collection', 'Debt collection', 'Debt collection', 'Student loan', 'Debt collection', 'Debt collection', 'Debt collection', 'Mortgage', 'Mortgage', 'Checking or savings account', 'Credit card or prepaid card', 'Mortgage', 'Mortgage', 'Debt collection', 'Checking or savings account', 'Credit card or prepaid card', 'Mortgage', 'Checking or savings account', 'Debt collection', 'Credit card or prepaid card', 'Debt collection', 'Mortgage', 'Mortgage', 'Debt collection', 'Debt collection', 'Mortgage', 'Credit card or prepaid card', 'Credit card or prepaid card', 'Debt collection', 'Checking or savings account', 'Credit card or prepaid card', 'Checking or savings account', 'Debt collection', 'Debt collection', 'Debt collection', 'Mortgage', 'Debt collection', 'Checking or savings account', 'Mortgage', 'Debt collection', 'Debt collection', 'Debt collection', 'Student loan', 'Debt collection', 'Credit card or prepaid card', 'Mortgage', 'Credit card or prepaid card', 'Mortgage', 'Checking or savings account', 'Vehicle loan or lease', 'Debt collection', 'Debt collection', 'Mortgage', 'Debt collection', 'Debt collection', 'Credit card or prepaid card', 'Credit card or prepaid card', 'Debt collection', 'Debt collection', 'Checking or savings account', 'Credit card or prepaid card', 'Credit card or prepaid card', 'Debt collection', 'Credit card or prepaid card', 'Mortgage', 'Credit card or prepaid card', 'Credit card or prepaid card', 'Credit card or prepaid card', 'Debt collection', 'Checking or savings account', 'Debt collection', 'Student loan', 'Debt collection', 'Debt collection', 'Credit card or prepaid card', 'Mortgage', 'Debt collection', 'Checking or savings account', 'Credit card or prepaid card', 'Checking or savings account', 'Checking or savings account', 'Mortgage', 'Credit card or prepaid card', 'Debt collection', 'Vehicle loan or lease', 'Debt collection', 'Credit card or prepaid card', 'Checking or savings account', 'Debt collection', 'Credit card or prepaid card', 'Credit card or prepaid card', 'Debt collection', 'Mortgage', 'Student loan', 'Debt collection', 'Mortgage', 'Mortgage', 'Credit card or prepaid card', 'Checking or savings account', 'Debt collection', 'Credit card or prepaid card', 'Debt collection', 'Checking or savings account', 'Mortgage', 'Mortgage', 'Mortgage', 'Debt collection', 'Debt collection', 'Credit card or prepaid card', 'Vehicle loan or lease', 'Credit card or prepaid card', 'Mortgage', 'Credit card or prepaid card', 'Mortgage', 'Debt collection', 'Mortgage', 'Credit card or prepaid card', 'Credit card or prepaid card', 'Credit card or prepaid card', 'Debt collection', 'Debt collection', 'Checking or savings account', 'Credit card or prepaid card', 'Checking or savings account', 'Vehicle loan or lease', 'Debt collection', 'Debt collection', 'Debt collection', 'Mortgage', 'Debt collection', 'Debt collection', 'Checking or savings account', 'Debt collection', 'Mortgage', 'Credit card or prepaid card', 'Vehicle loan or lease', 'Checking or savings account', 'Debt collection', 'Credit card or prepaid card', 'Debt collection', 'Student loan', 'Student loan', 'Debt collection', 'Debt collection', 'Debt collection', 'Debt collection', 'Credit card or prepaid card', 'Credit card or prepaid card', 'Debt collection', 'Mortgage', 'Debt collection', 'Mortgage', 'Debt collection', 'Credit card or prepaid card', 'Mortgage', 'Debt collection', 'Mortgage', 'Checking or savings account', 'Credit card or prepaid card', 'Credit card or prepaid card', 'Checking or savings account', 'Credit card or prepaid card', 'Debt collection', 'Credit card or prepaid card', 'Credit card or prepaid card', 'Debt collection', 'Checking or savings account', 'Student loan', 'Credit card or prepaid card', 'Mortgage', 'Debt collection', 'Student loan', 'Mortgage', 'Credit card or prepaid card', 'Mortgage', 'Debt collection', 'Debt collection', 'Checking or savings account', 'Checking or savings account', 'Credit card or prepaid card', 'Debt collection', 'Mortgage', 'Credit card or prepaid card', 'Debt collection', 'Mortgage', 'Checking or savings account', 'Credit card or prepaid card', 'Credit card or prepaid card', 'Debt collection', 'Debt collection', 'Student loan', 'Mortgage', 'Vehicle loan or lease', 'Debt collection', 'Vehicle loan or lease', 'Debt collection', 'Debt collection', 'Debt collection', 'Credit card or prepaid card', 'Credit card or prepaid card', 'Mortgage', 'Credit card or prepaid card', 'Debt collection', 'Student loan', 'Credit card or prepaid card', 'Credit card or prepaid card', 'Debt collection', 'Debt collection', 'Mortgage', 'Checking or savings account', 'Debt collection', 'Credit card or prepaid card', 'Debt collection', 'Debt collection', 'Credit card or prepaid card', 'Mortgage', 'Debt collection', 'Credit card or prepaid card', 'Debt collection', 'Debt collection', 'Checking or savings account', 'Debt collection', 'Debt collection', 'Mortgage', 'Debt collection', 'Debt collection', 'Vehicle loan or lease', 'Debt collection', 'Vehicle loan or lease', 'Debt collection', 'Debt collection', 'Checking or savings account', 'Mortgage', 'Debt collection', 'Mortgage', 'Debt collection', 'Debt collection', 'Debt collection', 'Credit card or prepaid card', 'Debt collection', 'Debt collection', 'Debt collection', 'Credit card or prepaid card', 'Student loan', 'Credit card or prepaid card', 'Checking or savings account', 'Debt collection', 'Credit card or prepaid card', 'Debt collection', 'Mortgage', 'Student loan', 'Debt collection', 'Credit card or prepaid card', 'Mortgage', 'Debt collection', 'Debt collection', 'Vehicle loan or lease', 'Credit card or prepaid card', 'Debt collection', 'Vehicle loan or lease', 'Vehicle loan or lease', 'Mortgage', 'Credit card or prepaid card', 'Debt collection', 'Credit card or prepaid card', 'Debt collection', 'Mortgage', 'Debt collection', 'Credit card or prepaid card', 'Debt collection', 'Credit card or prepaid card', 'Student loan', 'Debt collection', 'Credit card or prepaid card', 'Debt collection', 'Credit card or prepaid card', 'Credit card or prepaid card', 'Credit card or prepaid card', 'Debt collection', 'Debt collection', 'Checking or savings account', 'Debt collection', 'Debt collection', 'Debt collection', 'Debt collection', 'Debt collection', 'Credit card or prepaid card', 'Checking or savings account', 'Debt collection', 'Mortgage', 'Debt collection', 'Debt collection', 'Checking or savings account', 'Debt collection', 'Credit card or prepaid card', 'Checking or savings account', 'Debt collection', 'Checking or savings account', 'Credit card or prepaid card', 'Credit card or prepaid card', 'Debt collection', 'Checking or savings account', 'Debt collection', 'Debt collection', 'Mortgage', 'Debt collection', 'Student loan', 'Credit card or prepaid card', 'Mortgage', 'Debt collection', 'Debt collection', 'Student loan', 'Debt collection', 'Vehicle loan or lease', 'Credit card or prepaid card', 'Debt collection', 'Mortgage', 'Vehicle loan or lease', 'Debt collection', 'Debt collection', 'Vehicle loan or lease', 'Debt collection', 'Credit card or prepaid card', 'Credit card or prepaid card', 'Mortgage', 'Debt collection', 'Debt collection', 'Mortgage', 'Credit card or prepaid card', 'Credit card or prepaid card', 'Credit card or prepaid card', 'Debt collection', 'Vehicle loan or lease', 'Checking or savings account', 'Debt collection', 'Debt collection', 'Credit card or prepaid card', 'Debt collection', 'Checking or savings account', 'Mortgage', 'Credit card or prepaid card', 'Checking or savings account', 'Debt collection', 'Credit card or prepaid card', 'Mortgage', 'Debt collection', 'Student loan', 'Credit card or prepaid card', 'Credit card or prepaid card', 'Debt collection', 'Student loan', 'Credit card or prepaid card', 'Student loan', 'Checking or savings account', 'Debt collection', 'Credit card or prepaid card', 'Debt collection', 'Debt collection', 'Credit card or prepaid card', 'Debt collection', 'Checking or savings account', 'Credit card or prepaid card', 'Debt collection', 'Debt collection', 'Debt collection', 'Debt collection', 'Credit card or prepaid card', 'Student loan', 'Debt collection', 'Mortgage', 'Debt collection', 'Student loan', 'Student loan', 'Credit card or prepaid card', 'Credit card or prepaid card', 'Debt collection', 'Debt collection', 'Debt collection', 'Mortgage', 'Checking or savings account', 'Credit card or prepaid card', 'Vehicle loan or lease', 'Debt collection', 'Student loan', 'Credit card or prepaid card', 'Checking or savings account', 'Checking or savings account', 'Credit card or prepaid card', 'Mortgage', 'Vehicle loan or lease', 'Debt collection', 'Mortgage', 'Credit card or prepaid card', 'Mortgage', 'Debt collection', 'Credit card or prepaid card', 'Checking or savings account', 'Credit card or prepaid card', 'Debt collection', 'Vehicle loan or lease', 'Student loan', 'Credit card or prepaid card', 'Debt collection', 'Checking or savings account', 'Credit card or prepaid card', 'Credit card or prepaid card', 'Checking or savings account', 'Student loan', 'Student loan', 'Debt collection', 'Vehicle loan or lease', 'Student loan', 'Credit card or prepaid card', 'Debt collection', 'Credit card or prepaid card', 'Debt collection', 'Debt collection', 'Credit card or prepaid card', 'Debt collection', 'Credit card or prepaid card', 'Mortgage', 'Credit card or prepaid card', 'Credit card or prepaid card', 'Checking or savings account', 'Mortgage', 'Credit card or prepaid card', 'Debt collection', 'Debt collection', 'Debt collection', 'Mortgage', 'Debt collection', 'Credit card or prepaid card', 'Credit card or prepaid card', 'Credit card or prepaid card', 'Mortgage', 'Mortgage', 'Checking or savings account', 'Mortgage', 'Debt collection', 'Debt collection', 'Mortgage', 'Credit card or prepaid card', 'Mortgage', 'Checking or savings account', 'Credit card or prepaid card', 'Mortgage', 'Vehicle loan or lease', 'Mortgage', 'Student loan', 'Credit card or prepaid card', 'Debt collection', 'Debt collection', 'Debt collection', 'Vehicle loan or lease', 'Checking or savings account', 'Debt collection', 'Debt collection', 'Debt collection', 'Mortgage', 'Credit card or prepaid card', 'Mortgage', 'Debt collection', 'Credit card or prepaid card', 'Credit card or prepaid card', 'Checking or savings account', 'Debt collection', 'Mortgage', 'Mortgage', 'Debt collection', 'Credit card or prepaid card', 'Checking or savings account', 'Debt collection', 'Mortgage', 'Mortgage', 'Checking or savings account', 'Credit card or prepaid card', 'Debt collection', 'Mortgage', 'Vehicle loan or lease', 'Credit card or prepaid card', 'Credit card or prepaid card', 'Debt collection', 'Credit card or prepaid card', 'Credit card or prepaid card', 'Student loan', 'Checking or savings account', 'Credit card or prepaid card', 'Mortgage', 'Credit card or prepaid card', 'Debt collection', 'Credit card or prepaid card', 'Vehicle loan or lease', 'Debt collection', 'Debt collection', 'Debt collection', 'Debt collection', 'Credit card or prepaid card', 'Debt collection', 'Credit card or prepaid card', 'Debt collection', 'Credit card or prepaid card', 'Mortgage', 'Debt collection', 'Credit card or prepaid card', 'Debt collection', 'Mortgage', 'Credit card or prepaid card', 'Mortgage', 'Credit card or prepaid card', 'Credit card or prepaid card', 'Mortgage', 'Credit card or prepaid card', 'Checking or savings account', 'Debt collection', 'Debt collection', 'Credit card or prepaid card', 'Credit card or prepaid card', 'Credit card or prepaid card', 'Debt collection', 'Debt collection', 'Debt collection', 'Debt collection', 'Debt collection', 'Mortgage', 'Student loan', 'Credit card or prepaid card', 'Checking or savings account', 'Debt collection', 'Checking or savings account', 'Mortgage', 'Credit card or prepaid card', 'Mortgage', 'Debt collection', 'Credit card or prepaid card', 'Mortgage', 'Debt collection', 'Checking or savings account', 'Debt collection', 'Credit card or prepaid card', 'Credit card or prepaid card', 'Checking or savings account', 'Mortgage', 'Debt collection', 'Debt collection', 'Mortgage', 'Debt collection', 'Debt collection', 'Checking or savings account', 'Checking or savings account', 'Debt collection', 'Debt collection', 'Debt collection', 'Credit card or prepaid card', 'Debt collection', 'Mortgage', 'Mortgage', 'Debt collection', 'Mortgage', 'Mortgage', 'Debt collection', 'Student loan', 'Checking or savings account', 'Checking or savings account', 'Debt collection', 'Debt collection', 'Debt collection', 'Credit card or prepaid card', 'Credit card or prepaid card', 'Checking or savings account', 'Credit card or prepaid card', 'Debt collection', 'Mortgage', 'Mortgage', 'Credit card or prepaid card', 'Checking or savings account', 'Mortgage', 'Debt collection', 'Credit card or prepaid card', 'Credit card or prepaid card', 'Debt collection', 'Credit card or prepaid card', 'Credit card or prepaid card', 'Debt collection', 'Mortgage', 'Debt collection', 'Debt collection', 'Student loan', 'Debt collection', 'Checking or savings account', 'Credit card or prepaid card', 'Debt collection', 'Mortgage', 'Debt collection', 'Checking or savings account', 'Debt collection', 'Checking or savings account', 'Checking or savings account', 'Debt collection', 'Debt collection', 'Checking or savings account', 'Checking or savings account', 'Student loan', 'Credit card or prepaid card', 'Credit card or prepaid card', 'Mortgage', 'Mortgage', 'Credit card or prepaid card', 'Credit card or prepaid card', 'Debt collection', 'Debt collection', 'Credit card or prepaid card', 'Mortgage', 'Debt collection', 'Mortgage', 'Debt collection', 'Checking or savings account', 'Checking or savings account', 'Checking or savings account', 'Debt collection', 'Checking or savings account', 'Debt collection', 'Debt collection', 'Debt collection', 'Debt collection', 'Debt collection', 'Checking or savings account', 'Mortgage', 'Credit card or prepaid card', 'Credit card or prepaid card', 'Credit card or prepaid card', 'Mortgage', 'Mortgage', 'Checking or savings account', 'Mortgage', 'Debt collection', 'Debt collection', 'Credit card or prepaid card', 'Credit card or prepaid card', 'Debt collection', 'Mortgage', 'Debt collection', 'Checking or savings account', 'Credit card or prepaid card', 'Vehicle loan or lease', 'Debt collection', 'Debt collection', 'Debt collection', 'Mortgage', 'Vehicle loan or lease', 'Credit card or prepaid card', 'Mortgage', 'Debt collection', 'Debt collection', 'Debt collection', 'Debt collection', 'Credit card or prepaid card', 'Debt collection', 'Mortgage', 'Mortgage', 'Debt collection', 'Debt collection', 'Credit card or prepaid card', 'Checking or savings account', 'Vehicle loan or lease', 'Debt collection', 'Credit card or prepaid card', 'Credit card or prepaid card', 'Mortgage', 'Debt collection', 'Checking or savings account', 'Debt collection', 'Debt collection', 'Debt collection', 'Vehicle loan or lease', 'Checking or savings account', 'Debt collection', 'Debt collection', 'Debt collection', 'Mortgage', 'Credit card or prepaid card', 'Debt collection', 'Mortgage', 'Credit card or prepaid card', 'Credit card or prepaid card', 'Debt collection', 'Checking or savings account', 'Debt collection', 'Student loan', 'Credit card or prepaid card', 'Debt collection', 'Debt collection', 'Credit card or prepaid card', 'Vehicle loan or lease', 'Student loan', 'Debt collection', 'Mortgage', 'Credit card or prepaid card', 'Debt collection', 'Mortgage', 'Credit card or prepaid card', 'Credit card or prepaid card', 'Credit card or prepaid card', 'Mortgage', 'Mortgage', 'Credit card or prepaid card', 'Credit card or prepaid card', 'Debt collection', 'Debt collection', 'Credit card or prepaid card', 'Debt collection', 'Mortgage', 'Vehicle loan or lease', 'Debt collection', 'Credit card or prepaid card', 'Checking or savings account', 'Checking or savings account', 'Debt collection', 'Debt collection', 'Debt collection', 'Mortgage', 'Credit card or prepaid card', 'Debt collection', 'Debt collection', 'Debt collection', 'Mortgage', 'Credit card or prepaid card', 'Checking or savings account', 'Mortgage', 'Mortgage', 'Debt collection', 'Checking or savings account', 'Debt collection', 'Debt collection', 'Credit card or prepaid card', 'Debt collection', 'Mortgage', 'Debt collection', 'Debt collection', 'Credit card or prepaid card', 'Mortgage', 'Debt collection', 'Mortgage', 'Debt collection', 'Mortgage', 'Credit card or prepaid card', 'Credit card or prepaid card', 'Checking or savings account', 'Mortgage', 'Credit card or prepaid card', 'Student loan', 'Debt collection', 'Credit card or prepaid card', 'Debt collection', 'Debt collection', 'Student loan', 'Checking or savings account', 'Debt collection', 'Credit card or prepaid card', 'Credit card or prepaid card', 'Mortgage', 'Student loan', 'Debt collection', 'Debt collection', 'Debt collection', 'Checking or savings account', 'Checking or savings account', 'Debt collection', 'Debt collection', 'Student loan', 'Mortgage', 'Mortgage', 'Debt collection', 'Mortgage', 'Credit card or prepaid card', 'Credit card or prepaid card', 'Mortgage', 'Debt collection', 'Credit card or prepaid card', 'Student loan', 'Credit card or prepaid card', 'Credit card or prepaid card', 'Credit card or prepaid card', 'Debt collection', 'Mortgage', 'Credit card or prepaid card', 'Debt collection', 'Student loan', 'Credit card or prepaid card', 'Vehicle loan or lease', 'Credit card or prepaid card', 'Debt collection', 'Student loan', 'Vehicle loan or lease', 'Debt collection', 'Mortgage', 'Debt collection', 'Credit card or prepaid card', 'Checking or savings account', 'Vehicle loan or lease', 'Debt collection', 'Checking or savings account', 'Credit card or prepaid card', 'Debt collection', 'Credit card or prepaid card', 'Debt collection', 'Debt collection', 'Mortgage', 'Debt collection', 'Mortgage', 'Debt collection', 'Credit card or prepaid card', 'Student loan', 'Debt collection', 'Credit card or prepaid card', 'Debt collection', 'Debt collection', 'Credit card or prepaid card', 'Credit card or prepaid card', 'Mortgage', 'Credit card or prepaid card', 'Checking or savings account', 'Debt collection', 'Debt collection', 'Mortgage', 'Credit card or prepaid card', 'Credit card or prepaid card', 'Debt collection', 'Credit card or prepaid card', 'Debt collection', 'Checking or savings account', 'Debt collection', 'Debt collection', 'Credit card or prepaid card', 'Mortgage', 'Checking or savings account', 'Checking or savings account', 'Checking or savings account', 'Debt collection', 'Mortgage', 'Checking or savings account', 'Debt collection', 'Vehicle loan or lease', 'Debt collection', 'Debt collection', 'Vehicle loan or lease', 'Debt collection', 'Mortgage', 'Credit card or prepaid card', 'Credit card or prepaid card', 'Credit card or prepaid card', 'Credit card or prepaid card', 'Debt collection', 'Debt collection', 'Credit card or prepaid card', 'Debt collection', 'Student loan', 'Debt collection', 'Debt collection', 'Credit card or prepaid card', 'Credit card or prepaid card', 'Mortgage', 'Debt collection', 'Debt collection', 'Mortgage', 'Mortgage', 'Mortgage', 'Mortgage', 'Mortgage', 'Debt collection', 'Debt collection', 'Debt collection', 'Mortgage', 'Credit card or prepaid card', 'Mortgage', 'Credit card or prepaid card', 'Mortgage', 'Mortgage', 'Credit card or prepaid card', 'Debt collection', 'Credit card or prepaid card', 'Checking or savings account', 'Debt collection', 'Credit card or prepaid card', 'Checking or savings account', 'Debt collection', 'Credit card or prepaid card', 'Credit card or prepaid card', 'Credit card or prepaid card', 'Checking or savings account', 'Credit card or prepaid card', 'Credit card or prepaid card', 'Checking or savings account', 'Debt collection', 'Debt collection', 'Debt collection', 'Checking or savings account', 'Vehicle loan or lease', 'Mortgage', 'Mortgage', 'Student loan', 'Credit card or prepaid card', 'Student loan', 'Debt collection', 'Debt collection', 'Debt collection', 'Debt collection', 'Debt collection', 'Mortgage', 'Credit card or prepaid card', 'Checking or savings account', 'Checking or savings account', 'Debt collection', 'Debt collection', 'Checking or savings account', 'Checking or savings account', 'Debt collection', 'Checking or savings account', 'Debt collection', 'Debt collection', 'Mortgage', 'Checking or savings account', 'Credit card or prepaid card', 'Debt collection', 'Student loan', 'Debt collection', 'Checking or savings account', 'Vehicle loan or lease', 'Debt collection', 'Debt collection', 'Debt collection', 'Checking or savings account', 'Mortgage', 'Credit card or prepaid card', 'Checking or savings account', 'Debt collection', 'Debt collection', 'Debt collection', 'Mortgage', 'Debt collection', 'Debt collection', 'Mortgage', 'Checking or savings account', 'Mortgage', 'Mortgage', 'Credit card or prepaid card', 'Debt collection', 'Credit card or prepaid card', 'Debt collection', 'Debt collection', 'Checking or savings account', 'Credit card or prepaid card', 'Debt collection', 'Debt collection', 'Credit card or prepaid card', 'Debt collection', 'Checking or savings account', 'Student loan', 'Credit card or prepaid card', 'Credit card or prepaid card', 'Checking or savings account', 'Mortgage', 'Debt collection', 'Checking or savings account', 'Debt collection', 'Credit card or prepaid card', 'Debt collection', 'Credit card or prepaid card', 'Mortgage', 'Debt collection', 'Credit card or prepaid card', 'Debt collection', 'Mortgage', 'Debt collection', 'Credit card or prepaid card', 'Debt collection', 'Mortgage', 'Debt collection', 'Credit card or prepaid card', 'Credit card or prepaid card', 'Vehicle loan or lease', 'Checking or savings account', 'Checking or savings account', 'Mortgage', 'Debt collection', 'Debt collection', 'Checking or savings account', 'Vehicle loan or lease', 'Checking or savings account', 'Vehicle loan or lease', 'Debt collection', 'Debt collection', 'Credit card or prepaid card', 'Checking or savings account', 'Debt collection', 'Mortgage', 'Debt collection', 'Student loan', 'Mortgage', 'Credit card or prepaid card', 'Mortgage', 'Debt collection', 'Debt collection', 'Credit card or prepaid card', 'Debt collection', 'Debt collection', 'Debt collection', 'Mortgage', 'Debt collection', 'Debt collection', 'Checking or savings account', 'Debt collection', 'Debt collection', 'Credit card or prepaid card', 'Debt collection', 'Debt collection', 'Debt collection', 'Debt collection', 'Credit card or prepaid card', 'Debt collection', 'Credit card or prepaid card', 'Debt collection', 'Debt collection', 'Debt collection', 'Debt collection', 'Debt collection', 'Checking or savings account', 'Debt collection', 'Debt collection', 'Vehicle loan or lease', 'Debt collection', 'Checking or savings account', 'Mortgage', 'Vehicle loan or lease', 'Checking or savings account', 'Mortgage', 'Mortgage', 'Credit card or prepaid card', 'Debt collection', 'Debt collection', 'Debt collection', 'Debt collection', 'Vehicle loan or lease', 'Vehicle loan or lease', 'Debt collection', 'Credit card or prepaid card', 'Debt collection', 'Student loan', 'Credit card or prepaid card', 'Credit card or prepaid card', 'Student loan', 'Student loan', 'Debt collection', 'Credit card or prepaid card', 'Debt collection', 'Checking or savings account', 'Debt collection', 'Debt collection', 'Debt collection', 'Credit card or prepaid card', 'Debt collection', 'Mortgage', 'Mortgage', 'Debt collection', 'Debt collection', 'Mortgage', 'Debt collection', 'Credit card or prepaid card', 'Checking or savings account', 'Debt collection', 'Mortgage', 'Mortgage', 'Debt collection', 'Debt collection', 'Debt collection', 'Debt collection', 'Debt collection', 'Credit card or prepaid card', 'Debt collection', 'Credit card or prepaid card', 'Debt collection', 'Mortgage', 'Debt collection', 'Checking or savings account', 'Debt collection', 'Credit card or prepaid card', 'Mortgage', 'Mortgage', 'Mortgage', 'Debt collection', 'Checking or savings account', 'Debt collection', 'Debt collection', 'Mortgage', 'Checking or savings account', 'Debt collection', 'Debt collection', 'Debt collection', 'Checking or savings account', 'Debt collection', 'Checking or savings account', 'Debt collection', 'Debt collection', 'Debt collection', 'Vehicle loan or lease', 'Mortgage', 'Debt collection', 'Credit card or prepaid card', 'Checking or savings account', 'Debt collection', 'Mortgage', 'Debt collection', 'Debt collection', 'Credit card or prepaid card', 'Debt collection', 'Credit card or prepaid card', 'Checking or savings account', 'Debt collection', 'Credit card or prepaid card', 'Debt collection', 'Debt collection', 'Debt collection', 'Debt collection', 'Mortgage', 'Mortgage', 'Checking or savings account', 'Debt collection', 'Debt collection', 'Debt collection', 'Debt collection', 'Checking or savings account', 'Credit card or prepaid card', 'Debt collection', 'Debt collection', 'Debt collection', 'Checking or savings account', 'Mortgage', 'Debt collection', 'Debt collection', 'Credit card or prepaid card', 'Checking or savings account', 'Debt collection']\n"
     ]
    }
   ],
   "source": [
    "# Print the product groups in the dataset\n",
    "print(list(mydata_train.Product))"
   ]
  },
  {
   "cell_type": "code",
   "execution_count": 4,
   "metadata": {
    "id": "JvQb2r0aDR_J"
   },
   "outputs": [
    {
     "name": "stdout",
     "output_type": "stream",
     "text": [
      "<class 'pandas.core.frame.DataFrame'>\n"
     ]
    }
   ],
   "source": [
    "# What is the type of 'mydata_train'\n",
    "print(type(mydata_train))"
   ]
  },
  {
   "cell_type": "code",
   "execution_count": 5,
   "metadata": {
    "id": "ozzwyREhDaMK"
   },
   "outputs": [
    {
     "name": "stdout",
     "output_type": "stream",
     "text": [
      "5000\n",
      "5000\n"
     ]
    }
   ],
   "source": [
    "# Check the length of the data\n",
    "print(len(mydata_train.Product))\n",
    "print(len(mydata_train.Consumer_complaint_narrative))\n"
   ]
  },
  {
   "cell_type": "markdown",
   "metadata": {
    "id": "BlipMuEpDz-K"
   },
   "source": [
    "### Expected Output: \n",
    "5000\n",
    "\n",
    "5000\n"
   ]
  },
  {
   "cell_type": "markdown",
   "metadata": {
    "id": "55FKOBBuEDI2"
   },
   "source": [
    "## Extracting Features from the Dataset                        (20 Points)"
   ]
  },
  {
   "cell_type": "markdown",
   "metadata": {
    "id": "u4GDENzmEEkG"
   },
   "source": [
    "In order to perform machine learning on text documents, we first need to turn the text content into numerical feature vectors."
   ]
  },
  {
   "cell_type": "markdown",
   "metadata": {
    "id": "OgxfDXmxEHid"
   },
   "source": [
    "### TF-IDF Vectorization"
   ]
  },
  {
   "cell_type": "markdown",
   "metadata": {
    "id": "Q8qNFFYyEKsa"
   },
   "source": [
    "Our model cannot simply read the text data so we convert it into numerical format. In order to convert the data into numerical format we create vectors from text.\n",
    "\n",
    "For this particular purpose we could either employ Bag of Words or TF-IDF Vectorization\n",
    "\n",
    "Bag of Words just creates a set of vectors containing the count of word occurrences in the document (reviews), while the TF-IDF model contains information on the more important words and the less important ones as well.\n",
    "\n",
    "TF-IDF stands for Term Frequency-Inverse Document Frequency, which instead of giving more weight to words that occur more frequently, it gives a higher weight to words that occur less frequently.\n",
    "\n",
    "Ref: 6.5 TF-IDF: Weighing terms in the vector section of Dan Jurafsky book\n",
    "https://web.stanford.edu/~jurafsky/slp3/6.pdf"
   ]
  },
  {
   "cell_type": "markdown",
   "metadata": {
    "id": "dLzgRJRZEP3k"
   },
   "source": [
    "TF-IDF = Term Frequency (TF) * Inverse Document Frequency (IDF)"
   ]
  },
  {
   "cell_type": "markdown",
   "metadata": {
    "id": "xe5lHi3NE1QJ"
   },
   "source": [
    "Term Frequency is the measure of the frequency of words in a document. It is the ratio of the number of times the word appears in a document compared to the total number of words in that document.\n",
    "\n",
    "The words that occur rarely in the corpus have a high IDF score. It is the log of the ratio of the number of documents to the number of documents containing the word."
   ]
  },
  {
   "cell_type": "markdown",
   "metadata": {
    "id": "HXotAER_EQ8T"
   },
   "source": [
    "idf(t) = log(N/(df + 1))"
   ]
  },
  {
   "cell_type": "code",
   "execution_count": 6,
   "metadata": {
    "id": "2vzVI8ylFAEl"
   },
   "outputs": [],
   "source": [
    "text = mydata_train.Consumer_complaint_narrative\n"
   ]
  },
  {
   "cell_type": "markdown",
   "metadata": {
    "id": "HZ2AatmvFtE-"
   },
   "source": [
    "## Preprocessing the Corpus"
   ]
  },
  {
   "cell_type": "code",
   "execution_count": 7,
   "metadata": {
    "id": "XyJbe42AFuHp"
   },
   "outputs": [],
   "source": [
    "# Preprocessing the data\n",
    "\n",
    "lines = [] \n",
    "word_list = [] \n",
    " \n",
    "for line in text:\n",
    "    #tokenize the text documents and update the lists word_list and lines\n",
    "    line = line.lower()\n",
    "    line = word_tokenize(line)\n",
    "    \n",
    "    line = [i for i in line if i.isalpha()]\n",
    "    \n",
    "    lines.append(line) \n",
    "    \n",
    "    for word in line:\n",
    "        word_list.append(word)\n",
    "\n",
    "\n",
    "# Make sure the word_list contains unique tokens\n",
    "word_list = list(set(word_list))\n",
    "\n",
    "# Calculate the total documents present in the corpus\n",
    "total_docs = len(lines)\n",
    " \n",
    "#Create a dictionary to keep track of index of each word\n",
    "dict_idx = {key: val for val, key in enumerate(word_list)}"
   ]
  },
  {
   "cell_type": "code",
   "execution_count": 8,
   "metadata": {
    "id": "E6M_CoI9FxYb"
   },
   "outputs": [],
   "source": [
    "# Create a frequency dictionary\n",
    " \n",
    "def frequency_dict(lines):\n",
    "    '''\n",
    "    lines: list containing all the tokens\n",
    "    ---\n",
    "    freq_word: returns a dictionary which keeps the count of the number of documents containing the given word\n",
    "    '''\n",
    "    freq_word={}\n",
    "    for word in word_list: \n",
    "            cnt = 0\n",
    "            for row in lines:\n",
    "                if word in row:\n",
    "                    cnt+=1 \n",
    "            freq_word[word]=cnt\n",
    "\n",
    "    return freq_word\n"
   ]
  },
  {
   "cell_type": "code",
   "execution_count": 9,
   "metadata": {
    "id": "qFkt9KBgFz43"
   },
   "outputs": [
    {
     "data": {
      "text/plain": [
       "{'cks': 1,\n",
       " 'satisfaction': 16,\n",
       " 'standalone': 1,\n",
       " 'vacation': 25,\n",
       " 'fourth': 16,\n",
       " 'couldve': 3,\n",
       " 'maturity': 10,\n",
       " 'es': 1,\n",
       " 'instructing': 7,\n",
       " 'cirscuntaces': 1,\n",
       " 'engage': 5,\n",
       " 'enforced': 2,\n",
       " 'subterfuge': 6,\n",
       " 'since': 975,\n",
       " 'ebay': 2,\n",
       " 'beginning': 119,\n",
       " 'downpayment': 5,\n",
       " 'vance': 1,\n",
       " 'ball': 9,\n",
       " 'package': 44,\n",
       " 'means': 104,\n",
       " 'ignores': 4,\n",
       " 'appealed': 12,\n",
       " 'profanity': 4,\n",
       " 'duplicating': 2,\n",
       " 'objections': 5,\n",
       " 'depicts': 2,\n",
       " 'foreigners': 2,\n",
       " 'criminal': 47,\n",
       " 'garnering': 1,\n",
       " 'oppressive': 1,\n",
       " 'declaring': 7,\n",
       " 'tanking': 1,\n",
       " 'aggregate': 1,\n",
       " 'garnish': 27,\n",
       " 'vet': 8,\n",
       " 'phonexxxx': 1,\n",
       " 'safety': 14,\n",
       " 'pulled': 58,\n",
       " 'mislead': 24,\n",
       " 'stays': 4,\n",
       " 'infamous': 3,\n",
       " 'sate': 1,\n",
       " 'friends': 20,\n",
       " 'urgency': 3,\n",
       " 'questionably': 1,\n",
       " 'calendar': 19,\n",
       " 'thesis': 1,\n",
       " 'corrected': 84,\n",
       " 'annoyed': 4,\n",
       " 'reminders': 2,\n",
       " 'inefficient': 3,\n",
       " 'component': 1,\n",
       " 'continually': 28,\n",
       " 'nguyen': 1,\n",
       " 'actioning': 1,\n",
       " 'creative': 1,\n",
       " 'leapt': 1,\n",
       " 'pursuit': 3,\n",
       " 'b': 104,\n",
       " 'description': 29,\n",
       " 'pertain': 2,\n",
       " 'correspond': 5,\n",
       " 'noting': 10,\n",
       " 'treaty': 1,\n",
       " 'logistical': 1,\n",
       " 'madness': 1,\n",
       " 'resend': 14,\n",
       " 'bringing': 24,\n",
       " 'complainant': 1,\n",
       " 'censor': 1,\n",
       " 'trucking': 2,\n",
       " 'intermittently': 1,\n",
       " 'staged': 1,\n",
       " 'bann': 1,\n",
       " 'coulda': 1,\n",
       " 'blurry': 1,\n",
       " 'amcollent': 1,\n",
       " 'verfied': 1,\n",
       " 'jumped': 4,\n",
       " 'actionable': 3,\n",
       " 'cra': 11,\n",
       " 'wacked': 1,\n",
       " 'vouchers': 1,\n",
       " 'accounted': 3,\n",
       " 'composed': 1,\n",
       " 'scrutinized': 2,\n",
       " 'governance': 1,\n",
       " 'incopens': 1,\n",
       " 'exorbanant': 1,\n",
       " 'valididty': 1,\n",
       " 'cert': 2,\n",
       " 'rural': 3,\n",
       " 'dominate': 1,\n",
       " 'mistaking': 1,\n",
       " 'michigan': 14,\n",
       " 'residency': 8,\n",
       " 'disgust': 1,\n",
       " 'nonsense': 7,\n",
       " 'merging': 2,\n",
       " 'renigg': 1,\n",
       " 'same': 704,\n",
       " 'landscape': 1,\n",
       " 'btheblender': 1,\n",
       " 'parttime': 1,\n",
       " 'scott': 5,\n",
       " 'users': 14,\n",
       " 'exposing': 3,\n",
       " 'image': 10,\n",
       " 'brandsource': 1,\n",
       " 'decency': 8,\n",
       " 'recode': 1,\n",
       " 'snow': 2,\n",
       " 'campaigns': 1,\n",
       " 'revise': 3,\n",
       " 'concealing': 2,\n",
       " 'wesbanco': 1,\n",
       " 'pole': 1,\n",
       " 'fidelis': 1,\n",
       " 'penalized': 18,\n",
       " 'stuffs': 3,\n",
       " 'charter': 2,\n",
       " 'permanentlly': 1,\n",
       " 'rug': 4,\n",
       " 'soffit': 1,\n",
       " 'requests': 120,\n",
       " 'suggesting': 5,\n",
       " 'liquor': 2,\n",
       " 'timetable': 1,\n",
       " 'declaratory': 1,\n",
       " 'chargeback': 16,\n",
       " 'iffy': 1,\n",
       " 'informs': 6,\n",
       " 'reduce': 42,\n",
       " 'voter': 1,\n",
       " 'extracted': 2,\n",
       " 'myrights': 5,\n",
       " 've': 3,\n",
       " 'maxims': 1,\n",
       " 'noncontributing': 1,\n",
       " 'gal': 1,\n",
       " 'cheaper': 7,\n",
       " 'encurred': 1,\n",
       " 'unneccesarily': 1,\n",
       " 'known': 83,\n",
       " 'caseload': 1,\n",
       " 'eluded': 1,\n",
       " 'thinking': 34,\n",
       " 'help': 733,\n",
       " 'permanent': 18,\n",
       " 'detriment': 7,\n",
       " 'max': 6,\n",
       " 'reluctantlyand': 1,\n",
       " 'websites': 10,\n",
       " 'acquisition': 17,\n",
       " 'counselors': 1,\n",
       " 'nra': 1,\n",
       " 'credence': 17,\n",
       " 'rain': 4,\n",
       " 'slipped': 4,\n",
       " 'damaged': 38,\n",
       " 'ajusted': 1,\n",
       " 'controversy': 1,\n",
       " 'xxxxoffice': 1,\n",
       " 'bca': 1,\n",
       " 'existence': 13,\n",
       " 'partner': 19,\n",
       " 'artist': 4,\n",
       " 'lst': 1,\n",
       " 'enticement': 1,\n",
       " 'beware': 4,\n",
       " 'sticks': 1,\n",
       " 'bankruptsy': 1,\n",
       " 'flux': 1,\n",
       " 'timespan': 1,\n",
       " 'umb': 1,\n",
       " 'misplacing': 1,\n",
       " 'quitting': 1,\n",
       " 'property': 237,\n",
       " 'equally': 5,\n",
       " 'map': 2,\n",
       " 'cough': 1,\n",
       " 'oustanding': 2,\n",
       " 'carebding': 1,\n",
       " 'seventh': 3,\n",
       " 'confusion': 26,\n",
       " 'notated': 4,\n",
       " 'renctly': 1,\n",
       " 'securities': 6,\n",
       " 'prep': 1,\n",
       " 'merger': 15,\n",
       " 'rerun': 1,\n",
       " 'surges': 1,\n",
       " 'exported': 1,\n",
       " 'misconduct': 9,\n",
       " 'pleas': 6,\n",
       " 'calculating': 6,\n",
       " 'voidable': 1,\n",
       " 'uphold': 2,\n",
       " 'theory': 2,\n",
       " 'commissioning': 1,\n",
       " 'cars': 11,\n",
       " 'tolerance': 2,\n",
       " 'specific': 87,\n",
       " 'friday': 96,\n",
       " 'similar': 61,\n",
       " 'total': 306,\n",
       " 'media': 15,\n",
       " 'experian': 21,\n",
       " 'bridge': 2,\n",
       " 'minimum': 115,\n",
       " 'naturally': 8,\n",
       " 'succumbed': 1,\n",
       " 'surprising': 8,\n",
       " 'mail': 521,\n",
       " 'counselling': 1,\n",
       " 'conflated': 1,\n",
       " 'daytime': 1,\n",
       " 'gender': 3,\n",
       " 'timing': 10,\n",
       " 'reran': 1,\n",
       " 'velocity': 1,\n",
       " 'probably': 56,\n",
       " 'certify': 7,\n",
       " 'perpetrate': 2,\n",
       " 'summited': 2,\n",
       " 'tasked': 1,\n",
       " 'patiently': 8,\n",
       " 'omitting': 1,\n",
       " 'secrets': 1,\n",
       " 'arnlbrecht': 1,\n",
       " 'swithced': 1,\n",
       " 'solved': 11,\n",
       " 'illusion': 1,\n",
       " 'xxxxoan': 1,\n",
       " 'computer': 67,\n",
       " 'victoria': 7,\n",
       " 'structured': 1,\n",
       " 'properties': 11,\n",
       " 'annotated': 4,\n",
       " 'shelter': 6,\n",
       " 'consumed': 1,\n",
       " 'phrasing': 1,\n",
       " 'cleanings': 1,\n",
       " 'oy': 1,\n",
       " 'hurt': 37,\n",
       " 'expense': 21,\n",
       " 'mileageplus': 1,\n",
       " 'pause': 6,\n",
       " 'writtenoff': 1,\n",
       " 'astounding': 1,\n",
       " 'commercial': 14,\n",
       " 'smog': 1,\n",
       " 'commented': 1,\n",
       " 'yourself': 18,\n",
       " 'keeping': 36,\n",
       " 'overturn': 1,\n",
       " 'near': 40,\n",
       " 'detection': 1,\n",
       " 'xv': 1,\n",
       " 'paid': 1019,\n",
       " 'recreation': 1,\n",
       " 'conventional': 19,\n",
       " 'outline': 2,\n",
       " 'coapllicant': 1,\n",
       " 'want': 588,\n",
       " 'faxed': 64,\n",
       " 'peaceable': 1,\n",
       " 'carte': 1,\n",
       " 'grew': 3,\n",
       " 'register': 21,\n",
       " 'statuses': 2,\n",
       " 'nj': 19,\n",
       " 'historical': 2,\n",
       " 'forensic': 12,\n",
       " 'holdings': 3,\n",
       " 'withheld': 14,\n",
       " 'gla': 1,\n",
       " 'toverify': 5,\n",
       " 'maximum': 15,\n",
       " 'logins': 1,\n",
       " 'presents': 6,\n",
       " 'perm': 1,\n",
       " 'amex': 42,\n",
       " 'annul': 1,\n",
       " 'indiana': 12,\n",
       " 'thoroughly': 5,\n",
       " 'getting': 363,\n",
       " 'citi': 134,\n",
       " 'unbelievable': 14,\n",
       " 'truck': 20,\n",
       " 'hereby': 27,\n",
       " 'particularlly': 1,\n",
       " 'classifying': 1,\n",
       " 'bod': 1,\n",
       " 'discharged': 28,\n",
       " 'dispersion': 1,\n",
       " 'ks': 3,\n",
       " 'elected': 11,\n",
       " 'holidays': 10,\n",
       " 'wachsmuth': 1,\n",
       " 'fruition': 1,\n",
       " 'intervened': 1,\n",
       " 'familiar': 14,\n",
       " 'sachs': 5,\n",
       " 'backdating': 1,\n",
       " 'ibr': 10,\n",
       " 'unenforceable': 4,\n",
       " 'perpetrated': 5,\n",
       " 'district': 42,\n",
       " 'presidential': 3,\n",
       " 'achieved': 1,\n",
       " 'manageable': 1,\n",
       " 'eq': 1,\n",
       " 'guy': 29,\n",
       " 'confused': 52,\n",
       " 'diem': 4,\n",
       " 'attempting': 165,\n",
       " 'problematic': 2,\n",
       " 'bureus': 1,\n",
       " 'submiting': 1,\n",
       " 'brutal': 1,\n",
       " 'radiologic': 1,\n",
       " 'approve': 35,\n",
       " 'manufacturer': 3,\n",
       " 'carless': 1,\n",
       " 'debtor': 41,\n",
       " 'abundance': 2,\n",
       " 'discrediting': 1,\n",
       " 'patients': 8,\n",
       " 'counted': 19,\n",
       " 'vanillavisa': 1,\n",
       " 'wtfso': 1,\n",
       " 'exemplary': 1,\n",
       " 'heed': 1,\n",
       " 'ensured': 7,\n",
       " 'person': 447,\n",
       " 'tdbank': 1,\n",
       " 'varies': 6,\n",
       " 'sirabout': 1,\n",
       " 'sinecelry': 1,\n",
       " 'incorporation': 1,\n",
       " 'smells': 1,\n",
       " 'administration': 9,\n",
       " 'mandatory': 17,\n",
       " 'freedommortgage': 1,\n",
       " 'enact': 2,\n",
       " 'concept': 3,\n",
       " 'ethically': 2,\n",
       " 'rookie': 1,\n",
       " 'coustomer': 1,\n",
       " 'maintains': 7,\n",
       " 'newrez': 17,\n",
       " 'rights': 174,\n",
       " 'harms': 3,\n",
       " 'eventually': 73,\n",
       " 'tanked': 3,\n",
       " 'hopeful': 3,\n",
       " 'wks': 3,\n",
       " 'despair': 1,\n",
       " 'seeking': 66,\n",
       " 'example': 61,\n",
       " 'landfall': 1,\n",
       " 'lick': 1,\n",
       " 'yearly': 9,\n",
       " 'pursue': 50,\n",
       " 'rules': 63,\n",
       " 'dwelling': 2,\n",
       " 'vacated': 2,\n",
       " 'harassment': 67,\n",
       " 'remotely': 4,\n",
       " 'reselling': 2,\n",
       " 'mini': 4,\n",
       " 'frustrated': 42,\n",
       " 'spears': 1,\n",
       " 'uas': 1,\n",
       " 'payees': 4,\n",
       " 'carecredit': 1,\n",
       " 'argument': 8,\n",
       " 'intact': 3,\n",
       " 'started': 287,\n",
       " 'o': 16,\n",
       " 'msgs': 1,\n",
       " 'sleeplessness': 1,\n",
       " 'attempted': 230,\n",
       " 'admittenlty': 1,\n",
       " 'clark': 1,\n",
       " 'except': 88,\n",
       " 'sells': 1,\n",
       " 'companies': 225,\n",
       " 'ofwhy': 1,\n",
       " 'portfilio': 1,\n",
       " 'wednesdays': 1,\n",
       " 'cornovirus': 1,\n",
       " 'returned': 294,\n",
       " 'calculated': 39,\n",
       " 'blowing': 5,\n",
       " 'refunding': 11,\n",
       " 'battery': 4,\n",
       " 'cuddled': 1,\n",
       " 'reap': 1,\n",
       " 'tcpa': 2,\n",
       " 'alarm': 1,\n",
       " 'whose': 23,\n",
       " 'jpmorgan': 2,\n",
       " 'participate': 6,\n",
       " 'lofty': 1,\n",
       " 'ssl': 1,\n",
       " 'flesh': 6,\n",
       " 'prolong': 2,\n",
       " 'tad': 1,\n",
       " 'debenture': 1,\n",
       " 'substituting': 1,\n",
       " 'partite': 1,\n",
       " 'reimbursed': 23,\n",
       " 'ncua': 1,\n",
       " 'command': 4,\n",
       " 'pst': 9,\n",
       " 'peanuts': 1,\n",
       " 'pretenses': 5,\n",
       " 'insisted': 58,\n",
       " 'combative': 2,\n",
       " 'repeadly': 1,\n",
       " 'treat': 32,\n",
       " 'occasions': 113,\n",
       " 'sixty': 1,\n",
       " 'liquidation': 4,\n",
       " 'truthful': 1,\n",
       " 'oil': 8,\n",
       " 'bof': 1,\n",
       " 'licenses': 3,\n",
       " 'gm': 11,\n",
       " 'neighbors': 7,\n",
       " 'anybody': 23,\n",
       " 'unathorized': 1,\n",
       " 'wiwth': 1,\n",
       " 'hunterwarfield': 1,\n",
       " 'contracts': 35,\n",
       " 'prolonged': 6,\n",
       " 'potentially': 17,\n",
       " 'deals': 11,\n",
       " 'drug': 1,\n",
       " 'mins': 15,\n",
       " 'amound': 2,\n",
       " 'disrupting': 2,\n",
       " 'farm': 3,\n",
       " 'asserting': 2,\n",
       " 'tiaa': 1,\n",
       " 'rightfully': 7,\n",
       " 'passwords': 2,\n",
       " 'enforceable': 3,\n",
       " 'heavy': 8,\n",
       " 'slid': 1,\n",
       " 'pendens': 1,\n",
       " 'extend': 30,\n",
       " 'hit': 79,\n",
       " 'tribunal': 1,\n",
       " 'ch': 1,\n",
       " 'untidy': 1,\n",
       " 'surprised': 32,\n",
       " 'agoe': 1,\n",
       " 'embarked': 1,\n",
       " 'incorporate': 2,\n",
       " 'persued': 1,\n",
       " 'dual': 3,\n",
       " 'out': 1436,\n",
       " 'hampshire': 1,\n",
       " 'died': 24,\n",
       " 'anniversary': 3,\n",
       " 'tell': 308,\n",
       " 'plethora': 4,\n",
       " 'cant': 141,\n",
       " 'fortunately': 6,\n",
       " 'platter': 1,\n",
       " 'regardless': 35,\n",
       " 'distributed': 7,\n",
       " 'redundantly': 1,\n",
       " 'websitess': 1,\n",
       " 'craft': 1,\n",
       " 'materials': 9,\n",
       " 'accommodations': 4,\n",
       " 'hospitalized': 6,\n",
       " 'willingly': 5,\n",
       " 'shorter': 2,\n",
       " 'banker': 29,\n",
       " 'brinks': 2,\n",
       " 'xxxxr': 2,\n",
       " 'unprivileged': 1,\n",
       " 'absolute': 17,\n",
       " 'portal': 33,\n",
       " 'travel': 42,\n",
       " 'sufficient': 43,\n",
       " 'broadway': 1,\n",
       " 'botw': 1,\n",
       " 'hindered': 6,\n",
       " 'endeavor': 2,\n",
       " 'walking': 4,\n",
       " 'comparisons': 1,\n",
       " 'insiders': 1,\n",
       " 'amsher': 1,\n",
       " 'ours': 6,\n",
       " 'allied': 8,\n",
       " 'neared': 2,\n",
       " 'lawsuits': 17,\n",
       " 'clock': 3,\n",
       " 'aggravated': 4,\n",
       " 'xxxxvery': 1,\n",
       " 'idwest': 1,\n",
       " 'shuffle': 1,\n",
       " 'sufficiently': 3,\n",
       " 'adult': 12,\n",
       " 'covenant': 1,\n",
       " 'retroactively': 3,\n",
       " 'indymac': 1,\n",
       " 'subrogate': 5,\n",
       " 'jomunrek': 1,\n",
       " 'ohio': 31,\n",
       " 'please': 741,\n",
       " 'stipulated': 5,\n",
       " 'wells': 135,\n",
       " 'pymt': 4,\n",
       " 'crushed': 1,\n",
       " 'web': 38,\n",
       " 'belts': 1,\n",
       " 'subscriptions': 2,\n",
       " 'violation': 265,\n",
       " 'warranted': 1,\n",
       " 'probate': 8,\n",
       " 'communicating': 29,\n",
       " 'profit': 26,\n",
       " 'sounds': 11,\n",
       " 'assumes': 2,\n",
       " 'examination': 2,\n",
       " 'asap': 46,\n",
       " 'repeated': 67,\n",
       " 'owed': 386,\n",
       " 'stress': 61,\n",
       " 'modifying': 3,\n",
       " 'secures': 2,\n",
       " 'males': 1,\n",
       " 'cushion': 4,\n",
       " 'tom': 1,\n",
       " 'demographic': 2,\n",
       " 'notations': 4,\n",
       " 'tapes': 1,\n",
       " 'heaeby': 1,\n",
       " 'photographic': 1,\n",
       " 'countlessly': 1,\n",
       " 'profiting': 2,\n",
       " 'eyes': 3,\n",
       " 'secondly': 9,\n",
       " 'sharks': 1,\n",
       " 'entails': 3,\n",
       " 'limits': 15,\n",
       " 'laying': 1,\n",
       " 'solely': 19,\n",
       " 'cosign': 1,\n",
       " 'breaches': 7,\n",
       " 'pump': 1,\n",
       " 'ii': 10,\n",
       " 'lifting': 2,\n",
       " 'agreeing': 23,\n",
       " 'processors': 1,\n",
       " 'paralegal': 1,\n",
       " 'compounded': 2,\n",
       " 'repot': 2,\n",
       " 'cmre': 4,\n",
       " 'honey': 1,\n",
       " 'sd': 4,\n",
       " 'summit': 1,\n",
       " 'thirty': 16,\n",
       " 'wa': 16,\n",
       " 'morgan': 13,\n",
       " 'enrollmentcertificate': 1,\n",
       " 'scheme': 23,\n",
       " 'flying': 1,\n",
       " 'transmission': 6,\n",
       " 'brandon': 1,\n",
       " 'utxxxx': 1,\n",
       " 'histroy': 1,\n",
       " 'ben': 1,\n",
       " 'reiterating': 2,\n",
       " 'carolina': 23,\n",
       " 'apt': 2,\n",
       " 'foremost': 3,\n",
       " 'summarized': 3,\n",
       " 'pretty': 24,\n",
       " 'disparate': 1,\n",
       " 'insurace': 2,\n",
       " 'play': 17,\n",
       " 'estimator': 1,\n",
       " 'advancement': 1,\n",
       " 'blindly': 2,\n",
       " 'tenth': 2,\n",
       " 'style': 1,\n",
       " 'beforehand': 3,\n",
       " 'expeditious': 1,\n",
       " 'vice': 10,\n",
       " 'creditied': 1,\n",
       " 'posted': 134,\n",
       " 'bbb': 3,\n",
       " 'onshore': 1,\n",
       " 'here': 223,\n",
       " 'seriousness': 2,\n",
       " 'leads': 7,\n",
       " 'rspa': 1,\n",
       " 'bridgecrest': 6,\n",
       " 'insultingly': 1,\n",
       " 'oh': 21,\n",
       " 'resource': 15,\n",
       " 'twist': 2,\n",
       " 'engineer': 1,\n",
       " 'sync': 2,\n",
       " 'misleading': 77,\n",
       " 'less': 146,\n",
       " 'ia': 4,\n",
       " 'tha': 2,\n",
       " 'cameras': 8,\n",
       " 'switched': 31,\n",
       " 'orginal': 5,\n",
       " 'therefrom': 1,\n",
       " 'underprivileged': 1,\n",
       " 'mistake': 139,\n",
       " 'navient': 69,\n",
       " 'protest': 12,\n",
       " 'bmw': 9,\n",
       " 'reordering': 2,\n",
       " 'unfrozen': 4,\n",
       " 'exhusband': 1,\n",
       " 'takin': 1,\n",
       " 'taylor': 1,\n",
       " 'filling': 9,\n",
       " 'finally': 289,\n",
       " 'solutionize': 1,\n",
       " 'obtain': 144,\n",
       " 'execution': 4,\n",
       " 'fifth': 16,\n",
       " 'rescission': 10,\n",
       " 'poses': 1,\n",
       " 'occupancy': 2,\n",
       " 'haywire': 1,\n",
       " 'blitz': 1,\n",
       " 'dishonoring': 1,\n",
       " 'imail': 1,\n",
       " 'wright': 1,\n",
       " 'harley': 2,\n",
       " 'madam': 7,\n",
       " 'purview': 2,\n",
       " 'mountain': 1,\n",
       " 'overpayment': 14,\n",
       " 'screw': 1,\n",
       " 'stilling': 1,\n",
       " 'anticipate': 4,\n",
       " 'physicians': 3,\n",
       " 'inclusion': 2,\n",
       " 'milestone': 1,\n",
       " 'emailed': 147,\n",
       " 'recertified': 1,\n",
       " 'declination': 4,\n",
       " 'participating': 5,\n",
       " 'conty': 1,\n",
       " 'prosperity': 1,\n",
       " 'obnoxious': 1,\n",
       " 'alledge': 1,\n",
       " 'exposures': 1,\n",
       " 'tress': 1,\n",
       " 'paypay': 2,\n",
       " 'suppression': 1,\n",
       " 'rims': 2,\n",
       " 'angles': 1,\n",
       " 'leans': 2,\n",
       " 'rash': 2,\n",
       " 'reprecussions': 1,\n",
       " 'accompanied': 1,\n",
       " 'necessarily': 4,\n",
       " 'book': 18,\n",
       " 'fronting': 1,\n",
       " 'rigth': 1,\n",
       " 'via': 405,\n",
       " 'catch': 40,\n",
       " 'intimidating': 5,\n",
       " 'caught': 35,\n",
       " 'fedloan': 26,\n",
       " 'gimmick': 1,\n",
       " 'merchandize': 2,\n",
       " 'testament': 1,\n",
       " 'sea': 2,\n",
       " 'tans': 1,\n",
       " 'deceive': 11,\n",
       " 'handcuff': 1,\n",
       " 'dollar': 51,\n",
       " 'extensions': 3,\n",
       " 'investigation': 265,\n",
       " 'herein': 12,\n",
       " 'legitiment': 1,\n",
       " 'misguided': 1,\n",
       " 'judegment': 1,\n",
       " 'consenting': 3,\n",
       " 'validated': 50,\n",
       " 'located': 75,\n",
       " 'goodwill': 9,\n",
       " 'disputing': 107,\n",
       " 'steel': 2,\n",
       " 'seats': 3,\n",
       " 'favor': 36,\n",
       " 'inconvenient': 5,\n",
       " 'wow': 4,\n",
       " 'hunter': 7,\n",
       " 'monetarily': 1,\n",
       " 'crystal': 1,\n",
       " 'governmental': 3,\n",
       " 'defending': 5,\n",
       " 'culminated': 1,\n",
       " 'offs': 2,\n",
       " 'math': 14,\n",
       " 'challenging': 7,\n",
       " 'anyway': 41,\n",
       " 'humidifier': 1,\n",
       " 'panicked': 2,\n",
       " 'allegedly': 28,\n",
       " 'stepping': 1,\n",
       " 'def': 1,\n",
       " 'mellon': 2,\n",
       " 'angered': 1,\n",
       " 'etf': 1,\n",
       " 'amoral': 1,\n",
       " 'promplty': 1,\n",
       " 'helofc': 1,\n",
       " 'existed': 9,\n",
       " 'officially': 15,\n",
       " 'contradicted': 4,\n",
       " 'enriched': 1,\n",
       " 'index': 5,\n",
       " 'found': 449,\n",
       " 'crediting': 17,\n",
       " 'scaremongering': 1,\n",
       " 'suspiciously': 1,\n",
       " 'underlined': 1,\n",
       " 'man': 54,\n",
       " 'push': 17,\n",
       " 'marriage': 1,\n",
       " 'invasion': 3,\n",
       " 'incidentally': 1,\n",
       " 'suffering': 16,\n",
       " 'lastly': 20,\n",
       " 'protocol': 7,\n",
       " 'understating': 1,\n",
       " 'expert': 5,\n",
       " 'sc': 12,\n",
       " 'unequivocally': 4,\n",
       " 'familys': 1,\n",
       " 'manipulative': 2,\n",
       " 'escrows': 1,\n",
       " 'ditechs': 1,\n",
       " 'escheated': 1,\n",
       " 'biling': 1,\n",
       " 'respondent': 2,\n",
       " 'ammericollect': 1,\n",
       " 'worded': 3,\n",
       " 'gaps': 3,\n",
       " 'particularity': 7,\n",
       " 'largest': 12,\n",
       " 'eight': 11,\n",
       " 'liar': 5,\n",
       " 'count': 32,\n",
       " 'crush': 1,\n",
       " 'declaration': 17,\n",
       " 'apartment': 57,\n",
       " 'writting': 1,\n",
       " 'retired': 18,\n",
       " 'requiring': 22,\n",
       " 'classes': 10,\n",
       " 'organized': 1,\n",
       " 'conveyed': 1,\n",
       " 'exclusive': 1,\n",
       " 'mysteriously': 5,\n",
       " 'xxxxthis': 2,\n",
       " 'washington': 17,\n",
       " 'role': 5,\n",
       " 'werent': 10,\n",
       " 'mile': 4,\n",
       " 'triple': 3,\n",
       " 'ti': 1,\n",
       " 'saphire': 1,\n",
       " 'disguise': 1,\n",
       " 'mamangment': 1,\n",
       " 'tactics': 46,\n",
       " 'scratching': 1,\n",
       " 'prosecution': 1,\n",
       " 'bauschers': 1,\n",
       " 'hired': 42,\n",
       " 'ridiciolous': 1,\n",
       " 'origin': 7,\n",
       " 'carabetta': 1,\n",
       " 'vs': 11,\n",
       " 'prized': 1,\n",
       " 'brushed': 1,\n",
       " 'giggles': 1,\n",
       " 'referral': 7,\n",
       " 'assets': 35,\n",
       " 'it': 2971,\n",
       " 'appreciation': 3,\n",
       " 'meets': 4,\n",
       " 'daughters': 7,\n",
       " 'erronously': 1,\n",
       " 'notion': 2,\n",
       " 'follow': 158,\n",
       " 'ridiculously': 2,\n",
       " 'oops': 1,\n",
       " 'mishandle': 2,\n",
       " 'quoted': 16,\n",
       " 'vagrant': 1,\n",
       " 'detect': 1,\n",
       " 'determination': 17,\n",
       " 'furnisher': 10,\n",
       " 'prioritized': 1,\n",
       " 'disbursedto': 1,\n",
       " 'attention': 69,\n",
       " 'dogs': 4,\n",
       " 'ensued': 1,\n",
       " 'rents': 3,\n",
       " 'profiled': 2,\n",
       " 'activate': 16,\n",
       " 'eastate': 1,\n",
       " 'further': 337,\n",
       " 'color': 6,\n",
       " 'upstart': 1,\n",
       " 'ruin': 20,\n",
       " 'considence': 1,\n",
       " 'rang': 5,\n",
       " 'our': 512,\n",
       " 'bonding': 1,\n",
       " 'recommend': 46,\n",
       " 'roundtrip': 2,\n",
       " 'arose': 3,\n",
       " 'wording': 2,\n",
       " 'sol': 1,\n",
       " 'natorious': 1,\n",
       " 'decorative': 1,\n",
       " 'ripped': 7,\n",
       " 'derogatory': 49,\n",
       " 'reservation': 15,\n",
       " 'regretful': 1,\n",
       " 'appease': 1,\n",
       " 'provision': 8,\n",
       " 'things': 124,\n",
       " 'https': 40,\n",
       " 'threefold': 1,\n",
       " 'exp': 1,\n",
       " 'fridays': 1,\n",
       " 'laid': 36,\n",
       " 'hesaa': 1,\n",
       " 'implication': 2,\n",
       " 'svc': 2,\n",
       " 'piece': 20,\n",
       " 'fyi': 4,\n",
       " 'restore': 13,\n",
       " 'learning': 7,\n",
       " 'disrespected': 2,\n",
       " 'statue': 16,\n",
       " 'vocalize': 1,\n",
       " 'guts': 1,\n",
       " 'educated': 5,\n",
       " 'spiral': 3,\n",
       " 'slammed': 1,\n",
       " 'marred': 1,\n",
       " 'frist': 1,\n",
       " 'setoff': 1,\n",
       " 'undoubtedly': 1,\n",
       " 'hotter': 1,\n",
       " 'reaffirm': 2,\n",
       " 'multistate': 2,\n",
       " 'errored': 1,\n",
       " 'electornically': 1,\n",
       " 'reliance': 1,\n",
       " 'cleaned': 6,\n",
       " 'prevalent': 1,\n",
       " 'gift': 32,\n",
       " 'economics': 1,\n",
       " 'offered': 198,\n",
       " 'abuser': 1,\n",
       " 'plese': 1,\n",
       " 'automotive': 4,\n",
       " 'retrieve': 15,\n",
       " 'kk': 1,\n",
       " 'chases': 2,\n",
       " 'sevicer': 1,\n",
       " 'waiitng': 1,\n",
       " 'there': 1291,\n",
       " 'bigest': 1,\n",
       " 'pages': 30,\n",
       " 'shipper': 5,\n",
       " 'consultant': 11,\n",
       " 'insure': 6,\n",
       " 'debt': 1318,\n",
       " 'battle': 5,\n",
       " 'disappeared': 15,\n",
       " 'foreberance': 2,\n",
       " 'professionals': 2,\n",
       " 'porfolio': 1,\n",
       " 'unfathomable': 1,\n",
       " 'abhor': 1,\n",
       " 'batches': 1,\n",
       " 'volvo': 2,\n",
       " 'clauses': 3,\n",
       " 'midwest': 11,\n",
       " 'incentives': 2,\n",
       " 'yea': 1,\n",
       " 'minds': 1,\n",
       " 'green': 5,\n",
       " 'ffelp': 1,\n",
       " 'socioeconomical': 1,\n",
       " 'forbearances': 5,\n",
       " 'cosigners': 1,\n",
       " 'evident': 9,\n",
       " 'sight': 8,\n",
       " 'methods': 15,\n",
       " 'reexamine': 1,\n",
       " 'repay': 22,\n",
       " 'annualy': 1,\n",
       " 'er': 6,\n",
       " 'willfull': 1,\n",
       " 'monster': 1,\n",
       " 'possession': 52,\n",
       " 'magitude': 1,\n",
       " 'hereunder': 1,\n",
       " 'tribal': 1,\n",
       " 'helpful': 37,\n",
       " 'decisions': 15,\n",
       " 'prepares': 1,\n",
       " 'resurent': 1,\n",
       " 'harmed': 12,\n",
       " 'fcra': 150,\n",
       " 'admission': 12,\n",
       " 'reads': 15,\n",
       " 'cheating': 6,\n",
       " 'onslaught': 1,\n",
       " 'tuition': 8,\n",
       " 'joined': 4,\n",
       " 'purged': 1,\n",
       " 'selection': 4,\n",
       " 'predatory': 64,\n",
       " 'disheartening': 4,\n",
       " 'witness': 2,\n",
       " 'recover': 38,\n",
       " 'glitch': 12,\n",
       " 'pretend': 4,\n",
       " 'disclousure': 1,\n",
       " 'stalking': 2,\n",
       " 'bbva': 14,\n",
       " 'handful': 5,\n",
       " 'wasaccount': 1,\n",
       " 'reluctance': 2,\n",
       " 'periods': 11,\n",
       " 'announcement': 2,\n",
       " 'accomplish': 5,\n",
       " 'lop': 1,\n",
       " 'beuro': 2,\n",
       " 'worrisome': 2,\n",
       " 'articles': 10,\n",
       " 'am': 1612,\n",
       " 'honor': 75,\n",
       " 'stinks': 1,\n",
       " 'indebtedness': 12,\n",
       " 'intake': 2,\n",
       " 'smooth': 3,\n",
       " 'rank': 1,\n",
       " 'surrender': 2,\n",
       " 'spigot': 2,\n",
       " 'mitchell': 3,\n",
       " 'partnership': 3,\n",
       " 'bag': 5,\n",
       " 'pounds': 2,\n",
       " 'hunt': 2,\n",
       " 'swears': 3,\n",
       " 'suspended': 26,\n",
       " 'rejection': 8,\n",
       " 'indorsed': 1,\n",
       " 'ensures': 1,\n",
       " 'applicants': 2,\n",
       " 'xxxxmiles': 1,\n",
       " 'urge': 7,\n",
       " 'prevents': 4,\n",
       " 'configure': 1,\n",
       " 'seterus': 5,\n",
       " 'jammed': 2,\n",
       " 'originator': 9,\n",
       " 'determines': 4,\n",
       " 'registry': 5,\n",
       " 'typo': 4,\n",
       " 'mn': 11,\n",
       " 'borrowed': 16,\n",
       " 'negitave': 1,\n",
       " 'affirmed': 1,\n",
       " 'questioning': 7,\n",
       " 'immaturely': 1,\n",
       " 'scripted': 3,\n",
       " 'dis': 2,\n",
       " 'october': 1,\n",
       " 'seek': 44,\n",
       " ...}"
      ]
     },
     "execution_count": 9,
     "metadata": {},
     "output_type": "execute_result"
    }
   ],
   "source": [
    "# Create a dictionary containing the frequency of words utilizing the 'frequency_dict' function\n",
    "\n",
    "# Expect this chunk to take a comparatively longer time to execute since our dataset is large\n",
    "\n",
    "freq_word = frequency_dict(lines)\n",
    "\n",
    "freq_word"
   ]
  },
  {
   "cell_type": "code",
   "execution_count": 10,
   "metadata": {},
   "outputs": [],
   "source": [
    "import pickle \n",
    "\n",
    "with open('freq_word.pickle', 'wb') as f:\n",
    "    pickle.dump(freq_word, f)\n"
   ]
  },
  {
   "cell_type": "code",
   "execution_count": 11,
   "metadata": {},
   "outputs": [],
   "source": [
    "with open('freq_word.pickle', 'rb') as f:\n",
    "    freq_word = pickle.load(f)"
   ]
  },
  {
   "cell_type": "code",
   "execution_count": 12,
   "metadata": {
    "id": "vLvPijR_GKHn"
   },
   "outputs": [],
   "source": [
    "# Create a function to calculate the Term Frequency\n",
    "\n",
    "def term_frequency(document, word):\n",
    "    '''\n",
    "    document: list containing the entire corpus\n",
    "    word: word whose term frequency is to be calculated\n",
    "    ---\n",
    "    tf: returns term frequency value\n",
    "    '''\n",
    "    occurance = len([token for token in document if token == word])\n",
    "    tf = occurance/len(document)\n",
    "    \n",
    "    return tf"
   ]
  },
  {
   "cell_type": "code",
   "execution_count": 13,
   "metadata": {
    "id": "HA99G_yAGLCC"
   },
   "outputs": [],
   "source": [
    "# Create a function to calculate the Inverse Document Frequency\n",
    " \n",
    "def inverse_df(word):\n",
    "    '''\n",
    "    word: word whose inverse document frequency is to be calculated\n",
    "    ---\n",
    "    idf: return inverse document frequency value\n",
    "    '''\n",
    "    try:\n",
    "        word_occurance = freq_word[word] + 1\n",
    "    except:\n",
    "        word_occurance = 1\n",
    "\n",
    "    idf = np.log(total_docs/word_occurance)\n",
    "\n",
    "    return idf\n",
    "\n"
   ]
  },
  {
   "cell_type": "code",
   "execution_count": 14,
   "metadata": {
    "id": "F0irgwv2GRfE"
   },
   "outputs": [],
   "source": [
    "#Create a function to combine the term frequencies (TF) and inverse document (IDF) frequencies calculated above to get TF-IDF\n",
    "\n",
    "def tfidf(sentence,dict_idx):\n",
    "    '''\n",
    "    sentence: list containing the entire corpus\n",
    "    dict: dictionary keeping track of index of each word\n",
    "    ---\n",
    "    tf_idf_vec: returns computed tf-idf\n",
    "    '''\n",
    "    tf_idf_vec = np.zeros((len(word_list),))\n",
    "    for word in sentence:\n",
    "        tf = term_frequency(sentence,word)\n",
    "        idf = inverse_df(word)\n",
    "        value = tf*idf\n",
    "        tf_idf_vec[dict_idx[word]] = value\n",
    "\n",
    "    return tf_idf_vec\n",
    "    "
   ]
  },
  {
   "cell_type": "code",
   "execution_count": 15,
   "metadata": {
    "id": "_VKJhqatGWpV"
   },
   "outputs": [],
   "source": [
    "#Compute the vectors utilizing the 'tfidf' function created above to obtain a TF-IDF Encoded text corpus\n",
    "\n",
    "vectors = []\n",
    "for sent in lines:\n",
    "    vec = tfidf(sent, dict_idx)\n",
    "    vectors.append(vec)"
   ]
  },
  {
   "cell_type": "markdown",
   "metadata": {
    "id": "LE0UGUaSGb8I"
   },
   "source": [
    "## Multinomial Naive Bayes (10 Points)"
   ]
  },
  {
   "cell_type": "code",
   "execution_count": 16,
   "metadata": {
    "id": "yWYcxrdJGfDC"
   },
   "outputs": [],
   "source": [
    "#Fit a Multinomial Naive Bayes Model on our dataset\n",
    "\n",
    "model = MultinomialNB(alpha=0.01).fit(vectors, mydata_train.Product)\n",
    "\n"
   ]
  },
  {
   "cell_type": "code",
   "execution_count": 17,
   "metadata": {
    "id": "G6CiQB4qGfqH"
   },
   "outputs": [],
   "source": [
    "#Perform testing on the train dataset\n",
    "\n",
    "pred = model.predict(vectors)"
   ]
  },
  {
   "cell_type": "code",
   "execution_count": 18,
   "metadata": {
    "id": "yCLagGu6Gh6T"
   },
   "outputs": [
    {
     "name": "stdout",
     "output_type": "stream",
     "text": [
      "F1 Score:  0.826\n",
      "Accuracy:  0.826\n"
     ]
    }
   ],
   "source": [
    "#Calculate the F1 Score and the Accuracy\n",
    "\n",
    "F1_score = metrics.f1_score(mydata_train.Product, pred, average='micro') \n",
    "Accuracy = metrics.accuracy_score(mydata_train.Product, pred)\n",
    "print(\"F1 Score: \", F1_score)\n",
    "print(\"Accuracy: \", Accuracy)"
   ]
  },
  {
   "cell_type": "markdown",
   "metadata": {
    "id": "bbMRqJv5Gl2F"
   },
   "source": [
    "### Expected Output:\n",
    "F1 Score: 0.8081311697005633\n",
    "\n",
    "Accuracy: 0.826"
   ]
  },
  {
   "cell_type": "markdown",
   "metadata": {
    "id": "AWRDuUqU-taV"
   },
   "source": [
    "Your accuracy does not have to be exactly the same. This is just to give you an estimate of what could you expect your accuracy to be around."
   ]
  },
  {
   "cell_type": "markdown",
   "metadata": {
    "id": "UfMc8cz93Cc0"
   },
   "source": [
    "## Question 2 Vector Visualization"
   ]
  },
  {
   "cell_type": "markdown",
   "metadata": {
    "id": "70iwEeL23F7K"
   },
   "source": [
    "In this unsupervised learning task we are going to cluster wikipedia articles into groups using T-SNE visualization after vectorization."
   ]
  },
  {
   "cell_type": "markdown",
   "metadata": {
    "id": "UHx4YuxW36oM"
   },
   "source": [
    "### Collect articles from Wikipedia (10 points)\n",
    "\n",
    "In this section we will download articles from wikipedia and then vectorize them in the next step. You can select somewhat related topics or fetch the articles randomly. \n",
    "(Use dir() and help() functions or refer wikipedia documentation)\n",
    "You may also pick any other data source of your choice instead of wikipedia."
   ]
  },
  {
   "cell_type": "code",
   "execution_count": 19,
   "metadata": {
    "id": "jA419x6__mjg"
   },
   "outputs": [
    {
     "name": "stdout",
     "output_type": "stream",
     "text": [
      "Requirement already satisfied: wikipedia in c:\\users\\bayan\\anaconda3\\lib\\site-packages (1.4.0)\n",
      "Requirement already satisfied: beautifulsoup4 in c:\\users\\bayan\\anaconda3\\lib\\site-packages (from wikipedia) (4.11.1)\n",
      "Requirement already satisfied: requests<3.0.0,>=2.0.0 in c:\\users\\bayan\\anaconda3\\lib\\site-packages (from wikipedia) (2.27.1)\n",
      "Requirement already satisfied: idna<4,>=2.5 in c:\\users\\bayan\\anaconda3\\lib\\site-packages (from requests<3.0.0,>=2.0.0->wikipedia) (3.3)\n",
      "Requirement already satisfied: charset-normalizer~=2.0.0 in c:\\users\\bayan\\anaconda3\\lib\\site-packages (from requests<3.0.0,>=2.0.0->wikipedia) (2.0.4)\n",
      "Requirement already satisfied: certifi>=2017.4.17 in c:\\users\\bayan\\anaconda3\\lib\\site-packages (from requests<3.0.0,>=2.0.0->wikipedia) (2021.10.8)\n",
      "Requirement already satisfied: urllib3<1.27,>=1.21.1 in c:\\users\\bayan\\anaconda3\\lib\\site-packages (from requests<3.0.0,>=2.0.0->wikipedia) (1.26.9)\n",
      "Requirement already satisfied: soupsieve>1.2 in c:\\users\\bayan\\anaconda3\\lib\\site-packages (from beautifulsoup4->wikipedia) (2.3.1)\n",
      "Note: you may need to restart the kernel to use updated packages.\n"
     ]
    }
   ],
   "source": [
    "# install libraries\n",
    "#pip install wikipedia\n",
    "%pip install wikipedia"
   ]
  },
  {
   "cell_type": "code",
   "execution_count": 20,
   "metadata": {
    "id": "vLMLk4K84Zbn"
   },
   "outputs": [],
   "source": [
    "import wikipedia\n",
    "from wikipedia.exceptions import WikipediaException\n",
    "\n",
    "'''\n",
    " Generate a list of wikipedia article to cluster \n",
    " You can maintain a static list of titles or generate them randomly using wikipedia library\n",
    " Some topics include:\n",
    " [\"Northeastern Unversity\", \"Natural language processing\", \"Machine learning\", \"Quantum machine learning\", \"Artificial intelligence\", \"Data science\", \"Master in Data Science\", \n",
    " \"Bank of America\", \"Visa Inc.\", \"European Central Bank\", \"Bank\", \"Financial technology\",\"International Monetary Fund\", \n",
    " \"Basketball\", \"Swimming\", \"Tennis\", \"Football\", \"College Football\", \"Association Football\"]\n",
    "\n",
    " You can add more topics from different categories so that we have a diverse dataset to work with. \n",
    " Ex- About 3+ categories(groups), 3+ topics in each category, 3+ articles in each topic\n",
    "'''\n",
    "\n",
    "# selected topics\n",
    "topics = [\"Cancer\", \"Melanoma\", \"Asthama\", \"Diabetes\", \"AIDS\",\n",
    "          \"Data Science\",\"Natural language processing\", \"Machine learning\", \"Artificial intelligence\",\n",
    "           \"Cricket\", \"Football\", \"Chess\",\"Table Tennis\",\"Swimming\",\n",
    "          \"Music\", \"Guitar\", \"Piano\", \"Flute\"]\n",
    "\n",
    "# list of articles to be downloaded\n",
    "articles = ['Diabetes',\n",
    " 'Type 2 diabetes',\n",
    " 'Type 1 diabetes',\n",
    " 'Gestational diabetes',\n",
    " 'Cancer',\n",
    " 'Breast cancer',\n",
    " 'Colorectal cancer',\n",
    " 'Pancreatic cancer',\n",
    " 'HIV/AIDS',\n",
    " 'AIDS (disambiguation)',\n",
    " 'Timeline of HIV/AIDS',\n",
    " 'History of HIV/AIDS',\n",
    " 'Data science',\n",
    " 'Data',\n",
    " 'Data analysis',\n",
    " 'Data type',\n",
    " 'Natural language processing',\n",
    " 'Outline of natural language processing',\n",
    " 'Natural-language understanding',\n",
    " 'Natural Language Toolkit',\n",
    " 'Artificial intelligence',\n",
    " 'Artificial general intelligence',\n",
    " 'History of artificial intelligence',\n",
    " 'Applications of artificial intelligence',\n",
    " 'Explainable artificial intelligence', \n",
    " 'Football',\n",
    " 'Australian rules football',\n",
    " 'American football',\n",
    " 'English Football League', \n",
    " 'Cricket',\n",
    " 'Glossary of cricket terms',\n",
    " 'Cricket World Cup',\n",
    " 'Melbourne Cricket Ground',     \n",
    " 'Hockey',\n",
    " 'Ice hockey',\n",
    " 'National Hockey League',\n",
    " 'Field hockey',        \n",
    " 'Guitar',\n",
    " 'Electric guitar',\n",
    " 'Bass guitar',\n",
    " 'Music',\n",
    " 'Flute',\n",
    " 'Western concert flute',\n",
    " 'Transverse flute',\n",
    " 'The Magic Flute',\n",
    "\n",
    " ]\n",
    "\n",
    "\n",
    "# download and store articles (summaries) in this variable\n",
    "data = []\n",
    "for article in articles:\n",
    "    try:\n",
    "        p = wikipedia.summary(article)\n",
    "    except:\n",
    "        pass\n",
    "    data.append(p)\n",
    "    "
   ]
  },
  {
   "cell_type": "markdown",
   "metadata": {
    "id": "IgpRv7wQ4Dpm"
   },
   "source": [
    "### Cleaning the Data (5 points)\n",
    "In this step you will decide whether to clean the data or not. If you choose to clean, you may utilize the clean function from assignment 1.\n",
    "\n",
    "**Question:** Why are you (not) choosing to clean the data? Think in terms of whether cleaning data will help in the clustering or not."
   ]
  },
  {
   "cell_type": "markdown",
   "metadata": {
    "id": "PnZpDKcaHTGq"
   },
   "source": [
    "**Answer(1-3 sentences):** \n",
    "\n",
    "I chose to clean data, before using tfidf to get vectors from the text. I have also shown the t-sne plots without cleaning data. We can see that t-sne plot of cleaned data performs little better but there is not much difference between the plots. T-sne perfoms quite well without cleaning the data as well.\n",
    "\n",
    "Theoritically, we can see that cleaning data will definitely help to reduce words with similar semantic meaning for eg. work and working. Hence dimensionality of data will reduce if vocabulary is reduced.\n",
    "\n",
    "On the other hand, T-sne performs good with high dimensional data. Hence it will place the words 'work' and 'working' close in lower dimension, even if they are present in corpus (without cleaning data). hence we see that t-sne will perform similar even if data is not cleaned."
   ]
  },
  {
   "cell_type": "code",
   "execution_count": 21,
   "metadata": {
    "id": "lNj53Pxr963N"
   },
   "outputs": [
    {
     "name": "stderr",
     "output_type": "stream",
     "text": [
      "[nltk_data] Downloading package wordnet to\n",
      "[nltk_data]     C:\\Users\\bayan\\AppData\\Roaming\\nltk_data...\n",
      "[nltk_data]   Package wordnet is already up-to-date!\n",
      "[nltk_data] Downloading package punkt to\n",
      "[nltk_data]     C:\\Users\\bayan\\AppData\\Roaming\\nltk_data...\n",
      "[nltk_data]   Package punkt is already up-to-date!\n",
      "[nltk_data] Downloading package stopwords to\n",
      "[nltk_data]     C:\\Users\\bayan\\AppData\\Roaming\\nltk_data...\n",
      "[nltk_data]   Package stopwords is already up-to-date!\n",
      "[nltk_data] Downloading package omw-1.4 to\n",
      "[nltk_data]     C:\\Users\\bayan\\AppData\\Roaming\\nltk_data...\n",
      "[nltk_data]   Package omw-1.4 is already up-to-date!\n"
     ]
    }
   ],
   "source": [
    "# You can use Assignment 1's clean message function\n",
    "import re\n",
    "import nltk\n",
    "import string\n",
    "from nltk.corpus import stopwords\n",
    "from nltk.stem import WordNetLemmatizer\n",
    "from nltk.stem import PorterStemmer\n",
    "nltk.download('wordnet')\n",
    "nltk.download('punkt')\n",
    "nltk.download('stopwords')\n",
    "nltk.download('omw-1.4')\n",
    "stopwords = stopwords.words('english')\n",
    "lemmatizer = WordNetLemmatizer()\n",
    "\n",
    "def clean_message(review):\n",
    "  '''\n",
    "  Input:\n",
    "      review: a string containing a review.\n",
    "  Output:\n",
    "      review_cleaned: a processed review. \n",
    "  '''\n",
    "  \n",
    "  # convert to lower case\n",
    "  review = review.lower()\n",
    "\n",
    "  # removing links\n",
    "  review = re.sub(r'https?://\\S+', '', review)\n",
    "\n",
    "  # removing punctuations\n",
    "  review = re.sub('[^\\w\\s]','',review)\n",
    "\n",
    "  # tokenizing words\n",
    "  review = word_tokenize(review)\n",
    "  \n",
    "  # remove stopwords\n",
    "  \n",
    "  review = [i for i in review if i not in stopwords]\n",
    "\n",
    "  #lemmatizing\n",
    "  review = [lemmatizer.lemmatize(w) for w in review]\n",
    "    \n",
    "  \n",
    "  return ' '.join(review)\n",
    "\n",
    "\n",
    "clean_data = []\n",
    "for document in data:\n",
    "    clean_data.append(clean_message(document))\n",
    "\n"
   ]
  },
  {
   "cell_type": "markdown",
   "metadata": {
    "id": "bvRZUpmq-DmT"
   },
   "source": [
    "### Vectorize the articles (5 points)\n",
    "\n",
    "In this step, we will vectorize the text data. You can use TfidfVectorizer() or countVectorizer() from sklearn library."
   ]
  },
  {
   "cell_type": "code",
   "execution_count": 22,
   "metadata": {
    "id": "gJk8YY89-OU4"
   },
   "outputs": [],
   "source": [
    "from sklearn.feature_extraction.text import TfidfVectorizer\n",
    "vectorizer = TfidfVectorizer()\n",
    "X = vectorizer.fit_transform(clean_data)\n"
   ]
  },
  {
   "cell_type": "code",
   "execution_count": 23,
   "metadata": {
    "id": "DAIGlqEuINWA"
   },
   "outputs": [
    {
     "name": "stdout",
     "output_type": "stream",
     "text": [
      "(45, 2665)\n"
     ]
    }
   ],
   "source": [
    "print(X.shape)"
   ]
  },
  {
   "cell_type": "markdown",
   "metadata": {
    "id": "PKLvrKHRQaQq"
   },
   "source": [
    "### Sample Output:\n",
    "(36, 1552)"
   ]
  },
  {
   "cell_type": "markdown",
   "metadata": {
    "id": "M5ZrGrzD_G8d"
   },
   "source": [
    "### Plot Articles (10 points)\n",
    "Now we will try to verify the groups of articles using T-SNE from sklearn library."
   ]
  },
  {
   "cell_type": "code",
   "execution_count": 24,
   "metadata": {
    "id": "SjcuZBOe-oZq"
   },
   "outputs": [
    {
     "name": "stdout",
     "output_type": "stream",
     "text": [
      "[t-SNE] Computing 44 nearest neighbors...\n",
      "[t-SNE] Indexed 45 samples in 0.001s...\n",
      "[t-SNE] Computed neighbors for 45 samples in 0.001s...\n",
      "[t-SNE] Computed conditional probabilities for sample 45 / 45\n",
      "[t-SNE] Mean sigma: 0.491189\n",
      "[t-SNE] KL divergence after 250 iterations with early exaggeration: 48.929707\n",
      "[t-SNE] KL divergence after 1000 iterations: 0.339591\n"
     ]
    }
   ],
   "source": [
    " from sklearn.manifold import TSNE\n",
    "\n",
    "# call TSNE() to fit the data\n",
    "tsne = TSNE(n_components=2, verbose=1, random_state=27)\n",
    "Xt = tsne.fit_transform(X)"
   ]
  },
  {
   "cell_type": "markdown",
   "metadata": {
    "id": "iCY_blxjO1bs"
   },
   "source": [
    "Plot and annotate the points with different markers for different expected groups."
   ]
  },
  {
   "cell_type": "code",
   "execution_count": 25,
   "metadata": {
    "colab": {
     "base_uri": "https://localhost:8080/",
     "height": 483
    },
    "id": "3ODUA1Vf-rRd",
    "outputId": "325b5db4-60d1-4907-a487-40893e256ee1"
   },
   "outputs": [
    {
     "data": {
      "image/png": "[encoded data removed]",
      "text/plain": [
       "<Figure size 720x576 with 1 Axes>"
      ]
     },
     "metadata": {
      "needs_background": "light"
     },
     "output_type": "display_data"
    }
   ],
   "source": [
    "import matplotlib.pyplot as plt\n",
    "\n",
    "import seaborn as sns\n",
    "\n",
    "fig,ax = plt.subplots(figsize=(10,8))\n",
    "\n",
    "hue = [1] * 12 + [2] * 13 + [3] * 12 + [4] * 8\n",
    "\n",
    "sns.scatterplot(Xt[:,0], Xt[:,1], data=Xt, hue = hue, palette=\"colorblind\", s=100)\n",
    "for i, val in enumerate(Xt):\n",
    "    plt.annotate(i, (val[0], val[1] + 6))"
   ]
  },
  {
   "cell_type": "code",
   "execution_count": 26,
   "metadata": {},
   "outputs": [
    {
     "name": "stdout",
     "output_type": "stream",
     "text": [
      "[t-SNE] Computing 44 nearest neighbors...\n",
      "[t-SNE] Indexed 45 samples in 0.000s...\n",
      "[t-SNE] Computed neighbors for 45 samples in 0.002s...\n",
      "[t-SNE] Computed conditional probabilities for sample 45 / 45\n",
      "[t-SNE] Mean sigma: 0.506495\n",
      "[t-SNE] KL divergence after 250 iterations with early exaggeration: 52.049419\n",
      "[t-SNE] KL divergence after 1000 iterations: 0.302306\n"
     ]
    },
    {
     "data": {
      "image/png": "[encoded data removed]",
      "text/plain": [
       "<Figure size 720x576 with 1 Axes>"
      ]
     },
     "metadata": {
      "needs_background": "light"
     },
     "output_type": "display_data"
    }
   ],
   "source": [
    "# without cleaning \n",
    "\n",
    "from sklearn.feature_extraction.text import TfidfVectorizer\n",
    "vectorizer = TfidfVectorizer()\n",
    "X = vectorizer.fit_transform(data)\n",
    "\n",
    "\n",
    "from sklearn.manifold import TSNE\n",
    "# call TSNE() to fit the data\n",
    "\n",
    "tsne = TSNE(n_components=2, verbose=1, random_state=64)\n",
    "Xt = tsne.fit_transform(X)\n",
    "\n",
    "import matplotlib.pyplot as plt\n",
    "import seaborn as sns\n",
    "\n",
    "fig,ax = plt.subplots(figsize=(10,8))\n",
    "\n",
    "hue = [1] * 12 + [2] * 13 + [3] * 12 + [4] * 8\n",
    "\n",
    "sns.scatterplot(Xt[:,0], Xt[:,1], data=Xt, hue = hue, palette=\"colorblind\", s=100)\n",
    "for i, val in enumerate(Xt):\n",
    "    plt.annotate(i, (val[0], val[1] + 6))"
   ]
  },
  {
   "cell_type": "markdown",
   "metadata": {
    "id": "dYcEi1EC_UGO"
   },
   "source": [
    "**Question:** Comment about the categorizion done by T-SNE. Do the articles of related topics cluster together? (5 points)"
   ]
  },
  {
   "cell_type": "markdown",
   "metadata": {
    "id": "tde1Wu5HI6AA"
   },
   "source": [
    "**Answer(1-3 sentences):**  \n",
    "  \n"
   ]
  },
  {
   "cell_type": "markdown",
   "metadata": {},
   "source": [
    "A high-dimensional data visualization technique is called t-SNE. By transforming similarities between data points to joint probabilities, it aims to decrease the Kullback-Leibler divergence between the joint probabilities of the low-dimensional embedding and the high-dimensional data.\n",
    "\n",
    "By dividing high-dimensional document vectors into two dimensions and using probability distributions from both the original dimensionality and the decomposed dimensionality, t-SNE effectively clusters related documents.\n",
    "\n",
    "\n",
    "\n",
    "T-SNE can group documents belonging to the same category together. Four sorts of papers were included in the aforementioned categorisation. 1. Disease 2. Data Science 3. Sports 4. Music 5.Data Science. Each category had between 10 and 12 items. Each hue in the aforementioned plot stands for a specific category."
   ]
  },
  {
   "cell_type": "markdown",
   "metadata": {
    "id": "U2xrJddIpSsd"
   },
   "source": [
    "# Question 3. Building Multinomial Naive Bayes and Neural Networks on Countvectors\n",
    "\n",
    "### We are gonna use Disaster Tweets Datasset for this task. We need to Predict which Tweets are about real disasters and which ones are not.\n",
    "\n",
    "### We are providing data.csv file along with this notebook. "
   ]
  },
  {
   "cell_type": "markdown",
   "metadata": {
    "id": "NJYmVbkvphgX"
   },
   "source": [
    "### Library Imports and Utility functions"
   ]
  },
  {
   "cell_type": "code",
   "execution_count": 27,
   "metadata": {
    "id": "BO-HU-7uorVX"
   },
   "outputs": [
    {
     "name": "stderr",
     "output_type": "stream",
     "text": [
      "[nltk_data] Downloading package stopwords to\n",
      "[nltk_data]     C:\\Users\\bayan\\AppData\\Roaming\\nltk_data...\n",
      "[nltk_data]   Package stopwords is already up-to-date!\n",
      "[nltk_data] Downloading package wordnet to\n",
      "[nltk_data]     C:\\Users\\bayan\\AppData\\Roaming\\nltk_data...\n",
      "[nltk_data]   Package wordnet is already up-to-date!\n",
      "[nltk_data] Downloading package words to\n",
      "[nltk_data]     C:\\Users\\bayan\\AppData\\Roaming\\nltk_data...\n",
      "[nltk_data]   Package words is already up-to-date!\n"
     ]
    }
   ],
   "source": [
    "from sklearn.feature_extraction.text import CountVectorizer\n",
    "from sklearn.feature_extraction.text import TfidfVectorizer\n",
    "import nltk\n",
    "from nltk.corpus import stopwords\n",
    "from nltk.stem import PorterStemmer\n",
    "from nltk.tokenize import word_tokenize\n",
    "import string\n",
    "import pandas as pd\n",
    "import re\n",
    "#string.punctuation\n",
    "import nltk\n",
    "nltk.download('stopwords')\n",
    "nltk.download('wordnet')\n",
    "nltk.download('words')\n",
    "\n",
    "stopword = nltk.corpus.stopwords.words('english')\n",
    "wn = nltk.WordNetLemmatizer()\n",
    "ps = nltk.PorterStemmer()\n",
    "words = set(nltk.corpus.words.words())\n",
    "\n",
    "\n",
    "def clean_text(text):\n",
    "  # From the last assignment\n",
    "    text = text.lower()\n",
    "    text = re.sub(r\"http\\S+\", \"\", text)\n",
    "    text = re.sub(r\"www.\\S+\", \"\", text)\n",
    "    text_links_removed = \"\".join([char for char in text if char not in string.punctuation])\n",
    "    text_cleaned = \" \".join([word for word in re.split('\\W+', text_links_removed)\n",
    "        if word not in stopword])\n",
    "    text = \" \".join([wn.lemmatize(word) for word in re.split('\\W+', text_cleaned)])\n",
    "    return text"
   ]
  },
  {
   "cell_type": "markdown",
   "metadata": {
    "id": "B0D5wVjZw7s0"
   },
   "source": [
    "### Q) Importing the datasets and do the necessary cleaning and convert the text into the vectors which are mentioned in the below code blocks. (10 points)"
   ]
  },
  {
   "cell_type": "code",
   "execution_count": 28,
   "metadata": {
    "id": "MOMhmIlGprK9"
   },
   "outputs": [
    {
     "name": "stdout",
     "output_type": "stream",
     "text": [
      "Shape of Dataset:  (7613, 2)\n"
     ]
    }
   ],
   "source": [
    "# Import the data.csv only use 'text' and 'target' columns\n",
    "df = pd.read_csv(\"C:\\\\Datasets\\\\data.csv\",header = 0, usecols=[3,4])\n",
    "print(\"Shape of Dataset: \", df.shape)\n",
    "# data\n",
    "\n",
    "# and printout the train.shape and validation.shape \n",
    "\n",
    "# expected shape of dataset is (7613, 2)"
   ]
  },
  {
   "cell_type": "code",
   "execution_count": 29,
   "metadata": {
    "id": "PS7K3p7AqAI8"
   },
   "outputs": [],
   "source": [
    "# clean the text in the dataframe using the clean_text function provided above\n",
    "df['text'] = df['text'].apply(clean_text)\n"
   ]
  },
  {
   "cell_type": "code",
   "execution_count": 30,
   "metadata": {
    "id": "GxZC6RIjq3bu"
   },
   "outputs": [],
   "source": [
    "# initialise count vectorizer from sklearn module with default parameter\n",
    "cv = CountVectorizer()\n",
    "# fit and transform on dataset\n",
    "X_cv = cv.fit_transform(df['text'])\n",
    "X_cv = X_cv.toarray()"
   ]
  },
  {
   "cell_type": "code",
   "execution_count": 31,
   "metadata": {
    "id": "OPLJgROsP0Mj"
   },
   "outputs": [],
   "source": [
    "# get the values of target column\n",
    "\n",
    "y = df.target.values"
   ]
  },
  {
   "cell_type": "markdown",
   "metadata": {
    "id": "xjsiH8YOw-Da"
   },
   "source": [
    "### Q) Build the neural networks using tensorflow keras by following the below instructions. Evaluate the model on different metrics and comment your observations. (15 points)"
   ]
  },
  {
   "cell_type": "code",
   "execution_count": 32,
   "metadata": {},
   "outputs": [
    {
     "name": "stdout",
     "output_type": "stream",
     "text": [
      "Requirement already satisfied: tensorflow in c:\\users\\bayan\\anaconda3\\lib\\site-packages (2.10.0)\n",
      "Requirement already satisfied: libclang>=13.0.0 in c:\\users\\bayan\\anaconda3\\lib\\site-packages (from tensorflow) (14.0.6)\n",
      "Requirement already satisfied: grpcio<2.0,>=1.24.3 in c:\\users\\bayan\\anaconda3\\lib\\site-packages (from tensorflow) (1.42.0)\n",
      "Requirement already satisfied: tensorflow-io-gcs-filesystem>=0.23.1 in c:\\users\\bayan\\anaconda3\\lib\\site-packages (from tensorflow) (0.27.0)\n",
      "Requirement already satisfied: setuptools in c:\\users\\bayan\\anaconda3\\lib\\site-packages (from tensorflow) (61.2.0)\n",
      "Requirement already satisfied: gast<=0.4.0,>=0.2.1 in c:\\users\\bayan\\anaconda3\\lib\\site-packages (from tensorflow) (0.4.0)\n",
      "Requirement already satisfied: wrapt>=1.11.0 in c:\\users\\bayan\\anaconda3\\lib\\site-packages (from tensorflow) (1.12.1)\n",
      "Requirement already satisfied: google-pasta>=0.1.1 in c:\\users\\bayan\\anaconda3\\lib\\site-packages (from tensorflow) (0.2.0)\n",
      "Requirement already satisfied: protobuf<3.20,>=3.9.2 in c:\\users\\bayan\\anaconda3\\lib\\site-packages (from tensorflow) (3.19.1)\n",
      "Requirement already satisfied: termcolor>=1.1.0 in c:\\users\\bayan\\anaconda3\\lib\\site-packages (from tensorflow) (2.0.1)\n",
      "Requirement already satisfied: numpy>=1.20 in c:\\users\\bayan\\anaconda3\\lib\\site-packages (from tensorflow) (1.21.5)\n",
      "Requirement already satisfied: tensorboard<2.11,>=2.10 in c:\\users\\bayan\\anaconda3\\lib\\site-packages (from tensorflow) (2.10.1)\n",
      "Requirement already satisfied: six>=1.12.0 in c:\\users\\bayan\\anaconda3\\lib\\site-packages (from tensorflow) (1.16.0)\n",
      "Requirement already satisfied: astunparse>=1.6.0 in c:\\users\\bayan\\anaconda3\\lib\\site-packages (from tensorflow) (1.6.3)\n",
      "Requirement already satisfied: opt-einsum>=2.3.2 in c:\\users\\bayan\\anaconda3\\lib\\site-packages (from tensorflow) (3.3.0)\n",
      "Requirement already satisfied: keras-preprocessing>=1.1.1 in c:\\users\\bayan\\anaconda3\\lib\\site-packages (from tensorflow) (1.1.2)\n",
      "Requirement already satisfied: h5py>=2.9.0 in c:\\users\\bayan\\anaconda3\\lib\\site-packages (from tensorflow) (3.6.0)\n",
      "Requirement already satisfied: flatbuffers>=2.0 in c:\\users\\bayan\\anaconda3\\lib\\site-packages (from tensorflow) (22.9.24)\n",
      "Requirement already satisfied: tensorflow-estimator<2.11,>=2.10.0 in c:\\users\\bayan\\anaconda3\\lib\\site-packages (from tensorflow) (2.10.0)\n",
      "Requirement already satisfied: packaging in c:\\users\\bayan\\anaconda3\\lib\\site-packages (from tensorflow) (21.3)\n",
      "Requirement already satisfied: typing-extensions>=3.6.6 in c:\\users\\bayan\\anaconda3\\lib\\site-packages (from tensorflow) (4.1.1)\n",
      "Requirement already satisfied: absl-py>=1.0.0 in c:\\users\\bayan\\anaconda3\\lib\\site-packages (from tensorflow) (1.3.0)\n",
      "Requirement already satisfied: keras<2.11,>=2.10.0 in c:\\users\\bayan\\anaconda3\\lib\\site-packages (from tensorflow) (2.10.0)\n",
      "Requirement already satisfied: wheel<1.0,>=0.23.0 in c:\\users\\bayan\\anaconda3\\lib\\site-packages (from astunparse>=1.6.0->tensorflow) (0.37.1)\n",
      "Requirement already satisfied: google-auth-oauthlib<0.5,>=0.4.1 in c:\\users\\bayan\\anaconda3\\lib\\site-packages (from tensorboard<2.11,>=2.10->tensorflow) (0.4.6)\n",
      "Requirement already satisfied: markdown>=2.6.8 in c:\\users\\bayan\\anaconda3\\lib\\site-packages (from tensorboard<2.11,>=2.10->tensorflow) (3.3.4)\n",
      "Requirement already satisfied: google-auth<3,>=1.6.3 in c:\\users\\bayan\\anaconda3\\lib\\site-packages (from tensorboard<2.11,>=2.10->tensorflow) (1.33.0)\n",
      "Requirement already satisfied: requests<3,>=2.21.0 in c:\\users\\bayan\\anaconda3\\lib\\site-packages (from tensorboard<2.11,>=2.10->tensorflow) (2.27.1)\n",
      "Requirement already satisfied: tensorboard-data-server<0.7.0,>=0.6.0 in c:\\users\\bayan\\anaconda3\\lib\\site-packages (from tensorboard<2.11,>=2.10->tensorflow) (0.6.1)\n",
      "Requirement already satisfied: werkzeug>=1.0.1 in c:\\users\\bayan\\anaconda3\\lib\\site-packages (from tensorboard<2.11,>=2.10->tensorflow) (2.0.3)\n",
      "Requirement already satisfied: tensorboard-plugin-wit>=1.6.0 in c:\\users\\bayan\\anaconda3\\lib\\site-packages (from tensorboard<2.11,>=2.10->tensorflow) (1.8.1)\n",
      "Requirement already satisfied: pyasn1-modules>=0.2.1 in c:\\users\\bayan\\anaconda3\\lib\\site-packages (from google-auth<3,>=1.6.3->tensorboard<2.11,>=2.10->tensorflow) (0.2.8)\n",
      "Requirement already satisfied: rsa<5,>=3.1.4 in c:\\users\\bayan\\anaconda3\\lib\\site-packages (from google-auth<3,>=1.6.3->tensorboard<2.11,>=2.10->tensorflow) (4.7.2)\n",
      "Requirement already satisfied: cachetools<5.0,>=2.0.0 in c:\\users\\bayan\\anaconda3\\lib\\site-packages (from google-auth<3,>=1.6.3->tensorboard<2.11,>=2.10->tensorflow) (4.2.2)\n",
      "Requirement already satisfied: requests-oauthlib>=0.7.0 in c:\\users\\bayan\\anaconda3\\lib\\site-packages (from google-auth-oauthlib<0.5,>=0.4.1->tensorboard<2.11,>=2.10->tensorflow) (1.3.1)\n",
      "Requirement already satisfied: pyasn1<0.5.0,>=0.4.6 in c:\\users\\bayan\\anaconda3\\lib\\site-packages (from pyasn1-modules>=0.2.1->google-auth<3,>=1.6.3->tensorboard<2.11,>=2.10->tensorflow) (0.4.8)\n",
      "Requirement already satisfied: certifi>=2017.4.17 in c:\\users\\bayan\\anaconda3\\lib\\site-packages (from requests<3,>=2.21.0->tensorboard<2.11,>=2.10->tensorflow) (2021.10.8)\n",
      "Requirement already satisfied: idna<4,>=2.5 in c:\\users\\bayan\\anaconda3\\lib\\site-packages (from requests<3,>=2.21.0->tensorboard<2.11,>=2.10->tensorflow) (3.3)\n",
      "Requirement already satisfied: urllib3<1.27,>=1.21.1 in c:\\users\\bayan\\anaconda3\\lib\\site-packages (from requests<3,>=2.21.0->tensorboard<2.11,>=2.10->tensorflow) (1.26.9)\n",
      "Requirement already satisfied: charset-normalizer~=2.0.0 in c:\\users\\bayan\\anaconda3\\lib\\site-packages (from requests<3,>=2.21.0->tensorboard<2.11,>=2.10->tensorflow) (2.0.4)\n",
      "Requirement already satisfied: oauthlib>=3.0.0 in c:\\users\\bayan\\anaconda3\\lib\\site-packages (from requests-oauthlib>=0.7.0->google-auth-oauthlib<0.5,>=0.4.1->tensorboard<2.11,>=2.10->tensorflow) (3.2.2)\n",
      "Requirement already satisfied: pyparsing!=3.0.5,>=2.0.2 in c:\\users\\bayan\\anaconda3\\lib\\site-packages (from packaging->tensorflow) (3.0.4)\n"
     ]
    }
   ],
   "source": [
    "!pip3 install tensorflow"
   ]
  },
  {
   "cell_type": "code",
   "execution_count": 33,
   "metadata": {
    "id": "AQg14bkTq3KB"
   },
   "outputs": [],
   "source": [
    "import tensorflow as tf\n",
    "from tensorflow.keras import regularizers\n",
    "\n",
    "tf.random.set_seed(42)\n",
    "\n",
    "\n",
    "# complete this linear model in tensorflow\n",
    "def build_model(X):\n",
    "\n",
    "    # layer 1 : input layer\n",
    "    inp = tf.keras.Input((X.shape[1],))\n",
    "    \n",
    "    # layer 2 : add the dense layer with 64 units and relu activation\n",
    "    x = tf.keras.layers.Dense(2048, input_dim = X.shape[1] , activation = 'relu')(inp)\n",
    "\n",
    "    # layer 3 : add the dropout layer with dropout rate of 0.5\n",
    "    x = tf.keras.layers.Dropout(.5)(x)\n",
    "  \n",
    "    # layer 4 : add the dense layer with 32 units with tanh activation and with l2 regularization\n",
    "    x = tf.keras.layers.Dense(32, activation = 'tanh', kernel_regularizer=regularizers.l2(0.001))(x)\n",
    "\n",
    "    # layer 5 : add the dropout layer with dropout rate of 0.5\n",
    "    x = tf.keras.layers.Dropout(.5)(x)\n",
    "\n",
    "    # layer 6 : add the dense layer with 16 units with tanh activation and with l2 regularization\n",
    "    x = tf.keras.layers.Dense(16, activation = 'tanh', kernel_regularizer=regularizers.l2(0.001))(x)\n",
    "\n",
    "    # layer 7 : add the dropout layer with dropout rate of 0.5\n",
    "    x = tf.keras.layers.Dropout(.5)(x)\n",
    "\n",
    "    # layer 8 : output layer with units equal to 1 and activation as sigmoid\n",
    "    x = tf.keras.layers.Dense(1, activation = 'sigmoid')(x)\n",
    "\n",
    "    # use loss as binary crossentropy, optimizer as rmsprop and evaluate model on auc \n",
    "    model = tf.keras.Model(inp, x)\n",
    "\n",
    "    model.compile(loss='binary_crossentropy', optimizer=tf.keras.optimizers.RMSprop(), metrics = [tf.keras.metrics.AUC(), 'accuracy'])\n",
    "\n",
    "    return model\n"
   ]
  },
  {
   "cell_type": "code",
   "execution_count": 34,
   "metadata": {
    "id": "Q71CC1pIsx0O"
   },
   "outputs": [
    {
     "name": "stdout",
     "output_type": "stream",
     "text": [
      "Epoch 1/5\n",
      "381/381 [==============================] - 121s 316ms/step - loss: 0.6038 - auc: 0.8001 - accuracy: 0.7511 - val_loss: 0.5193 - val_auc: 0.8573 - val_accuracy: 0.7814\n",
      "Epoch 2/5\n",
      "381/381 [==============================] - 105s 276ms/step - loss: 0.4342 - auc: 0.8957 - accuracy: 0.8507 - val_loss: 0.5000 - val_auc: 0.8551 - val_accuracy: 0.8089\n",
      "Epoch 3/5\n",
      "381/381 [==============================] - 109s 286ms/step - loss: 0.3684 - auc: 0.9199 - accuracy: 0.8762 - val_loss: 0.5216 - val_auc: 0.8580 - val_accuracy: 0.8024\n",
      "Epoch 4/5\n",
      "381/381 [==============================] - 106s 278ms/step - loss: 0.3409 - auc: 0.9287 - accuracy: 0.8897 - val_loss: 0.5305 - val_auc: 0.8547 - val_accuracy: 0.8089\n",
      "Epoch 5/5\n",
      "381/381 [==============================] - 104s 272ms/step - loss: 0.3194 - auc: 0.9348 - accuracy: 0.8990 - val_loss: 0.5318 - val_auc: 0.8532 - val_accuracy: 0.8135\n"
     ]
    },
    {
     "data": {
      "image/png": "[encoded data removed]",
      "text/plain": [
       "<Figure size 432x288 with 1 Axes>"
      ]
     },
     "metadata": {
      "needs_background": "light"
     },
     "output_type": "display_data"
    },
    {
     "name": "stdout",
     "output_type": "stream",
     "text": [
      "Epoch 1/5\n",
      "381/381 [==============================] - 107s 280ms/step - loss: 0.5972 - auc_1: 0.8045 - accuracy: 0.7530 - val_loss: 0.4970 - val_auc_1: 0.8608 - val_accuracy: 0.8083\n",
      "Epoch 2/5\n",
      "381/381 [==============================] - 101s 266ms/step - loss: 0.4279 - auc_1: 0.8988 - accuracy: 0.8512 - val_loss: 0.4938 - val_auc_1: 0.8615 - val_accuracy: 0.8083\n",
      "Epoch 3/5\n",
      "381/381 [==============================] - 199s 524ms/step - loss: 0.3666 - auc_1: 0.9204 - accuracy: 0.8752 - val_loss: 0.5036 - val_auc_1: 0.8624 - val_accuracy: 0.8063\n",
      "Epoch 4/5\n",
      "381/381 [==============================] - 216s 566ms/step - loss: 0.3392 - auc_1: 0.9290 - accuracy: 0.8910 - val_loss: 0.5189 - val_auc_1: 0.8595 - val_accuracy: 0.8050\n",
      "Epoch 5/5\n",
      "381/381 [==============================] - 216s 568ms/step - loss: 0.3175 - auc_1: 0.9345 - accuracy: 0.8984 - val_loss: 0.5358 - val_auc_1: 0.8607 - val_accuracy: 0.8056\n"
     ]
    },
    {
     "data": {
      "image/png": "[encoded data removed]",
      "text/plain": [
       "<Figure size 432x288 with 1 Axes>"
      ]
     },
     "metadata": {
      "needs_background": "light"
     },
     "output_type": "display_data"
    },
    {
     "name": "stdout",
     "output_type": "stream",
     "text": [
      "Epoch 1/5\n",
      "381/381 [==============================] - 210s 535ms/step - loss: 0.6007 - auc_2: 0.8019 - accuracy: 0.7461 - val_loss: 0.5428 - val_auc_2: 0.8400 - val_accuracy: 0.7866\n",
      "Epoch 2/5\n",
      "381/381 [==============================] - 201s 529ms/step - loss: 0.4283 - auc_2: 0.9018 - accuracy: 0.8502 - val_loss: 0.5325 - val_auc_2: 0.8437 - val_accuracy: 0.7938\n",
      "Epoch 3/5\n",
      "381/381 [==============================] - 189s 495ms/step - loss: 0.3702 - auc_2: 0.9202 - accuracy: 0.8783 - val_loss: 0.5715 - val_auc_2: 0.8421 - val_accuracy: 0.7905\n",
      "Epoch 4/5\n",
      "381/381 [==============================] - 212s 555ms/step - loss: 0.3365 - auc_2: 0.9318 - accuracy: 0.8923 - val_loss: 0.6009 - val_auc_2: 0.8428 - val_accuracy: 0.7879\n",
      "Epoch 5/5\n",
      "381/381 [==============================] - 206s 539ms/step - loss: 0.3150 - auc_2: 0.9381 - accuracy: 0.9007 - val_loss: 0.5792 - val_auc_2: 0.8410 - val_accuracy: 0.7965\n"
     ]
    },
    {
     "data": {
      "image/png": "[encoded data removed]",
      "text/plain": [
       "<Figure size 432x288 with 1 Axes>"
      ]
     },
     "metadata": {
      "needs_background": "light"
     },
     "output_type": "display_data"
    },
    {
     "name": "stdout",
     "output_type": "stream",
     "text": [
      "Epoch 1/5\n",
      "381/381 [==============================] - 207s 531ms/step - loss: 0.6034 - auc_3: 0.8037 - accuracy: 0.7496 - val_loss: 0.5222 - val_auc_3: 0.8541 - val_accuracy: 0.8029\n",
      "Epoch 2/5\n",
      "381/381 [==============================] - 210s 551ms/step - loss: 0.4336 - auc_3: 0.8974 - accuracy: 0.8501 - val_loss: 0.5246 - val_auc_3: 0.8528 - val_accuracy: 0.8035\n",
      "Epoch 3/5\n",
      "381/381 [==============================] - 211s 554ms/step - loss: 0.3710 - auc_3: 0.9211 - accuracy: 0.8760 - val_loss: 0.5040 - val_auc_3: 0.8565 - val_accuracy: 0.8075\n",
      "Epoch 4/5\n",
      "381/381 [==============================] - 209s 550ms/step - loss: 0.3413 - auc_3: 0.9295 - accuracy: 0.8889 - val_loss: 0.5300 - val_auc_3: 0.8579 - val_accuracy: 0.8088\n",
      "Epoch 5/5\n",
      "381/381 [==============================] - 207s 544ms/step - loss: 0.3183 - auc_3: 0.9368 - accuracy: 0.8979 - val_loss: 0.5335 - val_auc_3: 0.8564 - val_accuracy: 0.8068\n"
     ]
    },
    {
     "data": {
      "image/png": "[encoded data removed]",
      "text/plain": [
       "<Figure size 432x288 with 1 Axes>"
      ]
     },
     "metadata": {
      "needs_background": "light"
     },
     "output_type": "display_data"
    },
    {
     "name": "stdout",
     "output_type": "stream",
     "text": [
      "Epoch 1/5\n",
      "381/381 [==============================] - 222s 569ms/step - loss: 0.6029 - auc_4: 0.7976 - accuracy: 0.7445 - val_loss: 0.5132 - val_auc_4: 0.8570 - val_accuracy: 0.7983\n",
      "Epoch 2/5\n",
      "381/381 [==============================] - 202s 531ms/step - loss: 0.4250 - auc_4: 0.9012 - accuracy: 0.8508 - val_loss: 0.5076 - val_auc_4: 0.8589 - val_accuracy: 0.8003\n",
      "Epoch 3/5\n",
      "381/381 [==============================] - 199s 523ms/step - loss: 0.3728 - auc_4: 0.9185 - accuracy: 0.8767 - val_loss: 0.5234 - val_auc_4: 0.8574 - val_accuracy: 0.8029\n",
      "Epoch 4/5\n",
      "381/381 [==============================] - 209s 549ms/step - loss: 0.3376 - auc_4: 0.9305 - accuracy: 0.8895 - val_loss: 0.5199 - val_auc_4: 0.8565 - val_accuracy: 0.8114\n",
      "Epoch 5/5\n",
      "381/381 [==============================] - 198s 521ms/step - loss: 0.3144 - auc_4: 0.9379 - accuracy: 0.8984 - val_loss: 0.5262 - val_auc_4: 0.8578 - val_accuracy: 0.8042\n"
     ]
    },
    {
     "data": {
      "image/png": "[encoded data removed]",
      "text/plain": [
       "<Figure size 432x288 with 1 Axes>"
      ]
     },
     "metadata": {
      "needs_background": "light"
     },
     "output_type": "display_data"
    }
   ],
   "source": [
    "# Now we will initialise the stratified K-Fold from sklearn with nsplits as 5\n",
    "from sklearn.model_selection import StratifiedKFold\n",
    "import matplotlib.pyplot as plt\n",
    "\n",
    "skf = StratifiedKFold(n_splits=5, shuffle=True, random_state=1)\n",
    "\n",
    "# Now Split the countvectors and target (y)\n",
    "splits = skf.split(X_cv, y)\n",
    "\n",
    "# iterate through the train and valid index in splits for 5 folds\n",
    "for train, valid in splits:\n",
    "\n",
    "  # Get X_train, X_valid, y_train, y_valid using indexes\n",
    "    X_train, X_valid = X_cv[train], X_cv[valid]\n",
    "    y_train, y_valid = y[train], y[valid]\n",
    "  \n",
    "  #call the build_model function and initialize the model\n",
    "    model = build_model(X_train)\n",
    "\n",
    "  # train and validate the model on the count vectors of text which we have created initially for 5 epochs, \n",
    "  # adjust batch size according to your computation power (suggestion use : 16)\n",
    "    history = model.fit(X_train, y_train, batch_size=16, epochs=5, validation_data=(X_valid, y_valid))\n",
    "    # plot the graph between training auc and validation auc\n",
    "    plt.plot(history.history['accuracy'])\n",
    "    plt.plot(history.history['val_accuracy'])\n",
    "    plt.title('Model AUC')\n",
    "    plt.ylabel('auc')\n",
    "    plt.xlabel('epoch')\n",
    "    plt.legend(['train', 'validation'], loc='upper left')\n",
    "    plt.show()\n",
    "  \n",
    "\n",
    "  \n"
   ]
  },
  {
   "cell_type": "markdown",
   "metadata": {
    "id": "7ZZKV7OTVKNG"
   },
   "source": [
    "### Q) Comment on the plots. How did it varied across different folds for neural networks?\n",
    "\n",
    "\n",
    "We can observe from the loss plot that the model performs similarly on the train dataset and the validation dataset. It might be a sign to terminate training at a previous epoch if these parallel plots begin to diverge consistently. As a result, each epoch saw a significant rise in the values of accuracy, area under the curve, precision, and recall. "
   ]
  },
  {
   "cell_type": "markdown",
   "metadata": {
    "id": "Z9NCC6iWVH3z"
   },
   "source": [
    "# Building Multinomial Navie Bayes on Countvectors"
   ]
  },
  {
   "cell_type": "code",
   "execution_count": 36,
   "metadata": {
    "id": "KyAZNgsBsxwo"
   },
   "outputs": [
    {
     "data": {
      "image/png": "[encoded data removed]",
      "text/plain": [
       "<Figure size 432x288 with 1 Axes>"
      ]
     },
     "metadata": {
      "needs_background": "light"
     },
     "output_type": "display_data"
    },
    {
     "data": {
      "image/png": "[encoded data removed]",
      "text/plain": [
       "<Figure size 432x288 with 1 Axes>"
      ]
     },
     "metadata": {
      "needs_background": "light"
     },
     "output_type": "display_data"
    },
    {
     "data": {
      "image/png": "[encoded data removed]",
      "text/plain": [
       "<Figure size 432x288 with 1 Axes>"
      ]
     },
     "metadata": {
      "needs_background": "light"
     },
     "output_type": "display_data"
    },
    {
     "data": {
      "image/png": "[encoded data removed]",
      "text/plain": [
       "<Figure size 432x288 with 1 Axes>"
      ]
     },
     "metadata": {
      "needs_background": "light"
     },
     "output_type": "display_data"
    },
    {
     "data": {
      "image/png": "[encoded data removed]",
      "text/plain": [
       "<Figure size 432x288 with 1 Axes>"
      ]
     },
     "metadata": {
      "needs_background": "light"
     },
     "output_type": "display_data"
    }
   ],
   "source": [
    "from sklearn.naive_bayes import MultinomialNB\n",
    "from sklearn.metrics import plot_roc_curve\n",
    "\n",
    "\n",
    "skf = StratifiedKFold(n_splits=5, shuffle=True, random_state=1)\n",
    "\n",
    "# Now Split the countvectors and target 👍\n",
    "splits = skf.split(X_cv, y)\n",
    "\n",
    "# iterate through the train and valid index in splits for 5 folds. Use the splits created above.\n",
    "for trainNb, validNb in splits:\n",
    "  # Get X_train, X_valid, y_train, y_valid using indexes\n",
    "    X_train, X_valid = X_cv[trainNb], X_cv[validNb]\n",
    "    y_train, y_valid = y[trainNb], y[validNb]\n",
    "  # intialise multinomial navie bayes with default parameters\n",
    "    model = MultinomialNB()\n",
    "  \n",
    "  # fit the data\n",
    "    model.fit(X_train,y_train)\n",
    "    plot_roc_curve(model,X_valid,y_valid)\n",
    "\n",
    "  # plot AUC-ROC curve for validation data\n",
    "  "
   ]
  },
  {
   "cell_type": "markdown",
   "metadata": {
    "id": "2eOdlcXOWRj6"
   },
   "source": [
    "### Q) Comment on the plots. How did it varied across different folds for Multinomial Naive Bayes?"
   ]
  },
  {
   "cell_type": "markdown",
   "metadata": {
    "id": "4adDDQWeQyGb"
   },
   "source": [
    "## Question 4 Theory Question  \n",
    "\n",
    "What is the difference between Count Vectorizer, TFIDF, Word2Vec and Glove? (5 points)"
   ]
  },
  {
   "cell_type": "markdown",
   "metadata": {
    "id": "cXTRkF6KRB_D"
   },
   "source": [
    "**Answer:**"
   ]
  },
  {
   "cell_type": "markdown",
   "metadata": {},
   "source": [
    "*CountVectorizer:*\n",
    "\n",
    "It is used to turn a given text into a vector based on the number of times (count) that each word appears across the full text. This is useful when we have several of these texts and want to turn each word into a vector (for use in further text analysis). Each text sample from the document is represented by a row in the matrix that is created by CountVectorizer, and each unique word is represented by a column of the matrix. TfidfVectorizer is what we utilize to get around this.\n",
    "\n",
    "*TfidfVectorizer:*\n",
    "\n",
    "Here, we take into account a word's entire document weight. It aids us in navigating the most common words. We can punish them with it. The word counts are weighted by a measure of how frequently they appear in the manuscript by TfidfVectorizer. It is a system of rating words that determines how significant a word is to a piece of writing. In order to successfully exclude common terms, TF-IDF highlights unusual words. Although it is technically far more elegant than setting hard cutoff thresholds, it is closely related to frequency-based filters.\n",
    "\n",
    "*Word2Vec:*\n",
    "\n",
    "For a neural network, texts are used as training data. Words that appear in comparable situations are captured by the ensuing embedding. It computes word embeddings depending on the context of the words using tiny neural networks. There are two ways to carry out this strategy. First, there is what is known as the continuous bag of words (CBOW). This strategy uses a neural network to determine which word, given the context, is most likely. It is possible to view words as having a common dimension if they are equally likely to appear. This method forecasts a comparable chance for both if we can swap out \"cat\" for \"dog\" in a sentence. We conclude that these words have comparable meanings on at least one level as a result. Skip-gram is the second strategy.The concept is extremely similar, except the network operates in the reverse direction.  \n",
    "\n",
    "*Glove:*\n",
    "\n",
    "It emphasizes word co-occurrences over the entire text. The likelihood that two words will appear together are related by its embeddings. It stresses the importance of knowing the frequency of co-occurrences and discourages using them as extra training examples. Instead, GloVe creates word embeddings so that a grouping of word vectors directly connects to the likelihood that these words will occur together in the corpus. In contrast to Word2Vec, the GloVe is not a trained model. Instead, its embeddings can be seen as a low-dimensional summary of the training corpus that highlights co-occurrences.\n",
    "\n",
    "Although tf-idf is a straightforward scoring technique, which is its main feature, from a practical usage perspective, word embeddings may be a preferable option for most projects where tf-idf is utilized, especially where the job may benefit from the semantic similarity recorded by word embeddings."
   ]
  },
  {
   "cell_type": "markdown",
   "metadata": {
    "id": "yQQsqcto79zE"
   },
   "source": [
    "What is the significant difference between the Niave Bayes Implementation using Bag of Words and TF-IDF? (5 points)"
   ]
  },
  {
   "cell_type": "markdown",
   "metadata": {
    "id": "JtiPCTZM8Aua"
   },
   "source": [
    "**Answer:**"
   ]
  },
  {
   "cell_type": "markdown",
   "metadata": {
    "id": "OaXBo1Bw8C1K"
   },
   "source": [
    "*Bag of Words:*\n",
    "\n",
    "An easy way to manage text data is by using Bag-of-Words. It functions in accordance with the word frequency score. By using this technique, a written document is converted into a collection of vectors that represent the number of times each word appears in the text. The disadvantage of this approach is that it masks the semantic meaning of the words. For instance, \"not bad\" and \"decent\" or \"good\" are semantically comparable. Separately, however, the terms \"not\" and \"bad\" arouse dislike. The feature space can be reduced using a variety of text processing techniques, such as stopword removal, stemming, etc. Bag-of-words has a disadvantage, though, in that it favors terms in the first stage solely based on counts. To get around this, the TF-IDF approach is presented as a straightforward variant of bag-of-words.\n",
    "\n",
    "\n",
    "*TF-IDF:*\n",
    "\n",
    "Both the more significant words and the less significant ones are covered. Each word count is normalized by dividing it by the number of documents in which the word appears. The total number of documents is \"N.\" Inverse document frequency is defined as (N / (# of documents in which word w appears)). The fundamental tenet of this method is that a word's inverse document frequency is 1 if it appears in all documents. In the same way, if a term only appears in a small number of documents, its inverse document frequency will be substantially larger than 1. In comparison to setting hard cutoff thresholds, it is mathematically far more elegant and is strongly related to frequency-based filters. It is crucial to employ various feature reduction techniques, such as stemming, part-of-speech, etc., when modeling an algorithm on the TF-IDF feature space in order to achieve an effective outcome. In machine learning models, TF-IDF hence works better and is more effective."
   ]
  },
  {
   "cell_type": "code",
   "execution_count": null,
   "metadata": {},
   "outputs": [],
   "source": []
  }
 ],
 "metadata": {
  "colab": {
   "collapsed_sections": [],
   "provenance": []
  },
  "kernelspec": {
   "display_name": "Python 3 (ipykernel)",
   "language": "python",
   "name": "python3"
  },
  "language_info": {
   "codemirror_mode": {
    "name": "ipython",
    "version": 3
   },
   "file_extension": ".py",
   "mimetype": "text/x-python",
   "name": "python",
   "nbconvert_exporter": "python",
   "pygments_lexer": "ipython3",
   "version": "3.9.12"
  }
 },
 "nbformat": 4,
 "nbformat_minor": 1
}
